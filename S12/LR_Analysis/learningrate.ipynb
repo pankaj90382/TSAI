{
 "cells": [
  {
   "cell_type": "code",
   "execution_count": 71,
   "metadata": {
    "collapsed": true
   },
   "outputs": [],
   "source": [
    "import json"
   ]
  },
  {
   "cell_type": "code",
   "execution_count": 72,
   "metadata": {
    "collapsed": false
   },
   "outputs": [],
   "source": [
    "with open('Model_LR_Finder_stats.json') as f:\n",
    "    y=json.load(f)"
   ]
  },
  {
   "cell_type": "code",
   "execution_count": 73,
   "metadata": {
    "collapsed": false
   },
   "outputs": [
    {
     "data": {
      "text/plain": [
       "dict_keys(['batch_train_samples', 'test_acc', 'batch_train_loss', 'batch_val_acc', 'best_test_loss', 'lr', 'avg_test_loss', 'batch_val_loss', 'batch_lr', 'avg_train_loss', 'batch_train_acc', 'val_samples_seen', 'train_acc', 'epochs'])"
      ]
     },
     "execution_count": 73,
     "metadata": {},
     "output_type": "execute_result"
    }
   ],
   "source": [
    "y.keys()"
   ]
  },
  {
   "cell_type": "code",
   "execution_count": 74,
   "metadata": {
    "collapsed": true
   },
   "outputs": [],
   "source": [
    "import pandas as pd"
   ]
  },
  {
   "cell_type": "code",
   "execution_count": 75,
   "metadata": {
    "collapsed": false
   },
   "outputs": [],
   "source": [
    "Batch_Data=pd.DataFrame.from_items(y, columns=['batch_train_samples', 'val_samples_seen', 'batch_train_loss', 'batch_val_acc', 'batch_val_loss', 'batch_lr', 'batch_train_acc'])"
   ]
  },
  {
   "cell_type": "code",
   "execution_count": 76,
   "metadata": {
    "collapsed": false
   },
   "outputs": [],
   "source": [
    "Batch_Data['batch_train_loss']=Batch_Data['batch_train_loss']/Batch_Data['batch_train_samples']\n",
    "#Batch_Data['batch_val_loss']=(Batch_Data['batch_val_loss']*Batch_Data['val_samples_seen'])/30000\n",
    "#Batch_Data['batch_val_acc']=(Batch_Data['batch_val_acc']*Batch_Data['val_samples_seen'])/30000\n",
    "Batch_Data['batch_train_acc']=Batch_Data['batch_train_acc']/Batch_Data['batch_train_samples']"
   ]
  },
  {
   "cell_type": "code",
   "execution_count": 77,
   "metadata": {
    "collapsed": false
   },
   "outputs": [
    {
     "data": {
      "text/plain": [
       "Index(['batch_train_samples', 'val_samples_seen', 'batch_train_loss',\n",
       "       'batch_val_acc', 'batch_val_loss', 'batch_lr', 'batch_train_acc'],\n",
       "      dtype='object')"
      ]
     },
     "execution_count": 77,
     "metadata": {},
     "output_type": "execute_result"
    }
   ],
   "source": [
    "Batch_Data.columns"
   ]
  },
  {
   "cell_type": "code",
   "execution_count": 78,
   "metadata": {
    "collapsed": true
   },
   "outputs": [],
   "source": [
    "Epoch_Data=pd.DataFrame.from_items(y, columns=['test_acc', 'lr', 'avg_test_loss', 'avg_train_loss','train_acc', 'epochs'])"
   ]
  },
  {
   "cell_type": "code",
   "execution_count": 79,
   "metadata": {
    "collapsed": false
   },
   "outputs": [
    {
     "data": {
      "text/html": [
       "<div>\n",
       "<table border=\"1\" class=\"dataframe\">\n",
       "  <thead>\n",
       "    <tr style=\"text-align: right;\">\n",
       "      <th></th>\n",
       "      <th>test_acc</th>\n",
       "      <th>lr</th>\n",
       "      <th>avg_test_loss</th>\n",
       "      <th>avg_train_loss</th>\n",
       "      <th>train_acc</th>\n",
       "      <th>epochs</th>\n",
       "    </tr>\n",
       "  </thead>\n",
       "  <tbody>\n",
       "    <tr>\n",
       "      <th>0</th>\n",
       "      <td>0.0115</td>\n",
       "      <td>0.021971</td>\n",
       "      <td>0.111119</td>\n",
       "      <td>0.010370</td>\n",
       "      <td>0.005786</td>\n",
       "      <td>4</td>\n",
       "    </tr>\n",
       "    <tr>\n",
       "      <th>1</th>\n",
       "      <td>0.0233</td>\n",
       "      <td>0.047996</td>\n",
       "      <td>0.104778</td>\n",
       "      <td>0.010095</td>\n",
       "      <td>0.014886</td>\n",
       "      <td>4</td>\n",
       "    </tr>\n",
       "    <tr>\n",
       "      <th>2</th>\n",
       "      <td>0.0373</td>\n",
       "      <td>0.104851</td>\n",
       "      <td>0.101829</td>\n",
       "      <td>0.009633</td>\n",
       "      <td>0.031557</td>\n",
       "      <td>4</td>\n",
       "    </tr>\n",
       "    <tr>\n",
       "      <th>3</th>\n",
       "      <td>0.0367</td>\n",
       "      <td>0.229055</td>\n",
       "      <td>0.100563</td>\n",
       "      <td>0.009874</td>\n",
       "      <td>0.022214</td>\n",
       "      <td>4</td>\n",
       "    </tr>\n",
       "  </tbody>\n",
       "</table>\n",
       "</div>"
      ],
      "text/plain": [
       "   test_acc        lr  avg_test_loss  avg_train_loss  train_acc  epochs\n",
       "0    0.0115  0.021971       0.111119        0.010370   0.005786       4\n",
       "1    0.0233  0.047996       0.104778        0.010095   0.014886       4\n",
       "2    0.0373  0.104851       0.101829        0.009633   0.031557       4\n",
       "3    0.0367  0.229055       0.100563        0.009874   0.022214       4"
      ]
     },
     "execution_count": 79,
     "metadata": {},
     "output_type": "execute_result"
    }
   ],
   "source": [
    "Epoch_Data"
   ]
  },
  {
   "cell_type": "code",
   "execution_count": 80,
   "metadata": {
    "collapsed": false
   },
   "outputs": [],
   "source": [
    "Total = Batch_Data.merge(Epoch_Data,left_on='batch_lr', right_on='lr', how='left')"
   ]
  },
  {
   "cell_type": "code",
   "execution_count": 81,
   "metadata": {
    "collapsed": false
   },
   "outputs": [],
   "source": [
    "Total.to_csv('Sample_lr.csv', index=False)"
   ]
  },
  {
   "cell_type": "code",
   "execution_count": 82,
   "metadata": {
    "collapsed": false
   },
   "outputs": [],
   "source": [
    "Total.fillna(method='ffill',inplace=True)"
   ]
  },
  {
   "cell_type": "code",
   "execution_count": 86,
   "metadata": {
    "collapsed": false
   },
   "outputs": [
    {
     "data": {
      "text/plain": [
       "[<matplotlib.lines.Line2D at 0x1c573082470>]"
      ]
     },
     "execution_count": 86,
     "metadata": {},
     "output_type": "execute_result"
    }
   ],
   "source": [
    "import matplotlib.pyplot as plt\n",
    "#plt.plot(Total['batch_lr'],Total['batch_train_loss'])\n",
    "#plt.plot(Total['batch_lr'],Total['batch_val_loss'])\n",
    "plt.plot(Total['batch_lr'],Total['avg_test_loss'])"
   ]
  },
  {
   "cell_type": "code",
   "execution_count": 87,
   "metadata": {
    "collapsed": false
   },
   "outputs": [
    {
     "data": {
      "image/png": "[encoded data removed]",
      "text/plain": [
       "<matplotlib.figure.Figure at 0x1c572b56d68>"
      ]
     },
     "metadata": {},
     "output_type": "display_data"
    }
   ],
   "source": [
    "plt.show()"
   ]
  },
  {
   "cell_type": "code",
   "execution_count": null,
   "metadata": {
    "collapsed": true
   },
   "outputs": [],
   "source": []
  }
 ],
 "metadata": {
  "anaconda-cloud": {},
  "kernelspec": {
   "display_name": "Python [conda env:Anaconda3]",
   "language": "python",
   "name": "conda-env-Anaconda3-py"
  },
  "language_info": {
   "codemirror_mode": {
    "name": "ipython",
    "version": 3
   },
   "file_extension": ".py",
   "mimetype": "text/x-python",
   "name": "python",
   "nbconvert_exporter": "python",
   "pygments_lexer": "ipython3",
   "version": "3.5.6"
  }
 },
 "nbformat": 4,
 "nbformat_minor": 1
}
