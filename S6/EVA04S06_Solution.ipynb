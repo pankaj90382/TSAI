{
  "nbformat": 4,
  "nbformat_minor": 0,
  "metadata": {
    "colab": {
      "name": "EVA04S06-Solution.ipynb",
      "provenance": [],
      "collapsed_sections": [],
      "toc_visible": true,
      "include_colab_link": true
    },
    "kernelspec": {
      "name": "python3",
      "display_name": "Python 3"
    },
    "accelerator": "GPU",
    "widgets": {
      "application/vnd.jupyter.widget-state+json": {
        "b1a0656a3e3d40e58c553472b0aca37b": {
          "model_module": "@jupyter-widgets/controls",
          "model_name": "HBoxModel",
          "state": {
            "_view_name": "HBoxView",
            "_dom_classes": [],
            "_model_name": "HBoxModel",
            "_view_module": "@jupyter-widgets/controls",
            "_model_module_version": "1.5.0",
            "_view_count": null,
            "_view_module_version": "1.5.0",
            "box_style": "",
            "layout": "IPY_MODEL_ad76307a11e944e6901cc5448ad5f461",
            "_model_module": "@jupyter-widgets/controls",
            "children": [
              "IPY_MODEL_4662850978b84a62b138c8e64c7e3ef4",
              "IPY_MODEL_92116deeff8140deb1c4aeb69c7bca8e"
            ]
          }
        },
        "ad76307a11e944e6901cc5448ad5f461": {
          "model_module": "@jupyter-widgets/base",
          "model_name": "LayoutModel",
          "state": {
            "_view_name": "LayoutView",
            "grid_template_rows": null,
            "right": null,
            "justify_content": null,
            "_view_module": "@jupyter-widgets/base",
            "overflow": null,
            "_model_module_version": "1.2.0",
            "_view_count": null,
            "flex_flow": null,
            "width": null,
            "min_width": null,
            "border": null,
            "align_items": null,
            "bottom": null,
            "_model_module": "@jupyter-widgets/base",
            "top": null,
            "grid_column": null,
            "overflow_y": null,
            "overflow_x": null,
            "grid_auto_flow": null,
            "grid_area": null,
            "grid_template_columns": null,
            "flex": null,
            "_model_name": "LayoutModel",
            "justify_items": null,
            "grid_row": null,
            "max_height": null,
            "align_content": null,
            "visibility": null,
            "align_self": null,
            "height": null,
            "min_height": null,
            "padding": null,
            "grid_auto_rows": null,
            "grid_gap": null,
            "max_width": null,
            "order": null,
            "_view_module_version": "1.2.0",
            "grid_template_areas": null,
            "object_position": null,
            "object_fit": null,
            "grid_auto_columns": null,
            "margin": null,
            "display": null,
            "left": null
          }
        },
        "4662850978b84a62b138c8e64c7e3ef4": {
          "model_module": "@jupyter-widgets/controls",
          "model_name": "IntProgressModel",
          "state": {
            "_view_name": "ProgressView",
            "style": "IPY_MODEL_ef88f85872184836b6f9f5ecbff8f48e",
            "_dom_classes": [],
            "description": "",
            "_model_name": "IntProgressModel",
            "bar_style": "success",
            "max": 1,
            "_view_module": "@jupyter-widgets/controls",
            "_model_module_version": "1.5.0",
            "value": 1,
            "_view_count": null,
            "_view_module_version": "1.5.0",
            "orientation": "horizontal",
            "min": 0,
            "description_tooltip": null,
            "_model_module": "@jupyter-widgets/controls",
            "layout": "IPY_MODEL_cc3b6f90aab44bd2a81308ffb76207bc"
          }
        },
        "92116deeff8140deb1c4aeb69c7bca8e": {
          "model_module": "@jupyter-widgets/controls",
          "model_name": "HTMLModel",
          "state": {
            "_view_name": "HTMLView",
            "style": "IPY_MODEL_823a6fb41c27487ab54057bd79989544",
            "_dom_classes": [],
            "description": "",
            "_model_name": "HTMLModel",
            "placeholder": "​",
            "_view_module": "@jupyter-widgets/controls",
            "_model_module_version": "1.5.0",
            "value": "9920512it [00:00, 10845091.14it/s]",
            "_view_count": null,
            "_view_module_version": "1.5.0",
            "description_tooltip": null,
            "_model_module": "@jupyter-widgets/controls",
            "layout": "IPY_MODEL_091e6328599f4a238d58de515315bdad"
          }
        },
        "ef88f85872184836b6f9f5ecbff8f48e": {
          "model_module": "@jupyter-widgets/controls",
          "model_name": "ProgressStyleModel",
          "state": {
            "_view_name": "StyleView",
            "_model_name": "ProgressStyleModel",
            "description_width": "",
            "_view_module": "@jupyter-widgets/base",
            "_model_module_version": "1.5.0",
            "_view_count": null,
            "_view_module_version": "1.2.0",
            "bar_color": null,
            "_model_module": "@jupyter-widgets/controls"
          }
        },
        "cc3b6f90aab44bd2a81308ffb76207bc": {
          "model_module": "@jupyter-widgets/base",
          "model_name": "LayoutModel",
          "state": {
            "_view_name": "LayoutView",
            "grid_template_rows": null,
            "right": null,
            "justify_content": null,
            "_view_module": "@jupyter-widgets/base",
            "overflow": null,
            "_model_module_version": "1.2.0",
            "_view_count": null,
            "flex_flow": null,
            "width": null,
            "min_width": null,
            "border": null,
            "align_items": null,
            "bottom": null,
            "_model_module": "@jupyter-widgets/base",
            "top": null,
            "grid_column": null,
            "overflow_y": null,
            "overflow_x": null,
            "grid_auto_flow": null,
            "grid_area": null,
            "grid_template_columns": null,
            "flex": null,
            "_model_name": "LayoutModel",
            "justify_items": null,
            "grid_row": null,
            "max_height": null,
            "align_content": null,
            "visibility": null,
            "align_self": null,
            "height": null,
            "min_height": null,
            "padding": null,
            "grid_auto_rows": null,
            "grid_gap": null,
            "max_width": null,
            "order": null,
            "_view_module_version": "1.2.0",
            "grid_template_areas": null,
            "object_position": null,
            "object_fit": null,
            "grid_auto_columns": null,
            "margin": null,
            "display": null,
            "left": null
          }
        },
        "823a6fb41c27487ab54057bd79989544": {
          "model_module": "@jupyter-widgets/controls",
          "model_name": "DescriptionStyleModel",
          "state": {
            "_view_name": "StyleView",
            "_model_name": "DescriptionStyleModel",
            "description_width": "",
            "_view_module": "@jupyter-widgets/base",
            "_model_module_version": "1.5.0",
            "_view_count": null,
            "_view_module_version": "1.2.0",
            "_model_module": "@jupyter-widgets/controls"
          }
        },
        "091e6328599f4a238d58de515315bdad": {
          "model_module": "@jupyter-widgets/base",
          "model_name": "LayoutModel",
          "state": {
            "_view_name": "LayoutView",
            "grid_template_rows": null,
            "right": null,
            "justify_content": null,
            "_view_module": "@jupyter-widgets/base",
            "overflow": null,
            "_model_module_version": "1.2.0",
            "_view_count": null,
            "flex_flow": null,
            "width": null,
            "min_width": null,
            "border": null,
            "align_items": null,
            "bottom": null,
            "_model_module": "@jupyter-widgets/base",
            "top": null,
            "grid_column": null,
            "overflow_y": null,
            "overflow_x": null,
            "grid_auto_flow": null,
            "grid_area": null,
            "grid_template_columns": null,
            "flex": null,
            "_model_name": "LayoutModel",
            "justify_items": null,
            "grid_row": null,
            "max_height": null,
            "align_content": null,
            "visibility": null,
            "align_self": null,
            "height": null,
            "min_height": null,
            "padding": null,
            "grid_auto_rows": null,
            "grid_gap": null,
            "max_width": null,
            "order": null,
            "_view_module_version": "1.2.0",
            "grid_template_areas": null,
            "object_position": null,
            "object_fit": null,
            "grid_auto_columns": null,
            "margin": null,
            "display": null,
            "left": null
          }
        },
        "f0073bc6ac034f85b0cb6614ea506e2a": {
          "model_module": "@jupyter-widgets/controls",
          "model_name": "HBoxModel",
          "state": {
            "_view_name": "HBoxView",
            "_dom_classes": [],
            "_model_name": "HBoxModel",
            "_view_module": "@jupyter-widgets/controls",
            "_model_module_version": "1.5.0",
            "_view_count": null,
            "_view_module_version": "1.5.0",
            "box_style": "",
            "layout": "IPY_MODEL_99490e866c3b4261b6b4a8aa0eaa239d",
            "_model_module": "@jupyter-widgets/controls",
            "children": [
              "IPY_MODEL_79e1c56b59834b50b6641940d90f6fee",
              "IPY_MODEL_2e927d6bdbaf483192d870a6e29f03a5"
            ]
          }
        },
        "99490e866c3b4261b6b4a8aa0eaa239d": {
          "model_module": "@jupyter-widgets/base",
          "model_name": "LayoutModel",
          "state": {
            "_view_name": "LayoutView",
            "grid_template_rows": null,
            "right": null,
            "justify_content": null,
            "_view_module": "@jupyter-widgets/base",
            "overflow": null,
            "_model_module_version": "1.2.0",
            "_view_count": null,
            "flex_flow": null,
            "width": null,
            "min_width": null,
            "border": null,
            "align_items": null,
            "bottom": null,
            "_model_module": "@jupyter-widgets/base",
            "top": null,
            "grid_column": null,
            "overflow_y": null,
            "overflow_x": null,
            "grid_auto_flow": null,
            "grid_area": null,
            "grid_template_columns": null,
            "flex": null,
            "_model_name": "LayoutModel",
            "justify_items": null,
            "grid_row": null,
            "max_height": null,
            "align_content": null,
            "visibility": null,
            "align_self": null,
            "height": null,
            "min_height": null,
            "padding": null,
            "grid_auto_rows": null,
            "grid_gap": null,
            "max_width": null,
            "order": null,
            "_view_module_version": "1.2.0",
            "grid_template_areas": null,
            "object_position": null,
            "object_fit": null,
            "grid_auto_columns": null,
            "margin": null,
            "display": null,
            "left": null
          }
        },
        "79e1c56b59834b50b6641940d90f6fee": {
          "model_module": "@jupyter-widgets/controls",
          "model_name": "IntProgressModel",
          "state": {
            "_view_name": "ProgressView",
            "style": "IPY_MODEL_6a6b0ea47f8c4e8abc5eb7c9e36da055",
            "_dom_classes": [],
            "description": "",
            "_model_name": "IntProgressModel",
            "bar_style": "success",
            "max": 1,
            "_view_module": "@jupyter-widgets/controls",
            "_model_module_version": "1.5.0",
            "value": 1,
            "_view_count": null,
            "_view_module_version": "1.5.0",
            "orientation": "horizontal",
            "min": 0,
            "description_tooltip": null,
            "_model_module": "@jupyter-widgets/controls",
            "layout": "IPY_MODEL_bdcdee53f5394986b29b889dca4eeae4"
          }
        },
        "2e927d6bdbaf483192d870a6e29f03a5": {
          "model_module": "@jupyter-widgets/controls",
          "model_name": "HTMLModel",
          "state": {
            "_view_name": "HTMLView",
            "style": "IPY_MODEL_1e725b630581413bbfbf2b3d518ac2aa",
            "_dom_classes": [],
            "description": "",
            "_model_name": "HTMLModel",
            "placeholder": "​",
            "_view_module": "@jupyter-widgets/controls",
            "_model_module_version": "1.5.0",
            "value": "32768it [00:00, 114436.43it/s]",
            "_view_count": null,
            "_view_module_version": "1.5.0",
            "description_tooltip": null,
            "_model_module": "@jupyter-widgets/controls",
            "layout": "IPY_MODEL_1108373c74874813ac50fe6a1c1c3828"
          }
        },
        "6a6b0ea47f8c4e8abc5eb7c9e36da055": {
          "model_module": "@jupyter-widgets/controls",
          "model_name": "ProgressStyleModel",
          "state": {
            "_view_name": "StyleView",
            "_model_name": "ProgressStyleModel",
            "description_width": "",
            "_view_module": "@jupyter-widgets/base",
            "_model_module_version": "1.5.0",
            "_view_count": null,
            "_view_module_version": "1.2.0",
            "bar_color": null,
            "_model_module": "@jupyter-widgets/controls"
          }
        },
        "bdcdee53f5394986b29b889dca4eeae4": {
          "model_module": "@jupyter-widgets/base",
          "model_name": "LayoutModel",
          "state": {
            "_view_name": "LayoutView",
            "grid_template_rows": null,
            "right": null,
            "justify_content": null,
            "_view_module": "@jupyter-widgets/base",
            "overflow": null,
            "_model_module_version": "1.2.0",
            "_view_count": null,
            "flex_flow": null,
            "width": null,
            "min_width": null,
            "border": null,
            "align_items": null,
            "bottom": null,
            "_model_module": "@jupyter-widgets/base",
            "top": null,
            "grid_column": null,
            "overflow_y": null,
            "overflow_x": null,
            "grid_auto_flow": null,
            "grid_area": null,
            "grid_template_columns": null,
            "flex": null,
            "_model_name": "LayoutModel",
            "justify_items": null,
            "grid_row": null,
            "max_height": null,
            "align_content": null,
            "visibility": null,
            "align_self": null,
            "height": null,
            "min_height": null,
            "padding": null,
            "grid_auto_rows": null,
            "grid_gap": null,
            "max_width": null,
            "order": null,
            "_view_module_version": "1.2.0",
            "grid_template_areas": null,
            "object_position": null,
            "object_fit": null,
            "grid_auto_columns": null,
            "margin": null,
            "display": null,
            "left": null
          }
        },
        "1e725b630581413bbfbf2b3d518ac2aa": {
          "model_module": "@jupyter-widgets/controls",
          "model_name": "DescriptionStyleModel",
          "state": {
            "_view_name": "StyleView",
            "_model_name": "DescriptionStyleModel",
            "description_width": "",
            "_view_module": "@jupyter-widgets/base",
            "_model_module_version": "1.5.0",
            "_view_count": null,
            "_view_module_version": "1.2.0",
            "_model_module": "@jupyter-widgets/controls"
          }
        },
        "1108373c74874813ac50fe6a1c1c3828": {
          "model_module": "@jupyter-widgets/base",
          "model_name": "LayoutModel",
          "state": {
            "_view_name": "LayoutView",
            "grid_template_rows": null,
            "right": null,
            "justify_content": null,
            "_view_module": "@jupyter-widgets/base",
            "overflow": null,
            "_model_module_version": "1.2.0",
            "_view_count": null,
            "flex_flow": null,
            "width": null,
            "min_width": null,
            "border": null,
            "align_items": null,
            "bottom": null,
            "_model_module": "@jupyter-widgets/base",
            "top": null,
            "grid_column": null,
            "overflow_y": null,
            "overflow_x": null,
            "grid_auto_flow": null,
            "grid_area": null,
            "grid_template_columns": null,
            "flex": null,
            "_model_name": "LayoutModel",
            "justify_items": null,
            "grid_row": null,
            "max_height": null,
            "align_content": null,
            "visibility": null,
            "align_self": null,
            "height": null,
            "min_height": null,
            "padding": null,
            "grid_auto_rows": null,
            "grid_gap": null,
            "max_width": null,
            "order": null,
            "_view_module_version": "1.2.0",
            "grid_template_areas": null,
            "object_position": null,
            "object_fit": null,
            "grid_auto_columns": null,
            "margin": null,
            "display": null,
            "left": null
          }
        },
        "4fa65072c21a4a9390585f3f69b11449": {
          "model_module": "@jupyter-widgets/controls",
          "model_name": "HBoxModel",
          "state": {
            "_view_name": "HBoxView",
            "_dom_classes": [],
            "_model_name": "HBoxModel",
            "_view_module": "@jupyter-widgets/controls",
            "_model_module_version": "1.5.0",
            "_view_count": null,
            "_view_module_version": "1.5.0",
            "box_style": "",
            "layout": "IPY_MODEL_929e9cc229ff41ed858a859f19539c6c",
            "_model_module": "@jupyter-widgets/controls",
            "children": [
              "IPY_MODEL_a3d003d21791420dae445cea05783d9a",
              "IPY_MODEL_7f20fb1d3aef4e4fba49cc48f1388015"
            ]
          }
        },
        "929e9cc229ff41ed858a859f19539c6c": {
          "model_module": "@jupyter-widgets/base",
          "model_name": "LayoutModel",
          "state": {
            "_view_name": "LayoutView",
            "grid_template_rows": null,
            "right": null,
            "justify_content": null,
            "_view_module": "@jupyter-widgets/base",
            "overflow": null,
            "_model_module_version": "1.2.0",
            "_view_count": null,
            "flex_flow": null,
            "width": null,
            "min_width": null,
            "border": null,
            "align_items": null,
            "bottom": null,
            "_model_module": "@jupyter-widgets/base",
            "top": null,
            "grid_column": null,
            "overflow_y": null,
            "overflow_x": null,
            "grid_auto_flow": null,
            "grid_area": null,
            "grid_template_columns": null,
            "flex": null,
            "_model_name": "LayoutModel",
            "justify_items": null,
            "grid_row": null,
            "max_height": null,
            "align_content": null,
            "visibility": null,
            "align_self": null,
            "height": null,
            "min_height": null,
            "padding": null,
            "grid_auto_rows": null,
            "grid_gap": null,
            "max_width": null,
            "order": null,
            "_view_module_version": "1.2.0",
            "grid_template_areas": null,
            "object_position": null,
            "object_fit": null,
            "grid_auto_columns": null,
            "margin": null,
            "display": null,
            "left": null
          }
        },
        "a3d003d21791420dae445cea05783d9a": {
          "model_module": "@jupyter-widgets/controls",
          "model_name": "IntProgressModel",
          "state": {
            "_view_name": "ProgressView",
            "style": "IPY_MODEL_f82542bdb4034836b4152dda956e9e96",
            "_dom_classes": [],
            "description": "",
            "_model_name": "IntProgressModel",
            "bar_style": "success",
            "max": 1,
            "_view_module": "@jupyter-widgets/controls",
            "_model_module_version": "1.5.0",
            "value": 1,
            "_view_count": null,
            "_view_module_version": "1.5.0",
            "orientation": "horizontal",
            "min": 0,
            "description_tooltip": null,
            "_model_module": "@jupyter-widgets/controls",
            "layout": "IPY_MODEL_3a639413c24146859dc0f1de76bbad4c"
          }
        },
        "7f20fb1d3aef4e4fba49cc48f1388015": {
          "model_module": "@jupyter-widgets/controls",
          "model_name": "HTMLModel",
          "state": {
            "_view_name": "HTMLView",
            "style": "IPY_MODEL_7518cfd933cc4c4aa6f2e8e97584cd99",
            "_dom_classes": [],
            "description": "",
            "_model_name": "HTMLModel",
            "placeholder": "​",
            "_view_module": "@jupyter-widgets/controls",
            "_model_module_version": "1.5.0",
            "value": "1654784it [00:00, 2649018.60it/s]",
            "_view_count": null,
            "_view_module_version": "1.5.0",
            "description_tooltip": null,
            "_model_module": "@jupyter-widgets/controls",
            "layout": "IPY_MODEL_ba8301dcddee4ba78e2503d384394262"
          }
        },
        "f82542bdb4034836b4152dda956e9e96": {
          "model_module": "@jupyter-widgets/controls",
          "model_name": "ProgressStyleModel",
          "state": {
            "_view_name": "StyleView",
            "_model_name": "ProgressStyleModel",
            "description_width": "",
            "_view_module": "@jupyter-widgets/base",
            "_model_module_version": "1.5.0",
            "_view_count": null,
            "_view_module_version": "1.2.0",
            "bar_color": null,
            "_model_module": "@jupyter-widgets/controls"
          }
        },
        "3a639413c24146859dc0f1de76bbad4c": {
          "model_module": "@jupyter-widgets/base",
          "model_name": "LayoutModel",
          "state": {
            "_view_name": "LayoutView",
            "grid_template_rows": null,
            "right": null,
            "justify_content": null,
            "_view_module": "@jupyter-widgets/base",
            "overflow": null,
            "_model_module_version": "1.2.0",
            "_view_count": null,
            "flex_flow": null,
            "width": null,
            "min_width": null,
            "border": null,
            "align_items": null,
            "bottom": null,
            "_model_module": "@jupyter-widgets/base",
            "top": null,
            "grid_column": null,
            "overflow_y": null,
            "overflow_x": null,
            "grid_auto_flow": null,
            "grid_area": null,
            "grid_template_columns": null,
            "flex": null,
            "_model_name": "LayoutModel",
            "justify_items": null,
            "grid_row": null,
            "max_height": null,
            "align_content": null,
            "visibility": null,
            "align_self": null,
            "height": null,
            "min_height": null,
            "padding": null,
            "grid_auto_rows": null,
            "grid_gap": null,
            "max_width": null,
            "order": null,
            "_view_module_version": "1.2.0",
            "grid_template_areas": null,
            "object_position": null,
            "object_fit": null,
            "grid_auto_columns": null,
            "margin": null,
            "display": null,
            "left": null
          }
        },
        "7518cfd933cc4c4aa6f2e8e97584cd99": {
          "model_module": "@jupyter-widgets/controls",
          "model_name": "DescriptionStyleModel",
          "state": {
            "_view_name": "StyleView",
            "_model_name": "DescriptionStyleModel",
            "description_width": "",
            "_view_module": "@jupyter-widgets/base",
            "_model_module_version": "1.5.0",
            "_view_count": null,
            "_view_module_version": "1.2.0",
            "_model_module": "@jupyter-widgets/controls"
          }
        },
        "ba8301dcddee4ba78e2503d384394262": {
          "model_module": "@jupyter-widgets/base",
          "model_name": "LayoutModel",
          "state": {
            "_view_name": "LayoutView",
            "grid_template_rows": null,
            "right": null,
            "justify_content": null,
            "_view_module": "@jupyter-widgets/base",
            "overflow": null,
            "_model_module_version": "1.2.0",
            "_view_count": null,
            "flex_flow": null,
            "width": null,
            "min_width": null,
            "border": null,
            "align_items": null,
            "bottom": null,
            "_model_module": "@jupyter-widgets/base",
            "top": null,
            "grid_column": null,
            "overflow_y": null,
            "overflow_x": null,
            "grid_auto_flow": null,
            "grid_area": null,
            "grid_template_columns": null,
            "flex": null,
            "_model_name": "LayoutModel",
            "justify_items": null,
            "grid_row": null,
            "max_height": null,
            "align_content": null,
            "visibility": null,
            "align_self": null,
            "height": null,
            "min_height": null,
            "padding": null,
            "grid_auto_rows": null,
            "grid_gap": null,
            "max_width": null,
            "order": null,
            "_view_module_version": "1.2.0",
            "grid_template_areas": null,
            "object_position": null,
            "object_fit": null,
            "grid_auto_columns": null,
            "margin": null,
            "display": null,
            "left": null
          }
        },
        "3ef2caf7b8f14eb7b8568c0bc106dbac": {
          "model_module": "@jupyter-widgets/controls",
          "model_name": "HBoxModel",
          "state": {
            "_view_name": "HBoxView",
            "_dom_classes": [],
            "_model_name": "HBoxModel",
            "_view_module": "@jupyter-widgets/controls",
            "_model_module_version": "1.5.0",
            "_view_count": null,
            "_view_module_version": "1.5.0",
            "box_style": "",
            "layout": "IPY_MODEL_47a9452b7a984554b92495272c4ed80e",
            "_model_module": "@jupyter-widgets/controls",
            "children": [
              "IPY_MODEL_d26f304e7bfe4e22baaae7ef44e45f02",
              "IPY_MODEL_2faf54414a2d49a18c3958f9e992036e"
            ]
          }
        },
        "47a9452b7a984554b92495272c4ed80e": {
          "model_module": "@jupyter-widgets/base",
          "model_name": "LayoutModel",
          "state": {
            "_view_name": "LayoutView",
            "grid_template_rows": null,
            "right": null,
            "justify_content": null,
            "_view_module": "@jupyter-widgets/base",
            "overflow": null,
            "_model_module_version": "1.2.0",
            "_view_count": null,
            "flex_flow": null,
            "width": null,
            "min_width": null,
            "border": null,
            "align_items": null,
            "bottom": null,
            "_model_module": "@jupyter-widgets/base",
            "top": null,
            "grid_column": null,
            "overflow_y": null,
            "overflow_x": null,
            "grid_auto_flow": null,
            "grid_area": null,
            "grid_template_columns": null,
            "flex": null,
            "_model_name": "LayoutModel",
            "justify_items": null,
            "grid_row": null,
            "max_height": null,
            "align_content": null,
            "visibility": null,
            "align_self": null,
            "height": null,
            "min_height": null,
            "padding": null,
            "grid_auto_rows": null,
            "grid_gap": null,
            "max_width": null,
            "order": null,
            "_view_module_version": "1.2.0",
            "grid_template_areas": null,
            "object_position": null,
            "object_fit": null,
            "grid_auto_columns": null,
            "margin": null,
            "display": null,
            "left": null
          }
        },
        "d26f304e7bfe4e22baaae7ef44e45f02": {
          "model_module": "@jupyter-widgets/controls",
          "model_name": "IntProgressModel",
          "state": {
            "_view_name": "ProgressView",
            "style": "IPY_MODEL_60d09f1f897944fc88edad0ab6ceb952",
            "_dom_classes": [],
            "description": "",
            "_model_name": "IntProgressModel",
            "bar_style": "success",
            "max": 1,
            "_view_module": "@jupyter-widgets/controls",
            "_model_module_version": "1.5.0",
            "value": 1,
            "_view_count": null,
            "_view_module_version": "1.5.0",
            "orientation": "horizontal",
            "min": 0,
            "description_tooltip": null,
            "_model_module": "@jupyter-widgets/controls",
            "layout": "IPY_MODEL_304611aaaf1d4fd2b233c6f8ae379bfa"
          }
        },
        "2faf54414a2d49a18c3958f9e992036e": {
          "model_module": "@jupyter-widgets/controls",
          "model_name": "HTMLModel",
          "state": {
            "_view_name": "HTMLView",
            "style": "IPY_MODEL_4587dcb770404d44932ccee7cbffd8c2",
            "_dom_classes": [],
            "description": "",
            "_model_name": "HTMLModel",
            "placeholder": "​",
            "_view_module": "@jupyter-widgets/controls",
            "_model_module_version": "1.5.0",
            "value": "8192it [00:00, 54177.74it/s]",
            "_view_count": null,
            "_view_module_version": "1.5.0",
            "description_tooltip": null,
            "_model_module": "@jupyter-widgets/controls",
            "layout": "IPY_MODEL_98130cfafb7c4137a82647d5147e2734"
          }
        },
        "60d09f1f897944fc88edad0ab6ceb952": {
          "model_module": "@jupyter-widgets/controls",
          "model_name": "ProgressStyleModel",
          "state": {
            "_view_name": "StyleView",
            "_model_name": "ProgressStyleModel",
            "description_width": "",
            "_view_module": "@jupyter-widgets/base",
            "_model_module_version": "1.5.0",
            "_view_count": null,
            "_view_module_version": "1.2.0",
            "bar_color": null,
            "_model_module": "@jupyter-widgets/controls"
          }
        },
        "304611aaaf1d4fd2b233c6f8ae379bfa": {
          "model_module": "@jupyter-widgets/base",
          "model_name": "LayoutModel",
          "state": {
            "_view_name": "LayoutView",
            "grid_template_rows": null,
            "right": null,
            "justify_content": null,
            "_view_module": "@jupyter-widgets/base",
            "overflow": null,
            "_model_module_version": "1.2.0",
            "_view_count": null,
            "flex_flow": null,
            "width": null,
            "min_width": null,
            "border": null,
            "align_items": null,
            "bottom": null,
            "_model_module": "@jupyter-widgets/base",
            "top": null,
            "grid_column": null,
            "overflow_y": null,
            "overflow_x": null,
            "grid_auto_flow": null,
            "grid_area": null,
            "grid_template_columns": null,
            "flex": null,
            "_model_name": "LayoutModel",
            "justify_items": null,
            "grid_row": null,
            "max_height": null,
            "align_content": null,
            "visibility": null,
            "align_self": null,
            "height": null,
            "min_height": null,
            "padding": null,
            "grid_auto_rows": null,
            "grid_gap": null,
            "max_width": null,
            "order": null,
            "_view_module_version": "1.2.0",
            "grid_template_areas": null,
            "object_position": null,
            "object_fit": null,
            "grid_auto_columns": null,
            "margin": null,
            "display": null,
            "left": null
          }
        },
        "4587dcb770404d44932ccee7cbffd8c2": {
          "model_module": "@jupyter-widgets/controls",
          "model_name": "DescriptionStyleModel",
          "state": {
            "_view_name": "StyleView",
            "_model_name": "DescriptionStyleModel",
            "description_width": "",
            "_view_module": "@jupyter-widgets/base",
            "_model_module_version": "1.5.0",
            "_view_count": null,
            "_view_module_version": "1.2.0",
            "_model_module": "@jupyter-widgets/controls"
          }
        },
        "98130cfafb7c4137a82647d5147e2734": {
          "model_module": "@jupyter-widgets/base",
          "model_name": "LayoutModel",
          "state": {
            "_view_name": "LayoutView",
            "grid_template_rows": null,
            "right": null,
            "justify_content": null,
            "_view_module": "@jupyter-widgets/base",
            "overflow": null,
            "_model_module_version": "1.2.0",
            "_view_count": null,
            "flex_flow": null,
            "width": null,
            "min_width": null,
            "border": null,
            "align_items": null,
            "bottom": null,
            "_model_module": "@jupyter-widgets/base",
            "top": null,
            "grid_column": null,
            "overflow_y": null,
            "overflow_x": null,
            "grid_auto_flow": null,
            "grid_area": null,
            "grid_template_columns": null,
            "flex": null,
            "_model_name": "LayoutModel",
            "justify_items": null,
            "grid_row": null,
            "max_height": null,
            "align_content": null,
            "visibility": null,
            "align_self": null,
            "height": null,
            "min_height": null,
            "padding": null,
            "grid_auto_rows": null,
            "grid_gap": null,
            "max_width": null,
            "order": null,
            "_view_module_version": "1.2.0",
            "grid_template_areas": null,
            "object_position": null,
            "object_fit": null,
            "grid_auto_columns": null,
            "margin": null,
            "display": null,
            "left": null
          }
        }
      }
    }
  },
  "cells": [
    {
      "cell_type": "markdown",
      "metadata": {
        "id": "view-in-github",
        "colab_type": "text"
      },
      "source": [
        "<a href=\"https://colab.research.google.com/github/pankaj90382/TSAI/blob/master/S6/EVA04S06_Solution.ipynb\" target=\"_parent\"><img src=\"https://colab.research.google.com/assets/colab-badge.svg\" alt=\"Open In Colab\"/></a>"
      ]
    },
    {
      "cell_type": "code",
      "metadata": {
        "id": "0m2JWFliFfKT",
        "colab_type": "code",
        "colab": {}
      },
      "source": [
        "from __future__ import print_function\n",
        "import torch\n",
        "import torch.nn as nn\n",
        "import torch.nn.functional as F\n",
        "import torch.optim as optim\n",
        "from torchvision import datasets, transforms\n",
        "#!pip install torchsummary\n",
        "from torchsummary import summary\n",
        "import pandas as pd\n",
        "import numpy as np"
      ],
      "execution_count": 0,
      "outputs": []
    },
    {
      "cell_type": "code",
      "metadata": {
        "id": "Z5URrMGAo1tU",
        "colab_type": "code",
        "colab": {}
      },
      "source": [
        "# To store the torch files\n",
        "!mkdir -p \"content/EVA4\""
      ],
      "execution_count": 0,
      "outputs": []
    },
    {
      "cell_type": "code",
      "metadata": {
        "id": "OONup7Ukaulv",
        "colab_type": "code",
        "colab": {}
      },
      "source": [
        "use_cuda = torch.cuda.is_available()\n",
        "device = torch.device(\"cuda\" if use_cuda else \"cpu\")"
      ],
      "execution_count": 0,
      "outputs": []
    },
    {
      "cell_type": "code",
      "metadata": {
        "id": "P1r80paEnvlX",
        "colab_type": "code",
        "colab": {}
      },
      "source": [
        "class MNISTDigitBuilder(nn.Module):\n",
        "    def __init__(self, dropout=0.1):\n",
        "        super(MNISTDigitBuilder, self).__init__()\n",
        "        self.dropout_val = dropout\n",
        "        self.bias = False\n",
        "        self.conv1 = nn.Sequential(\n",
        "            nn.Conv2d(1, 8, 3, padding=1, stride=1,bias=self.bias),            \n",
        "            nn.BatchNorm2d(8),\n",
        "            nn.ReLU(),\n",
        "            nn.Dropout(self.dropout_val),\n",
        "            nn.Conv2d(8, 8, 3, padding=1, stride=1,bias=self.bias),            \n",
        "            nn.BatchNorm2d(8),\n",
        "            nn.ReLU(),\n",
        "            # nn.Conv2d(8, 8, 3, padding=1, bias=self.bias),            \n",
        "            # nn.BatchNorm2d(8),\n",
        "            # nn.ReLU(),\n",
        "            nn.MaxPool2d(2, 2),\n",
        "            nn.Dropout(self.dropout_val),\n",
        "        )\n",
        "        \n",
        "        self.conv2 = nn.Sequential(\n",
        "            nn.Conv2d(8, 8, 3, padding=1,stride=1, bias=self.bias),            \n",
        "            nn.BatchNorm2d(8),\n",
        "            nn.ReLU(),\n",
        "            nn.Dropout(self.dropout_val),\n",
        "            nn.Conv2d(8, 16, 3, padding=1, bias=self.bias),            \n",
        "            nn.BatchNorm2d(16),\n",
        "            nn.ReLU(),\n",
        "            nn.MaxPool2d(2, 2),\n",
        "            nn.Dropout(self.dropout_val),\n",
        "            # nn.Conv2d(16, 16, 3, padding=1, bias=self.bias),            \n",
        "            # nn.BatchNorm2d(16),\n",
        "            # nn.ReLU(),\n",
        "            #nn.MaxPool2d(2, 2),\n",
        "            #nn.Dropout(self.dropout_val)\n",
        "        )\n",
        "        \n",
        "        self.conv3 = nn.Sequential(\n",
        "            nn.Conv2d(16, 16, 3,bias=self.bias),            \n",
        "            nn.BatchNorm2d(16),\n",
        "            nn.ReLU(),\n",
        "            nn.Dropout(self.dropout_val),\n",
        "            nn.Conv2d(16, 16, 3,bias=self.bias),            \n",
        "            nn.BatchNorm2d(16),\n",
        "            nn.ReLU(),\n",
        "            nn.MaxPool2d(2, 2),\n",
        "            nn.Dropout(self.dropout_val)\n",
        "        )\n",
        "        \n",
        "        self.gap_linear = nn.Sequential(\n",
        "            nn.AdaptiveAvgPool2d((1,1)),\n",
        "            nn.Conv2d(16, 10, 1, bias=self.bias)\n",
        "        )\n",
        "                \n",
        "        \n",
        "    def forward(self, x):\n",
        "        x = self.conv1(x)\n",
        "        x = self.conv2(x)\n",
        "        x = self.conv3(x)\n",
        "        \n",
        "        #x = x.view(x.size(0), -1)\n",
        "        x = self.gap_linear(x)\n",
        "        x = x.view(-1, 10)\n",
        "        x = F.log_softmax(x, dim=1)\n",
        "        return x\n",
        "\n",
        "\"\"\"\n",
        "    Creates the model object on the specified device\n",
        "\"\"\"\n",
        "def model_builder(model_class=None, weights_path=None, local_device=torch.device(\"cpu\")):\n",
        "    if (model_class == None):\n",
        "        print(\"Please provide the model object to be used\")\n",
        "        return\n",
        "    local_model = model_class()#.to(local_device)\n",
        "    try:\n",
        "        if (weights_path != None):\n",
        "            checkpoint = torch.load(weights_path)\n",
        "            local_model.load_state_dict(checkpoint['model_state_dict'])\n",
        "                #torch.load(weights_path, map_location=local_device))           \n",
        "    except:\n",
        "        print(\"Some execption occured during loading the model\")\n",
        "    return local_model.to(local_device)\n"
      ],
      "execution_count": 0,
      "outputs": []
    },
    {
      "cell_type": "code",
      "metadata": {
        "colab_type": "code",
        "id": "8yK0H_aUgPMk",
        "colab": {}
      },
      "source": [
        "import random\n",
        "import os\n",
        "import numpy as np\n",
        "import pandas as pd\n",
        "\n",
        "def generate_model_save_path(base=\"/content/EVA4/\",mod_string=None):\n",
        "    file_name = \"model-\"+mod_string+\".h5\"\n",
        "    return os.path.join(base,file_name)"
      ],
      "execution_count": 0,
      "outputs": []
    },
    {
      "cell_type": "code",
      "metadata": {
        "id": "MU0GFDJNJXWS",
        "colab_type": "code",
        "outputId": "c2685189-396e-4e46-96db-498f42196c28",
        "colab": {
          "base_uri": "https://localhost:8080/",
          "height": 731
        }
      },
      "source": [
        "model = MNISTDigitBuilder(dropout=0.1).to(device)\n",
        "summary(model, input_size=(1, 28, 28))\n"
      ],
      "execution_count": 5,
      "outputs": [
        {
          "output_type": "stream",
          "text": [
            "----------------------------------------------------------------\n",
            "        Layer (type)               Output Shape         Param #\n",
            "================================================================\n",
            "            Conv2d-1            [-1, 8, 28, 28]              72\n",
            "       BatchNorm2d-2            [-1, 8, 28, 28]              16\n",
            "              ReLU-3            [-1, 8, 28, 28]               0\n",
            "           Dropout-4            [-1, 8, 28, 28]               0\n",
            "            Conv2d-5            [-1, 8, 28, 28]             576\n",
            "       BatchNorm2d-6            [-1, 8, 28, 28]              16\n",
            "              ReLU-7            [-1, 8, 28, 28]               0\n",
            "         MaxPool2d-8            [-1, 8, 14, 14]               0\n",
            "           Dropout-9            [-1, 8, 14, 14]               0\n",
            "           Conv2d-10            [-1, 8, 14, 14]             576\n",
            "      BatchNorm2d-11            [-1, 8, 14, 14]              16\n",
            "             ReLU-12            [-1, 8, 14, 14]               0\n",
            "          Dropout-13            [-1, 8, 14, 14]               0\n",
            "           Conv2d-14           [-1, 16, 14, 14]           1,152\n",
            "      BatchNorm2d-15           [-1, 16, 14, 14]              32\n",
            "             ReLU-16           [-1, 16, 14, 14]               0\n",
            "        MaxPool2d-17             [-1, 16, 7, 7]               0\n",
            "          Dropout-18             [-1, 16, 7, 7]               0\n",
            "           Conv2d-19             [-1, 16, 5, 5]           2,304\n",
            "      BatchNorm2d-20             [-1, 16, 5, 5]              32\n",
            "             ReLU-21             [-1, 16, 5, 5]               0\n",
            "          Dropout-22             [-1, 16, 5, 5]               0\n",
            "           Conv2d-23             [-1, 16, 3, 3]           2,304\n",
            "      BatchNorm2d-24             [-1, 16, 3, 3]              32\n",
            "             ReLU-25             [-1, 16, 3, 3]               0\n",
            "        MaxPool2d-26             [-1, 16, 1, 1]               0\n",
            "          Dropout-27             [-1, 16, 1, 1]               0\n",
            "AdaptiveAvgPool2d-28             [-1, 16, 1, 1]               0\n",
            "           Conv2d-29             [-1, 10, 1, 1]             160\n",
            "================================================================\n",
            "Total params: 7,288\n",
            "Trainable params: 7,288\n",
            "Non-trainable params: 0\n",
            "----------------------------------------------------------------\n",
            "Input size (MB): 0.00\n",
            "Forward/backward pass size (MB): 0.51\n",
            "Params size (MB): 0.03\n",
            "Estimated Total Size (MB): 0.54\n",
            "----------------------------------------------------------------\n"
          ],
          "name": "stdout"
        }
      ]
    },
    {
      "cell_type": "code",
      "metadata": {
        "id": "DqTWLaM5GHgH",
        "colab_type": "code",
        "colab": {}
      },
      "source": [
        "train_transforms = transforms.Compose([\n",
        "                                      #  transforms.Resize((28, 28)),\n",
        "                                      #  transforms.ColorJitter(brightness=0.10, contrast=0.1, saturation=0.10, hue=0.1),\n",
        "                                       #transforms.RandomRotation((-7.0, 7.0), fill=(1,)),\n",
        "                                       transforms.ToTensor(),\n",
        "                                       transforms.Normalize((0.1307,), (0.3081,)) # The mean and std have to be sequences (e.g., tuples), therefore you should add a comma after the values. \n",
        "                                       # Note the difference between (0.1307) and (0.1307,)\n",
        "                                       ])\n",
        "\n",
        "# Test Phase transformations\n",
        "test_transforms = transforms.Compose([\n",
        "                                      #  transforms.Resize((28, 28)),\n",
        "                                      #  transforms.ColorJitter(brightness=0.10, contrast=0.1, saturation=0.10, hue=0.1),\n",
        "                                       #transforms.RandomRotation((-7.0, 7.0), fill=(1,)),\n",
        "                                       transforms.ToTensor(),\n",
        "                                       transforms.Normalize((0.1307,), (0.3081,))\n",
        "                                       ])"
      ],
      "execution_count": 0,
      "outputs": []
    },
    {
      "cell_type": "code",
      "metadata": {
        "id": "8fDefDhaFlwH",
        "colab_type": "code",
        "colab": {}
      },
      "source": [
        "from tqdm import tqdm\n",
        "def train(args, model, device, train_loader, optimizer, epoch_number,l1_loss=False, l1_beta = 0):\n",
        "    model.train()\n",
        "    pbar = tqdm(train_loader)\n",
        "    train_loss = 0\n",
        "    train_accuracy = 0\n",
        "    for batch_idx, (data, target) in enumerate(pbar):\n",
        "        data, target = data.to(device), target.to(device)\n",
        "        optimizer.zero_grad()\n",
        "        output = model(data)\n",
        "        pred = output.argmax(dim=1, keepdim=True)  # get the index of the max log-probability\n",
        "        train_accuracy += pred.eq(target.view_as(pred)).sum().item()\n",
        "        loss = F.nll_loss(output, target)\n",
        "        if l1_loss == True:\n",
        "            l1_crit = nn.L1Loss(size_average=False)\n",
        "            reg_loss = 0\n",
        "            for param in model.parameters():\n",
        "                target = torch.zeros_like(param)    \n",
        "                reg_loss += l1_crit(param, target)\n",
        "            loss += (l1_beta * reg_loss)\n",
        "        loss.backward()\n",
        "        optimizer.step()\n",
        "        pbar.set_description(desc= f'loss={loss.item()} batch_id={batch_idx}')\n",
        "        train_loss += loss.item()\n",
        "\n",
        "    train_loss /= len(train_loader.dataset)\n",
        "    train_accuracy = (100. * train_accuracy) / len(train_loader.dataset)\n",
        "    return train_accuracy, train_loss\n",
        "\n",
        "def test(args, model, device, test_loader, epoch_number):\n",
        "    model.eval()\n",
        "    test_loss = 0\n",
        "    correct = 0\n",
        "    example_images = []\n",
        "    with torch.no_grad():\n",
        "        for data, target in test_loader:\n",
        "            data, target = data.to(device), target.to(device)\n",
        "            output = model(data)\n",
        "            test_loss += F.nll_loss(output, target, reduction='sum').item()  # sum up batch loss\n",
        "            pred = output.argmax(dim=1, keepdim=True)  # get the index of the max log-probability\n",
        "            correct += pred.eq(target.view_as(pred)).sum().item()\n",
        "    test_loss /= len(test_loader.dataset)\n",
        "    test_accuracy = (100. * correct) / len(test_loader.dataset)\n",
        "    return test_accuracy, test_loss"
      ],
      "execution_count": 0,
      "outputs": []
    },
    {
      "cell_type": "markdown",
      "metadata": {
        "id": "yqZWGDhpsFpA",
        "colab_type": "text"
      },
      "source": [
        "# Base Model with 40 Epochs\n",
        "# Model-Path: /content/EVA4/model-baseline.h5"
      ]
    },
    {
      "cell_type": "code",
      "metadata": {
        "colab_type": "code",
        "outputId": "2a4c64e2-0cfb-4416-8614-d69d9b47ce1d",
        "id": "NWeSsUFD5UXj",
        "colab": {
          "base_uri": "https://localhost:8080/",
          "height": 1000,
          "referenced_widgets": [
            "b1a0656a3e3d40e58c553472b0aca37b",
            "ad76307a11e944e6901cc5448ad5f461",
            "4662850978b84a62b138c8e64c7e3ef4",
            "92116deeff8140deb1c4aeb69c7bca8e",
            "ef88f85872184836b6f9f5ecbff8f48e",
            "cc3b6f90aab44bd2a81308ffb76207bc",
            "823a6fb41c27487ab54057bd79989544",
            "091e6328599f4a238d58de515315bdad",
            "f0073bc6ac034f85b0cb6614ea506e2a",
            "99490e866c3b4261b6b4a8aa0eaa239d",
            "79e1c56b59834b50b6641940d90f6fee",
            "2e927d6bdbaf483192d870a6e29f03a5",
            "6a6b0ea47f8c4e8abc5eb7c9e36da055",
            "bdcdee53f5394986b29b889dca4eeae4",
            "1e725b630581413bbfbf2b3d518ac2aa",
            "1108373c74874813ac50fe6a1c1c3828",
            "4fa65072c21a4a9390585f3f69b11449",
            "929e9cc229ff41ed858a859f19539c6c",
            "a3d003d21791420dae445cea05783d9a",
            "7f20fb1d3aef4e4fba49cc48f1388015",
            "f82542bdb4034836b4152dda956e9e96",
            "3a639413c24146859dc0f1de76bbad4c",
            "7518cfd933cc4c4aa6f2e8e97584cd99",
            "ba8301dcddee4ba78e2503d384394262",
            "3ef2caf7b8f14eb7b8568c0bc106dbac",
            "47a9452b7a984554b92495272c4ed80e",
            "d26f304e7bfe4e22baaae7ef44e45f02",
            "2faf54414a2d49a18c3958f9e992036e",
            "60d09f1f897944fc88edad0ab6ceb952",
            "304611aaaf1d4fd2b233c6f8ae379bfa",
            "4587dcb770404d44932ccee7cbffd8c2",
            "98130cfafb7c4137a82647d5147e2734"
          ]
        }
      },
      "source": [
        "from torch.optim.lr_scheduler import StepLR, OneCycleLR, MultiStepLR\n",
        "import os\n",
        "hyperparameter_defaults = dict(\n",
        "    run_nam\n",
        "    dropout = 0.1,\n",
        "    batch_size = 82,\n",
        "    test_batch_size=34,\n",
        "    lr = 0.025, \n",
        "    momentum = 0.9,\n",
        "    no_cuda = False,\n",
        "    seed = 1,\n",
        "    epochs = 40,\n",
        "    bias = False,\n",
        "    sched_lr_gamma = 0.5,\n",
        "    sched_lr_step= 2,\n",
        "    start_lr = 7,\n",
        "    weight_decay=0\n",
        "    )\n",
        "\n",
        "Baseline_Model_Metrics={\n",
        "    'Train Accuracy': [], \n",
        "    'Train Loss': [], \n",
        "    'Test Accuracy':[], \n",
        "    'Test Loss': [],\n",
        "    'Learning Rate': [], \n",
        "    'Decay Learning Rate': []\n",
        "}\n",
        "\n",
        "config = hyperparameter_defaults\n",
        "model_path = generate_model_save_path(mod_string=\"baseline\")\n",
        "print(\"Model will be saved to:\", model_path)\n",
        "\n",
        "def main():\n",
        "    use_cuda = not config['no_cuda'] and torch.cuda.is_available()\n",
        "    device = torch.device(\"cuda\" if use_cuda else \"cpu\")\n",
        "    kwargs = {'num_workers': 4, 'pin_memory': True} if use_cuda else {}\n",
        "  \n",
        "    torch.manual_seed(config['seed']) # pytorch random seed\n",
        "    torch.backends.cudnn.deterministic = True\n",
        "\n",
        "    train_loader = torch.utils.data.DataLoader(\n",
        "        datasets.MNIST('../data', train=True, download=True,\n",
        "                        transform=train_transforms),\n",
        "        batch_size=config['batch_size'], shuffle=True, **kwargs)\n",
        "    test_loader = torch.utils.data.DataLoader(\n",
        "        datasets.MNIST('../data', train=False, transform=test_transforms),\n",
        "        batch_size=config['batch_size'], shuffle=True, **kwargs)\n",
        "    \n",
        "    model = MNISTDigitBuilder(dropout=config['dropout']).to(device)\n",
        "    optimizer = optim.SGD(model.parameters(), lr=config['lr'],\n",
        "                          momentum=config['momentum'], weight_decay=config['weight_decay'])\n",
        "    \n",
        "    scheduler = StepLR(optimizer, step_size=config['sched_lr_step'], gamma=config['sched_lr_gamma'])\n",
        "\n",
        "    for epoch in range(1, config['epochs'] + 1):\n",
        "        epoch_train_acc,epoch_train_loss = train(config, model, device, train_loader, optimizer, epoch)        \n",
        "        epoch_test_acc,epoch_test_loss = test(config, model, device, test_loader,epoch)\n",
        "\n",
        "        print('\\nEpoch: {:.0f} Train set: Average loss: {:.4f}, Accuracy: {:.3f}%'.format(epoch, epoch_train_loss, epoch_train_acc))\n",
        "        print('Epoch: {:.0f} Test set: Average loss: {:.4f}, Accuracy: {:.3f}%'.format(epoch, epoch_test_loss, epoch_test_acc))\n",
        "        myoptim = optimizer.state_dict()['param_groups'][0]\n",
        "\n",
        "        print('Epoch: {:.0f} Optimizer values: LastLR:{:.10f}, Momentum: {:.10f}, Weight Decay: {:.10f}'.format(\n",
        "        epoch, scheduler.get_last_lr()[0],myoptim['momentum'],myoptim['weight_decay']))\n",
        "       \n",
        "        Baseline_Model_Metrics['Train Accuracy'].append(epoch_train_acc)\n",
        "        Baseline_Model_Metrics['Train Loss'].append(epoch_train_loss)\n",
        "        Baseline_Model_Metrics['Test Accuracy'].append(epoch_test_acc)\n",
        "        Baseline_Model_Metrics['Test Loss'].append(epoch_test_loss)\n",
        "        Baseline_Model_Metrics['Learning Rate'].append(config['lr'])\n",
        "        Baseline_Model_Metrics['Decay Learning Rate'].append(scheduler.get_lr()) \n",
        "\n",
        "        if (epoch > config['start_lr']):\n",
        "            scheduler.step()\n",
        "\n",
        "    torch.save({\n",
        "            'model_state_dict': model.state_dict(),\n",
        "            'optimizer_state_dict': optimizer.state_dict()\n",
        "            }, model_path)\n",
        "\n",
        "if __name__ == '__main__':\n",
        "    main()"
      ],
      "execution_count": 17,
      "outputs": [
        {
          "output_type": "stream",
          "text": [
            "Model will be saved to: /content/EVA4/model-690613fdea.h5\n",
            "Downloading http://yann.lecun.com/exdb/mnist/train-images-idx3-ubyte.gz to ../data/MNIST/raw/train-images-idx3-ubyte.gz\n"
          ],
          "name": "stdout"
        },
        {
          "output_type": "display_data",
          "data": {
            "application/vnd.jupyter.widget-view+json": {
              "model_id": "b1a0656a3e3d40e58c553472b0aca37b",
              "version_minor": 0,
              "version_major": 2
            },
            "text/plain": [
              "HBox(children=(IntProgress(value=1, bar_style='info', max=1), HTML(value='')))"
            ]
          },
          "metadata": {
            "tags": []
          }
        },
        {
          "output_type": "stream",
          "text": [
            "\n",
            "Extracting ../data/MNIST/raw/train-images-idx3-ubyte.gz to ../data/MNIST/raw\n",
            "Downloading http://yann.lecun.com/exdb/mnist/train-labels-idx1-ubyte.gz to ../data/MNIST/raw/train-labels-idx1-ubyte.gz\n"
          ],
          "name": "stdout"
        },
        {
          "output_type": "display_data",
          "data": {
            "application/vnd.jupyter.widget-view+json": {
              "model_id": "f0073bc6ac034f85b0cb6614ea506e2a",
              "version_minor": 0,
              "version_major": 2
            },
            "text/plain": [
              "HBox(children=(IntProgress(value=1, bar_style='info', max=1), HTML(value='')))"
            ]
          },
          "metadata": {
            "tags": []
          }
        },
        {
          "output_type": "stream",
          "text": [
            "\n",
            "Extracting ../data/MNIST/raw/train-labels-idx1-ubyte.gz to ../data/MNIST/raw\n",
            "Downloading http://yann.lecun.com/exdb/mnist/t10k-images-idx3-ubyte.gz to ../data/MNIST/raw/t10k-images-idx3-ubyte.gz\n"
          ],
          "name": "stdout"
        },
        {
          "output_type": "display_data",
          "data": {
            "application/vnd.jupyter.widget-view+json": {
              "model_id": "4fa65072c21a4a9390585f3f69b11449",
              "version_minor": 0,
              "version_major": 2
            },
            "text/plain": [
              "HBox(children=(IntProgress(value=1, bar_style='info', max=1), HTML(value='')))"
            ]
          },
          "metadata": {
            "tags": []
          }
        },
        {
          "output_type": "stream",
          "text": [
            "\n",
            "Extracting ../data/MNIST/raw/t10k-images-idx3-ubyte.gz to ../data/MNIST/raw\n",
            "Downloading http://yann.lecun.com/exdb/mnist/t10k-labels-idx1-ubyte.gz to ../data/MNIST/raw/t10k-labels-idx1-ubyte.gz\n"
          ],
          "name": "stdout"
        },
        {
          "output_type": "display_data",
          "data": {
            "application/vnd.jupyter.widget-view+json": {
              "model_id": "3ef2caf7b8f14eb7b8568c0bc106dbac",
              "version_minor": 0,
              "version_major": 2
            },
            "text/plain": [
              "HBox(children=(IntProgress(value=1, bar_style='info', max=1), HTML(value='')))"
            ]
          },
          "metadata": {
            "tags": []
          }
        },
        {
          "output_type": "stream",
          "text": [
            "\r  0%|          | 0/732 [00:00<?, ?it/s]"
          ],
          "name": "stderr"
        },
        {
          "output_type": "stream",
          "text": [
            "\n",
            "Extracting ../data/MNIST/raw/t10k-labels-idx1-ubyte.gz to ../data/MNIST/raw\n",
            "Processing...\n",
            "Done!\n"
          ],
          "name": "stdout"
        },
        {
          "output_type": "stream",
          "text": [
            "loss=0.14696930348873138 batch_id=731: 100%|██████████| 732/732 [00:13<00:00, 55.70it/s]\n",
            "  0%|          | 0/732 [00:00<?, ?it/s]"
          ],
          "name": "stderr"
        },
        {
          "output_type": "stream",
          "text": [
            "\n",
            "Epoch: 1 Train set: Average loss: 0.0038, Accuracy: 90.443%\n",
            "Epoch: 1 Test set: Average loss: 0.0594, Accuracy: 98.080%\n",
            "Epoch: 1 Optimizer values: LastLR:0.0250000000, Momentum: 0.9000000000, Weight Decay: 0.0000000000\n"
          ],
          "name": "stdout"
        },
        {
          "output_type": "stream",
          "text": [
            "loss=0.07473370432853699 batch_id=731: 100%|██████████| 732/732 [00:13<00:00, 54.41it/s]\n",
            "  0%|          | 0/732 [00:00<?, ?it/s]"
          ],
          "name": "stderr"
        },
        {
          "output_type": "stream",
          "text": [
            "\n",
            "Epoch: 2 Train set: Average loss: 0.0015, Accuracy: 96.290%\n",
            "Epoch: 2 Test set: Average loss: 0.0460, Accuracy: 98.530%\n",
            "Epoch: 2 Optimizer values: LastLR:0.0250000000, Momentum: 0.9000000000, Weight Decay: 0.0000000000\n"
          ],
          "name": "stdout"
        },
        {
          "output_type": "stream",
          "text": [
            "loss=0.06426631659269333 batch_id=731: 100%|██████████| 732/732 [00:13<00:00, 54.90it/s]\n",
            "  0%|          | 0/732 [00:00<?, ?it/s]"
          ],
          "name": "stderr"
        },
        {
          "output_type": "stream",
          "text": [
            "\n",
            "Epoch: 3 Train set: Average loss: 0.0012, Accuracy: 96.932%\n",
            "Epoch: 3 Test set: Average loss: 0.0364, Accuracy: 98.930%\n",
            "Epoch: 3 Optimizer values: LastLR:0.0250000000, Momentum: 0.9000000000, Weight Decay: 0.0000000000\n"
          ],
          "name": "stdout"
        },
        {
          "output_type": "stream",
          "text": [
            "loss=0.032224081456661224 batch_id=731: 100%|██████████| 732/732 [00:12<00:00, 67.72it/s]\n",
            "  0%|          | 0/732 [00:00<?, ?it/s]"
          ],
          "name": "stderr"
        },
        {
          "output_type": "stream",
          "text": [
            "\n",
            "Epoch: 4 Train set: Average loss: 0.0011, Accuracy: 97.507%\n",
            "Epoch: 4 Test set: Average loss: 0.0342, Accuracy: 98.940%\n",
            "Epoch: 4 Optimizer values: LastLR:0.0250000000, Momentum: 0.9000000000, Weight Decay: 0.0000000000\n"
          ],
          "name": "stdout"
        },
        {
          "output_type": "stream",
          "text": [
            "loss=0.03129205107688904 batch_id=731: 100%|██████████| 732/732 [00:12<00:00, 56.55it/s]\n",
            "  0%|          | 0/732 [00:00<?, ?it/s]"
          ],
          "name": "stderr"
        },
        {
          "output_type": "stream",
          "text": [
            "\n",
            "Epoch: 5 Train set: Average loss: 0.0010, Accuracy: 97.465%\n",
            "Epoch: 5 Test set: Average loss: 0.0292, Accuracy: 99.180%\n",
            "Epoch: 5 Optimizer values: LastLR:0.0250000000, Momentum: 0.9000000000, Weight Decay: 0.0000000000\n"
          ],
          "name": "stdout"
        },
        {
          "output_type": "stream",
          "text": [
            "loss=0.11922336369752884 batch_id=731: 100%|██████████| 732/732 [00:13<00:00, 54.18it/s]\n",
            "  0%|          | 0/732 [00:00<?, ?it/s]"
          ],
          "name": "stderr"
        },
        {
          "output_type": "stream",
          "text": [
            "\n",
            "Epoch: 6 Train set: Average loss: 0.0010, Accuracy: 97.635%\n",
            "Epoch: 6 Test set: Average loss: 0.0311, Accuracy: 99.130%\n",
            "Epoch: 6 Optimizer values: LastLR:0.0250000000, Momentum: 0.9000000000, Weight Decay: 0.0000000000\n"
          ],
          "name": "stdout"
        },
        {
          "output_type": "stream",
          "text": [
            "loss=0.011782621964812279 batch_id=731: 100%|██████████| 732/732 [00:13<00:00, 52.94it/s]\n",
            "  0%|          | 0/732 [00:00<?, ?it/s]"
          ],
          "name": "stderr"
        },
        {
          "output_type": "stream",
          "text": [
            "\n",
            "Epoch: 7 Train set: Average loss: 0.0009, Accuracy: 97.822%\n",
            "Epoch: 7 Test set: Average loss: 0.0264, Accuracy: 99.190%\n",
            "Epoch: 7 Optimizer values: LastLR:0.0250000000, Momentum: 0.9000000000, Weight Decay: 0.0000000000\n"
          ],
          "name": "stdout"
        },
        {
          "output_type": "stream",
          "text": [
            "loss=0.06759195029735565 batch_id=731: 100%|██████████| 732/732 [00:13<00:00, 54.70it/s]\n",
            "  0%|          | 0/732 [00:00<?, ?it/s]"
          ],
          "name": "stderr"
        },
        {
          "output_type": "stream",
          "text": [
            "\n",
            "Epoch: 8 Train set: Average loss: 0.0009, Accuracy: 97.920%\n",
            "Epoch: 8 Test set: Average loss: 0.0327, Accuracy: 99.050%\n",
            "Epoch: 8 Optimizer values: LastLR:0.0250000000, Momentum: 0.9000000000, Weight Decay: 0.0000000000\n"
          ],
          "name": "stdout"
        },
        {
          "output_type": "stream",
          "text": [
            "loss=0.06190900132060051 batch_id=731: 100%|██████████| 732/732 [00:12<00:00, 62.99it/s]\n",
            "  0%|          | 0/732 [00:00<?, ?it/s]"
          ],
          "name": "stderr"
        },
        {
          "output_type": "stream",
          "text": [
            "\n",
            "Epoch: 9 Train set: Average loss: 0.0008, Accuracy: 97.895%\n",
            "Epoch: 9 Test set: Average loss: 0.0269, Accuracy: 99.180%\n",
            "Epoch: 9 Optimizer values: LastLR:0.0250000000, Momentum: 0.9000000000, Weight Decay: 0.0000000000\n"
          ],
          "name": "stdout"
        },
        {
          "output_type": "stream",
          "text": [
            "loss=0.036889974027872086 batch_id=731: 100%|██████████| 732/732 [00:13<00:00, 54.75it/s]\n",
            "  0%|          | 0/732 [00:00<?, ?it/s]"
          ],
          "name": "stderr"
        },
        {
          "output_type": "stream",
          "text": [
            "\n",
            "Epoch: 10 Train set: Average loss: 0.0007, Accuracy: 98.192%\n",
            "Epoch: 10 Test set: Average loss: 0.0254, Accuracy: 99.180%\n",
            "Epoch: 10 Optimizer values: LastLR:0.0125000000, Momentum: 0.9000000000, Weight Decay: 0.0000000000\n"
          ],
          "name": "stdout"
        },
        {
          "output_type": "stream",
          "text": [
            "loss=0.0428592748939991 batch_id=731: 100%|██████████| 732/732 [00:13<00:00, 53.74it/s]\n",
            "  0%|          | 0/732 [00:00<?, ?it/s]"
          ],
          "name": "stderr"
        },
        {
          "output_type": "stream",
          "text": [
            "\n",
            "Epoch: 11 Train set: Average loss: 0.0007, Accuracy: 98.342%\n",
            "Epoch: 11 Test set: Average loss: 0.0267, Accuracy: 99.250%\n",
            "Epoch: 11 Optimizer values: LastLR:0.0125000000, Momentum: 0.9000000000, Weight Decay: 0.0000000000\n"
          ],
          "name": "stdout"
        },
        {
          "output_type": "stream",
          "text": [
            "loss=0.07874732464551926 batch_id=731: 100%|██████████| 732/732 [00:13<00:00, 55.14it/s]\n",
            "  0%|          | 0/732 [00:00<?, ?it/s]"
          ],
          "name": "stderr"
        },
        {
          "output_type": "stream",
          "text": [
            "\n",
            "Epoch: 12 Train set: Average loss: 0.0007, Accuracy: 98.360%\n",
            "Epoch: 12 Test set: Average loss: 0.0230, Accuracy: 99.330%\n",
            "Epoch: 12 Optimizer values: LastLR:0.0062500000, Momentum: 0.9000000000, Weight Decay: 0.0000000000\n"
          ],
          "name": "stdout"
        },
        {
          "output_type": "stream",
          "text": [
            "loss=0.12408392131328583 batch_id=731: 100%|██████████| 732/732 [00:13<00:00, 55.89it/s]\n",
            "  0%|          | 0/732 [00:00<?, ?it/s]"
          ],
          "name": "stderr"
        },
        {
          "output_type": "stream",
          "text": [
            "\n",
            "Epoch: 13 Train set: Average loss: 0.0007, Accuracy: 98.352%\n",
            "Epoch: 13 Test set: Average loss: 0.0234, Accuracy: 99.300%\n",
            "Epoch: 13 Optimizer values: LastLR:0.0062500000, Momentum: 0.9000000000, Weight Decay: 0.0000000000\n"
          ],
          "name": "stdout"
        },
        {
          "output_type": "stream",
          "text": [
            "loss=0.012025512754917145 batch_id=731: 100%|██████████| 732/732 [00:13<00:00, 54.66it/s]\n",
            "  0%|          | 0/732 [00:00<?, ?it/s]"
          ],
          "name": "stderr"
        },
        {
          "output_type": "stream",
          "text": [
            "\n",
            "Epoch: 14 Train set: Average loss: 0.0006, Accuracy: 98.447%\n",
            "Epoch: 14 Test set: Average loss: 0.0226, Accuracy: 99.340%\n",
            "Epoch: 14 Optimizer values: LastLR:0.0031250000, Momentum: 0.9000000000, Weight Decay: 0.0000000000\n"
          ],
          "name": "stdout"
        },
        {
          "output_type": "stream",
          "text": [
            "loss=0.1900036782026291 batch_id=731: 100%|██████████| 732/732 [00:12<00:00, 68.12it/s]\n",
            "  0%|          | 0/732 [00:00<?, ?it/s]"
          ],
          "name": "stderr"
        },
        {
          "output_type": "stream",
          "text": [
            "\n",
            "Epoch: 15 Train set: Average loss: 0.0006, Accuracy: 98.488%\n",
            "Epoch: 15 Test set: Average loss: 0.0233, Accuracy: 99.360%\n",
            "Epoch: 15 Optimizer values: LastLR:0.0031250000, Momentum: 0.9000000000, Weight Decay: 0.0000000000\n"
          ],
          "name": "stdout"
        },
        {
          "output_type": "stream",
          "text": [
            "loss=0.07975132018327713 batch_id=731: 100%|██████████| 732/732 [00:13<00:00, 54.66it/s]\n",
            "  0%|          | 0/732 [00:00<?, ?it/s]"
          ],
          "name": "stderr"
        },
        {
          "output_type": "stream",
          "text": [
            "\n",
            "Epoch: 16 Train set: Average loss: 0.0006, Accuracy: 98.463%\n",
            "Epoch: 16 Test set: Average loss: 0.0233, Accuracy: 99.370%\n",
            "Epoch: 16 Optimizer values: LastLR:0.0015625000, Momentum: 0.9000000000, Weight Decay: 0.0000000000\n"
          ],
          "name": "stdout"
        },
        {
          "output_type": "stream",
          "text": [
            "loss=0.06652383506298065 batch_id=731: 100%|██████████| 732/732 [00:12<00:00, 56.55it/s]\n",
            "  0%|          | 0/732 [00:00<?, ?it/s]"
          ],
          "name": "stderr"
        },
        {
          "output_type": "stream",
          "text": [
            "\n",
            "Epoch: 17 Train set: Average loss: 0.0006, Accuracy: 98.490%\n",
            "Epoch: 17 Test set: Average loss: 0.0217, Accuracy: 99.380%\n",
            "Epoch: 17 Optimizer values: LastLR:0.0015625000, Momentum: 0.9000000000, Weight Decay: 0.0000000000\n"
          ],
          "name": "stdout"
        },
        {
          "output_type": "stream",
          "text": [
            "loss=0.08014963567256927 batch_id=731: 100%|██████████| 732/732 [00:13<00:00, 53.12it/s]\n",
            "  0%|          | 0/732 [00:00<?, ?it/s]"
          ],
          "name": "stderr"
        },
        {
          "output_type": "stream",
          "text": [
            "\n",
            "Epoch: 18 Train set: Average loss: 0.0006, Accuracy: 98.578%\n",
            "Epoch: 18 Test set: Average loss: 0.0216, Accuracy: 99.390%\n",
            "Epoch: 18 Optimizer values: LastLR:0.0007812500, Momentum: 0.9000000000, Weight Decay: 0.0000000000\n"
          ],
          "name": "stdout"
        },
        {
          "output_type": "stream",
          "text": [
            "loss=0.025740524753928185 batch_id=731: 100%|██████████| 732/732 [00:13<00:00, 55.28it/s]\n",
            "  0%|          | 0/732 [00:00<?, ?it/s]"
          ],
          "name": "stderr"
        },
        {
          "output_type": "stream",
          "text": [
            "\n",
            "Epoch: 19 Train set: Average loss: 0.0006, Accuracy: 98.575%\n",
            "Epoch: 19 Test set: Average loss: 0.0222, Accuracy: 99.370%\n",
            "Epoch: 19 Optimizer values: LastLR:0.0007812500, Momentum: 0.9000000000, Weight Decay: 0.0000000000\n"
          ],
          "name": "stdout"
        },
        {
          "output_type": "stream",
          "text": [
            "loss=0.03435032069683075 batch_id=731: 100%|██████████| 732/732 [00:13<00:00, 54.98it/s]\n",
            "  0%|          | 0/732 [00:00<?, ?it/s]"
          ],
          "name": "stderr"
        },
        {
          "output_type": "stream",
          "text": [
            "\n",
            "Epoch: 20 Train set: Average loss: 0.0006, Accuracy: 98.522%\n",
            "Epoch: 20 Test set: Average loss: 0.0220, Accuracy: 99.380%\n",
            "Epoch: 20 Optimizer values: LastLR:0.0003906250, Momentum: 0.9000000000, Weight Decay: 0.0000000000\n"
          ],
          "name": "stdout"
        },
        {
          "output_type": "stream",
          "text": [
            "loss=0.0064930422231554985 batch_id=731: 100%|██████████| 732/732 [00:12<00:00, 56.83it/s]\n",
            "  0%|          | 0/732 [00:00<?, ?it/s]"
          ],
          "name": "stderr"
        },
        {
          "output_type": "stream",
          "text": [
            "\n",
            "Epoch: 21 Train set: Average loss: 0.0006, Accuracy: 98.555%\n",
            "Epoch: 21 Test set: Average loss: 0.0215, Accuracy: 99.400%\n",
            "Epoch: 21 Optimizer values: LastLR:0.0003906250, Momentum: 0.9000000000, Weight Decay: 0.0000000000\n"
          ],
          "name": "stdout"
        },
        {
          "output_type": "stream",
          "text": [
            "loss=0.24682550132274628 batch_id=731: 100%|██████████| 732/732 [00:13<00:00, 54.25it/s]\n",
            "  0%|          | 0/732 [00:00<?, ?it/s]"
          ],
          "name": "stderr"
        },
        {
          "output_type": "stream",
          "text": [
            "\n",
            "Epoch: 22 Train set: Average loss: 0.0006, Accuracy: 98.505%\n",
            "Epoch: 22 Test set: Average loss: 0.0216, Accuracy: 99.400%\n",
            "Epoch: 22 Optimizer values: LastLR:0.0001953125, Momentum: 0.9000000000, Weight Decay: 0.0000000000\n"
          ],
          "name": "stdout"
        },
        {
          "output_type": "stream",
          "text": [
            "loss=0.0022966039832681417 batch_id=731: 100%|██████████| 732/732 [00:12<00:00, 56.84it/s]\n",
            "  0%|          | 0/732 [00:00<?, ?it/s]"
          ],
          "name": "stderr"
        },
        {
          "output_type": "stream",
          "text": [
            "\n",
            "Epoch: 23 Train set: Average loss: 0.0006, Accuracy: 98.545%\n",
            "Epoch: 23 Test set: Average loss: 0.0213, Accuracy: 99.420%\n",
            "Epoch: 23 Optimizer values: LastLR:0.0001953125, Momentum: 0.9000000000, Weight Decay: 0.0000000000\n"
          ],
          "name": "stdout"
        },
        {
          "output_type": "stream",
          "text": [
            "loss=0.028965868055820465 batch_id=731: 100%|██████████| 732/732 [00:12<00:00, 56.77it/s]\n",
            "  0%|          | 0/732 [00:00<?, ?it/s]"
          ],
          "name": "stderr"
        },
        {
          "output_type": "stream",
          "text": [
            "\n",
            "Epoch: 24 Train set: Average loss: 0.0006, Accuracy: 98.523%\n",
            "Epoch: 24 Test set: Average loss: 0.0217, Accuracy: 99.390%\n",
            "Epoch: 24 Optimizer values: LastLR:0.0000976563, Momentum: 0.9000000000, Weight Decay: 0.0000000000\n"
          ],
          "name": "stdout"
        },
        {
          "output_type": "stream",
          "text": [
            "loss=0.04220382124185562 batch_id=731: 100%|██████████| 732/732 [00:12<00:00, 56.78it/s]\n",
            "  0%|          | 0/732 [00:00<?, ?it/s]"
          ],
          "name": "stderr"
        },
        {
          "output_type": "stream",
          "text": [
            "\n",
            "Epoch: 25 Train set: Average loss: 0.0006, Accuracy: 98.423%\n",
            "Epoch: 25 Test set: Average loss: 0.0218, Accuracy: 99.400%\n",
            "Epoch: 25 Optimizer values: LastLR:0.0000976563, Momentum: 0.9000000000, Weight Decay: 0.0000000000\n"
          ],
          "name": "stdout"
        },
        {
          "output_type": "stream",
          "text": [
            "loss=0.2517619729042053 batch_id=731: 100%|██████████| 732/732 [00:13<00:00, 53.85it/s]\n",
            "  0%|          | 0/732 [00:00<?, ?it/s]"
          ],
          "name": "stderr"
        },
        {
          "output_type": "stream",
          "text": [
            "\n",
            "Epoch: 26 Train set: Average loss: 0.0006, Accuracy: 98.513%\n",
            "Epoch: 26 Test set: Average loss: 0.0217, Accuracy: 99.390%\n",
            "Epoch: 26 Optimizer values: LastLR:0.0000488281, Momentum: 0.9000000000, Weight Decay: 0.0000000000\n"
          ],
          "name": "stdout"
        },
        {
          "output_type": "stream",
          "text": [
            "loss=0.096003957092762 batch_id=731: 100%|██████████| 732/732 [00:13<00:00, 63.21it/s]\n",
            "  0%|          | 0/732 [00:00<?, ?it/s]"
          ],
          "name": "stderr"
        },
        {
          "output_type": "stream",
          "text": [
            "\n",
            "Epoch: 27 Train set: Average loss: 0.0006, Accuracy: 98.480%\n",
            "Epoch: 27 Test set: Average loss: 0.0218, Accuracy: 99.390%\n",
            "Epoch: 27 Optimizer values: LastLR:0.0000488281, Momentum: 0.9000000000, Weight Decay: 0.0000000000\n"
          ],
          "name": "stdout"
        },
        {
          "output_type": "stream",
          "text": [
            "loss=0.022840261459350586 batch_id=731: 100%|██████████| 732/732 [00:13<00:00, 55.63it/s]\n",
            "  0%|          | 0/732 [00:00<?, ?it/s]"
          ],
          "name": "stderr"
        },
        {
          "output_type": "stream",
          "text": [
            "\n",
            "Epoch: 28 Train set: Average loss: 0.0006, Accuracy: 98.450%\n",
            "Epoch: 28 Test set: Average loss: 0.0219, Accuracy: 99.380%\n",
            "Epoch: 28 Optimizer values: LastLR:0.0000244141, Momentum: 0.9000000000, Weight Decay: 0.0000000000\n"
          ],
          "name": "stdout"
        },
        {
          "output_type": "stream",
          "text": [
            "loss=0.03481803089380264 batch_id=731: 100%|██████████| 732/732 [00:12<00:00, 57.26it/s]\n",
            "  0%|          | 0/732 [00:00<?, ?it/s]"
          ],
          "name": "stderr"
        },
        {
          "output_type": "stream",
          "text": [
            "\n",
            "Epoch: 29 Train set: Average loss: 0.0006, Accuracy: 98.400%\n",
            "Epoch: 29 Test set: Average loss: 0.0216, Accuracy: 99.390%\n",
            "Epoch: 29 Optimizer values: LastLR:0.0000244141, Momentum: 0.9000000000, Weight Decay: 0.0000000000\n"
          ],
          "name": "stdout"
        },
        {
          "output_type": "stream",
          "text": [
            "loss=0.010391078889369965 batch_id=731: 100%|██████████| 732/732 [00:13<00:00, 55.05it/s]\n",
            "  0%|          | 0/732 [00:00<?, ?it/s]"
          ],
          "name": "stderr"
        },
        {
          "output_type": "stream",
          "text": [
            "\n",
            "Epoch: 30 Train set: Average loss: 0.0006, Accuracy: 98.565%\n",
            "Epoch: 30 Test set: Average loss: 0.0219, Accuracy: 99.390%\n",
            "Epoch: 30 Optimizer values: LastLR:0.0000122070, Momentum: 0.9000000000, Weight Decay: 0.0000000000\n"
          ],
          "name": "stdout"
        },
        {
          "output_type": "stream",
          "text": [
            "loss=0.022617176175117493 batch_id=731: 100%|██████████| 732/732 [00:13<00:00, 55.32it/s]\n",
            "  0%|          | 0/732 [00:00<?, ?it/s]"
          ],
          "name": "stderr"
        },
        {
          "output_type": "stream",
          "text": [
            "\n",
            "Epoch: 31 Train set: Average loss: 0.0006, Accuracy: 98.492%\n",
            "Epoch: 31 Test set: Average loss: 0.0213, Accuracy: 99.400%\n",
            "Epoch: 31 Optimizer values: LastLR:0.0000122070, Momentum: 0.9000000000, Weight Decay: 0.0000000000\n"
          ],
          "name": "stdout"
        },
        {
          "output_type": "stream",
          "text": [
            "loss=0.02403530664741993 batch_id=731: 100%|██████████| 732/732 [00:12<00:00, 56.72it/s]\n",
            "  0%|          | 0/732 [00:00<?, ?it/s]"
          ],
          "name": "stderr"
        },
        {
          "output_type": "stream",
          "text": [
            "\n",
            "Epoch: 32 Train set: Average loss: 0.0006, Accuracy: 98.503%\n",
            "Epoch: 32 Test set: Average loss: 0.0222, Accuracy: 99.370%\n",
            "Epoch: 32 Optimizer values: LastLR:0.0000061035, Momentum: 0.9000000000, Weight Decay: 0.0000000000\n"
          ],
          "name": "stdout"
        },
        {
          "output_type": "stream",
          "text": [
            "loss=0.010517893359065056 batch_id=731: 100%|██████████| 732/732 [00:12<00:00, 57.40it/s]\n",
            "  0%|          | 0/732 [00:00<?, ?it/s]"
          ],
          "name": "stderr"
        },
        {
          "output_type": "stream",
          "text": [
            "\n",
            "Epoch: 33 Train set: Average loss: 0.0006, Accuracy: 98.457%\n",
            "Epoch: 33 Test set: Average loss: 0.0216, Accuracy: 99.370%\n",
            "Epoch: 33 Optimizer values: LastLR:0.0000061035, Momentum: 0.9000000000, Weight Decay: 0.0000000000\n"
          ],
          "name": "stdout"
        },
        {
          "output_type": "stream",
          "text": [
            "loss=0.04377976804971695 batch_id=731: 100%|██████████| 732/732 [00:12<00:00, 56.49it/s]\n",
            "  0%|          | 0/732 [00:00<?, ?it/s]"
          ],
          "name": "stderr"
        },
        {
          "output_type": "stream",
          "text": [
            "\n",
            "Epoch: 34 Train set: Average loss: 0.0006, Accuracy: 98.470%\n",
            "Epoch: 34 Test set: Average loss: 0.0220, Accuracy: 99.370%\n",
            "Epoch: 34 Optimizer values: LastLR:0.0000030518, Momentum: 0.9000000000, Weight Decay: 0.0000000000\n"
          ],
          "name": "stdout"
        },
        {
          "output_type": "stream",
          "text": [
            "loss=0.019376788288354874 batch_id=731: 100%|██████████| 732/732 [00:13<00:00, 55.43it/s]\n",
            "  0%|          | 0/732 [00:00<?, ?it/s]"
          ],
          "name": "stderr"
        },
        {
          "output_type": "stream",
          "text": [
            "\n",
            "Epoch: 35 Train set: Average loss: 0.0006, Accuracy: 98.532%\n",
            "Epoch: 35 Test set: Average loss: 0.0214, Accuracy: 99.400%\n",
            "Epoch: 35 Optimizer values: LastLR:0.0000030518, Momentum: 0.9000000000, Weight Decay: 0.0000000000\n"
          ],
          "name": "stdout"
        },
        {
          "output_type": "stream",
          "text": [
            "loss=0.04399335756897926 batch_id=731: 100%|██████████| 732/732 [00:13<00:00, 54.84it/s]\n",
            "  0%|          | 0/732 [00:00<?, ?it/s]"
          ],
          "name": "stderr"
        },
        {
          "output_type": "stream",
          "text": [
            "\n",
            "Epoch: 36 Train set: Average loss: 0.0006, Accuracy: 98.483%\n",
            "Epoch: 36 Test set: Average loss: 0.0215, Accuracy: 99.410%\n",
            "Epoch: 36 Optimizer values: LastLR:0.0000015259, Momentum: 0.9000000000, Weight Decay: 0.0000000000\n"
          ],
          "name": "stdout"
        },
        {
          "output_type": "stream",
          "text": [
            "loss=0.02661035768687725 batch_id=731: 100%|██████████| 732/732 [00:13<00:00, 53.88it/s]\n",
            "  0%|          | 0/732 [00:00<?, ?it/s]"
          ],
          "name": "stderr"
        },
        {
          "output_type": "stream",
          "text": [
            "\n",
            "Epoch: 37 Train set: Average loss: 0.0006, Accuracy: 98.557%\n",
            "Epoch: 37 Test set: Average loss: 0.0219, Accuracy: 99.390%\n",
            "Epoch: 37 Optimizer values: LastLR:0.0000015259, Momentum: 0.9000000000, Weight Decay: 0.0000000000\n"
          ],
          "name": "stdout"
        },
        {
          "output_type": "stream",
          "text": [
            "loss=0.057186998426914215 batch_id=731: 100%|██████████| 732/732 [00:13<00:00, 55.86it/s]\n",
            "  0%|          | 0/732 [00:00<?, ?it/s]"
          ],
          "name": "stderr"
        },
        {
          "output_type": "stream",
          "text": [
            "\n",
            "Epoch: 38 Train set: Average loss: 0.0006, Accuracy: 98.498%\n",
            "Epoch: 38 Test set: Average loss: 0.0223, Accuracy: 99.370%\n",
            "Epoch: 38 Optimizer values: LastLR:0.0000007629, Momentum: 0.9000000000, Weight Decay: 0.0000000000\n"
          ],
          "name": "stdout"
        },
        {
          "output_type": "stream",
          "text": [
            "loss=0.011726823635399342 batch_id=731: 100%|██████████| 732/732 [00:13<00:00, 54.70it/s]\n",
            "  0%|          | 0/732 [00:00<?, ?it/s]"
          ],
          "name": "stderr"
        },
        {
          "output_type": "stream",
          "text": [
            "\n",
            "Epoch: 39 Train set: Average loss: 0.0006, Accuracy: 98.448%\n",
            "Epoch: 39 Test set: Average loss: 0.0226, Accuracy: 99.390%\n",
            "Epoch: 39 Optimizer values: LastLR:0.0000007629, Momentum: 0.9000000000, Weight Decay: 0.0000000000\n"
          ],
          "name": "stdout"
        },
        {
          "output_type": "stream",
          "text": [
            "loss=0.022400379180908203 batch_id=731: 100%|██████████| 732/732 [00:13<00:00, 63.38it/s]\n"
          ],
          "name": "stderr"
        },
        {
          "output_type": "stream",
          "text": [
            "\n",
            "Epoch: 40 Train set: Average loss: 0.0006, Accuracy: 98.512%\n",
            "Epoch: 40 Test set: Average loss: 0.0222, Accuracy: 99.350%\n",
            "Epoch: 40 Optimizer values: LastLR:0.0000003815, Momentum: 0.9000000000, Weight Decay: 0.0000000000\n"
          ],
          "name": "stdout"
        }
      ]
    },
    {
      "cell_type": "markdown",
      "metadata": {
        "colab_type": "text",
        "id": "kpOeD-8ssiGW"
      },
      "source": [
        "# L2 + Base Model with 40 Epochs\n",
        "# Model-Path: /content/EVA4/model-baseline_l2.h5"
      ]
    },
    {
      "cell_type": "code",
      "metadata": {
        "colab_type": "code",
        "outputId": "392e5b82-3ff3-4ce2-b63d-ab0478c0d8a1",
        "id": "epiC8ejD6Ssn",
        "colab": {
          "base_uri": "https://localhost:8080/",
          "height": 1000
        }
      },
      "source": [
        "from torch.optim.lr_scheduler import StepLR, OneCycleLR, MultiStepLR\n",
        "import os\n",
        "hyperparameter_defaults = dict(\n",
        "    dropout = 0.1,\n",
        "    batch_size = 82,\n",
        "    test_batch_size=34,\n",
        "    lr = 0.025,\n",
        "    momentum = 0.9,\n",
        "    no_cuda = False,\n",
        "    seed = 1,\n",
        "    epochs = 40,\n",
        "    bias = False,\n",
        "    sched_lr_gamma = 0.5,\n",
        "    sched_lr_step= 2,\n",
        "    start_lr = 7,\n",
        "    weight_decay=0.0006905824115205087\n",
        "    )\n",
        "Baseline_l2_Model_Metrics={\n",
        "    'Train Accuracy': [], \n",
        "    'Train Loss': [], \n",
        "    'Test Accuracy':[], \n",
        "    'Test Loss': [],\n",
        "    'Learning Rate': [], \n",
        "    'Decay Learning Rate': []\n",
        "}\n",
        "\n",
        "config = hyperparameter_defaults\n",
        "model_path = generate_model_save_path(mod_string=\"baseline_l2\")\n",
        "print(\"Model will be saved to:\", model_path)\n",
        "\n",
        "def main():\n",
        "    use_cuda = not config['no_cuda'] and torch.cuda.is_available()\n",
        "    device = torch.device(\"cuda\" if use_cuda else \"cpu\")\n",
        "    kwargs = {'num_workers': 4, 'pin_memory': True} if use_cuda else {}\n",
        "    \n",
        "    torch.manual_seed(config['seed']) # pytorch random seed\n",
        "    torch.backends.cudnn.deterministic = True\n",
        "\n",
        "    train_loader = torch.utils.data.DataLoader(\n",
        "        datasets.MNIST('../data', train=True, download=True,\n",
        "                        transform=train_transforms),\n",
        "        batch_size=config['batch_size'], shuffle=True, **kwargs)\n",
        "    test_loader = torch.utils.data.DataLoader(\n",
        "        datasets.MNIST('../data', train=False, transform=test_transforms),\n",
        "        batch_size=config['batch_size'], shuffle=True, **kwargs)\n",
        "\n",
        "    model = MNISTDigitBuilder(dropout=config['dropout']).to(device)\n",
        "    optimizer = optim.SGD(model.parameters(), lr=config['lr'], momentum=config['momentum'], weight_decay=config['weight_decay'])\n",
        "    scheduler = StepLR(optimizer, step_size=config['sched_lr_step'], gamma=config['sched_lr_gamma'])\n",
        "    for epoch in range(1, config['epochs'] + 1):\n",
        "        epoch_train_acc,epoch_train_loss = train(config, model, device, train_loader, optimizer, epoch)        \n",
        "        epoch_test_acc,epoch_test_loss = test(config, model, device, test_loader, epoch)        \n",
        "        print('\\nEpoch: {:.0f} Train set: Average loss: {:.4f}, Accuracy: {:.3f}%'.format(\n",
        "        epoch, epoch_train_loss, epoch_train_acc))\n",
        "        print('Epoch: {:.0f} Test set: Average loss: {:.4f}, Accuracy: {:.3f}%'.format(\n",
        "        epoch, epoch_test_loss, epoch_test_acc))\n",
        "        myoptim = optimizer.state_dict()['param_groups'][0]\n",
        "\n",
        "        print('Epoch: {:.0f} Optimizer values: LastLR:{:.10f}, Momentum: {:.10f}, Weight Decay: {:.10f}'.format(\n",
        "        epoch, scheduler.get_last_lr()[0],myoptim['momentum'],myoptim['weight_decay']))\n",
        "\n",
        "        Baseline_l2_Model_Metrics['Train Accuracy'].append(epoch_train_acc)\n",
        "        Baseline_l2_Model_Metrics['Train Loss'].append(epoch_train_loss)\n",
        "        Baseline_l2_Model_Metrics['Test Accuracy'].append(epoch_test_acc)\n",
        "        Baseline_l2_Model_Metrics['Test Loss'].append(epoch_test_loss)\n",
        "        Baseline_l2_Model_Metrics['Learning Rate'].append(config['lr'])\n",
        "        Baseline_l2_Model_Metrics['Decay Learning Rate'].append(scheduler.get_lr()) \n",
        "\n",
        "        if (epoch > config['start_lr']):\n",
        "            scheduler.step()\n",
        "\n",
        "    torch.save({\n",
        "            'model_state_dict': model.state_dict(),\n",
        "            'optimizer_state_dict': optimizer.state_dict()\n",
        "            }, model_path)\n",
        "    \n",
        "if __name__ == '__main__':\n",
        "    main()"
      ],
      "execution_count": 19,
      "outputs": [
        {
          "output_type": "stream",
          "text": [
            "\r  0%|          | 0/732 [00:00<?, ?it/s]"
          ],
          "name": "stderr"
        },
        {
          "output_type": "stream",
          "text": [
            "Model will be saved to: /content/EVA4/model-169b562f6e.h5\n"
          ],
          "name": "stdout"
        },
        {
          "output_type": "stream",
          "text": [
            "loss=0.22922168672084808 batch_id=731: 100%|██████████| 732/732 [00:14<00:00, 51.58it/s]\n",
            "  0%|          | 0/732 [00:00<?, ?it/s]"
          ],
          "name": "stderr"
        },
        {
          "output_type": "stream",
          "text": [
            "\n",
            "Epoch: 1 Train set: Average loss: 0.0038, Accuracy: 90.282%\n",
            "Epoch: 1 Test set: Average loss: 0.0686, Accuracy: 97.970%\n",
            "Epoch: 1 Optimizer values: LastLR:0.0250000000, Momentum: 0.9000000000, Weight Decay: 0.0006905824\n"
          ],
          "name": "stdout"
        },
        {
          "output_type": "stream",
          "text": [
            "loss=0.13578680157661438 batch_id=731: 100%|██████████| 732/732 [00:13<00:00, 52.82it/s]\n",
            "  0%|          | 0/732 [00:00<?, ?it/s]"
          ],
          "name": "stderr"
        },
        {
          "output_type": "stream",
          "text": [
            "\n",
            "Epoch: 2 Train set: Average loss: 0.0015, Accuracy: 96.237%\n",
            "Epoch: 2 Test set: Average loss: 0.0504, Accuracy: 98.390%\n",
            "Epoch: 2 Optimizer values: LastLR:0.0250000000, Momentum: 0.9000000000, Weight Decay: 0.0006905824\n"
          ],
          "name": "stdout"
        },
        {
          "output_type": "stream",
          "text": [
            "loss=0.04428606107831001 batch_id=731: 100%|██████████| 732/732 [00:13<00:00, 54.21it/s]\n",
            "  0%|          | 0/732 [00:00<?, ?it/s]"
          ],
          "name": "stderr"
        },
        {
          "output_type": "stream",
          "text": [
            "\n",
            "Epoch: 3 Train set: Average loss: 0.0013, Accuracy: 96.905%\n",
            "Epoch: 3 Test set: Average loss: 0.0421, Accuracy: 98.750%\n",
            "Epoch: 3 Optimizer values: LastLR:0.0250000000, Momentum: 0.9000000000, Weight Decay: 0.0006905824\n"
          ],
          "name": "stdout"
        },
        {
          "output_type": "stream",
          "text": [
            "loss=0.0462949201464653 batch_id=731: 100%|██████████| 732/732 [00:13<00:00, 54.55it/s]\n",
            "  0%|          | 0/732 [00:00<?, ?it/s]"
          ],
          "name": "stderr"
        },
        {
          "output_type": "stream",
          "text": [
            "\n",
            "Epoch: 4 Train set: Average loss: 0.0012, Accuracy: 97.242%\n",
            "Epoch: 4 Test set: Average loss: 0.0431, Accuracy: 98.700%\n",
            "Epoch: 4 Optimizer values: LastLR:0.0250000000, Momentum: 0.9000000000, Weight Decay: 0.0006905824\n"
          ],
          "name": "stdout"
        },
        {
          "output_type": "stream",
          "text": [
            "loss=0.03770565241575241 batch_id=731: 100%|██████████| 732/732 [00:13<00:00, 53.43it/s]\n",
            "  0%|          | 0/732 [00:00<?, ?it/s]"
          ],
          "name": "stderr"
        },
        {
          "output_type": "stream",
          "text": [
            "\n",
            "Epoch: 5 Train set: Average loss: 0.0011, Accuracy: 97.375%\n",
            "Epoch: 5 Test set: Average loss: 0.0347, Accuracy: 98.980%\n",
            "Epoch: 5 Optimizer values: LastLR:0.0250000000, Momentum: 0.9000000000, Weight Decay: 0.0006905824\n"
          ],
          "name": "stdout"
        },
        {
          "output_type": "stream",
          "text": [
            "loss=0.10699720680713654 batch_id=731: 100%|██████████| 732/732 [00:13<00:00, 53.59it/s]\n",
            "  0%|          | 0/732 [00:00<?, ?it/s]"
          ],
          "name": "stderr"
        },
        {
          "output_type": "stream",
          "text": [
            "\n",
            "Epoch: 6 Train set: Average loss: 0.0011, Accuracy: 97.447%\n",
            "Epoch: 6 Test set: Average loss: 0.0368, Accuracy: 99.020%\n",
            "Epoch: 6 Optimizer values: LastLR:0.0250000000, Momentum: 0.9000000000, Weight Decay: 0.0006905824\n"
          ],
          "name": "stdout"
        },
        {
          "output_type": "stream",
          "text": [
            "loss=0.019754590466618538 batch_id=731: 100%|██████████| 732/732 [00:13<00:00, 55.58it/s]\n",
            "  0%|          | 0/732 [00:00<?, ?it/s]"
          ],
          "name": "stderr"
        },
        {
          "output_type": "stream",
          "text": [
            "\n",
            "Epoch: 7 Train set: Average loss: 0.0011, Accuracy: 97.442%\n",
            "Epoch: 7 Test set: Average loss: 0.0423, Accuracy: 98.830%\n",
            "Epoch: 7 Optimizer values: LastLR:0.0250000000, Momentum: 0.9000000000, Weight Decay: 0.0006905824\n"
          ],
          "name": "stdout"
        },
        {
          "output_type": "stream",
          "text": [
            "loss=0.04424985870718956 batch_id=731: 100%|██████████| 732/732 [00:13<00:00, 54.99it/s]\n",
            "  0%|          | 0/732 [00:00<?, ?it/s]"
          ],
          "name": "stderr"
        },
        {
          "output_type": "stream",
          "text": [
            "\n",
            "Epoch: 8 Train set: Average loss: 0.0010, Accuracy: 97.560%\n",
            "Epoch: 8 Test set: Average loss: 0.0446, Accuracy: 98.720%\n",
            "Epoch: 8 Optimizer values: LastLR:0.0250000000, Momentum: 0.9000000000, Weight Decay: 0.0006905824\n"
          ],
          "name": "stdout"
        },
        {
          "output_type": "stream",
          "text": [
            "loss=0.041058674454689026 batch_id=731: 100%|██████████| 732/732 [00:13<00:00, 54.83it/s]\n",
            "  0%|          | 0/732 [00:00<?, ?it/s]"
          ],
          "name": "stderr"
        },
        {
          "output_type": "stream",
          "text": [
            "\n",
            "Epoch: 9 Train set: Average loss: 0.0010, Accuracy: 97.540%\n",
            "Epoch: 9 Test set: Average loss: 0.0358, Accuracy: 99.010%\n",
            "Epoch: 9 Optimizer values: LastLR:0.0250000000, Momentum: 0.9000000000, Weight Decay: 0.0006905824\n"
          ],
          "name": "stdout"
        },
        {
          "output_type": "stream",
          "text": [
            "loss=0.06399714201688766 batch_id=731: 100%|██████████| 732/732 [00:13<00:00, 54.96it/s]\n",
            "  0%|          | 0/732 [00:00<?, ?it/s]"
          ],
          "name": "stderr"
        },
        {
          "output_type": "stream",
          "text": [
            "\n",
            "Epoch: 10 Train set: Average loss: 0.0009, Accuracy: 97.932%\n",
            "Epoch: 10 Test set: Average loss: 0.0264, Accuracy: 99.270%\n",
            "Epoch: 10 Optimizer values: LastLR:0.0125000000, Momentum: 0.9000000000, Weight Decay: 0.0006905824\n"
          ],
          "name": "stdout"
        },
        {
          "output_type": "stream",
          "text": [
            "loss=0.04827725887298584 batch_id=731: 100%|██████████| 732/732 [00:13<00:00, 55.72it/s]\n",
            "  0%|          | 0/732 [00:00<?, ?it/s]"
          ],
          "name": "stderr"
        },
        {
          "output_type": "stream",
          "text": [
            "\n",
            "Epoch: 11 Train set: Average loss: 0.0008, Accuracy: 98.080%\n",
            "Epoch: 11 Test set: Average loss: 0.0287, Accuracy: 99.150%\n",
            "Epoch: 11 Optimizer values: LastLR:0.0125000000, Momentum: 0.9000000000, Weight Decay: 0.0006905824\n"
          ],
          "name": "stdout"
        },
        {
          "output_type": "stream",
          "text": [
            "loss=0.09683806449174881 batch_id=731: 100%|██████████| 732/732 [00:12<00:00, 56.80it/s]\n",
            "  0%|          | 0/732 [00:00<?, ?it/s]"
          ],
          "name": "stderr"
        },
        {
          "output_type": "stream",
          "text": [
            "\n",
            "Epoch: 12 Train set: Average loss: 0.0007, Accuracy: 98.273%\n",
            "Epoch: 12 Test set: Average loss: 0.0282, Accuracy: 99.220%\n",
            "Epoch: 12 Optimizer values: LastLR:0.0062500000, Momentum: 0.9000000000, Weight Decay: 0.0006905824\n"
          ],
          "name": "stdout"
        },
        {
          "output_type": "stream",
          "text": [
            "loss=0.0833919569849968 batch_id=731: 100%|██████████| 732/732 [00:13<00:00, 54.95it/s]\n",
            "  0%|          | 0/732 [00:00<?, ?it/s]"
          ],
          "name": "stderr"
        },
        {
          "output_type": "stream",
          "text": [
            "\n",
            "Epoch: 13 Train set: Average loss: 0.0007, Accuracy: 98.298%\n",
            "Epoch: 13 Test set: Average loss: 0.0274, Accuracy: 99.190%\n",
            "Epoch: 13 Optimizer values: LastLR:0.0062500000, Momentum: 0.9000000000, Weight Decay: 0.0006905824\n"
          ],
          "name": "stdout"
        },
        {
          "output_type": "stream",
          "text": [
            "loss=0.009201214648783207 batch_id=731: 100%|██████████| 732/732 [00:13<00:00, 55.44it/s]\n",
            "  0%|          | 0/732 [00:00<?, ?it/s]"
          ],
          "name": "stderr"
        },
        {
          "output_type": "stream",
          "text": [
            "\n",
            "Epoch: 14 Train set: Average loss: 0.0007, Accuracy: 98.427%\n",
            "Epoch: 14 Test set: Average loss: 0.0231, Accuracy: 99.290%\n",
            "Epoch: 14 Optimizer values: LastLR:0.0031250000, Momentum: 0.9000000000, Weight Decay: 0.0006905824\n"
          ],
          "name": "stdout"
        },
        {
          "output_type": "stream",
          "text": [
            "loss=0.10478948801755905 batch_id=731: 100%|██████████| 732/732 [00:13<00:00, 56.21it/s]\n",
            "  0%|          | 0/732 [00:00<?, ?it/s]"
          ],
          "name": "stderr"
        },
        {
          "output_type": "stream",
          "text": [
            "\n",
            "Epoch: 15 Train set: Average loss: 0.0007, Accuracy: 98.442%\n",
            "Epoch: 15 Test set: Average loss: 0.0259, Accuracy: 99.180%\n",
            "Epoch: 15 Optimizer values: LastLR:0.0031250000, Momentum: 0.9000000000, Weight Decay: 0.0006905824\n"
          ],
          "name": "stdout"
        },
        {
          "output_type": "stream",
          "text": [
            "loss=0.1379052996635437 batch_id=731: 100%|██████████| 732/732 [00:12<00:00, 56.99it/s]\n",
            "  0%|          | 0/732 [00:00<?, ?it/s]"
          ],
          "name": "stderr"
        },
        {
          "output_type": "stream",
          "text": [
            "\n",
            "Epoch: 16 Train set: Average loss: 0.0007, Accuracy: 98.447%\n",
            "Epoch: 16 Test set: Average loss: 0.0253, Accuracy: 99.250%\n",
            "Epoch: 16 Optimizer values: LastLR:0.0015625000, Momentum: 0.9000000000, Weight Decay: 0.0006905824\n"
          ],
          "name": "stdout"
        },
        {
          "output_type": "stream",
          "text": [
            "loss=0.03332504630088806 batch_id=731: 100%|██████████| 732/732 [00:12<00:00, 56.51it/s]\n",
            "  0%|          | 0/732 [00:00<?, ?it/s]"
          ],
          "name": "stderr"
        },
        {
          "output_type": "stream",
          "text": [
            "\n",
            "Epoch: 17 Train set: Average loss: 0.0006, Accuracy: 98.498%\n",
            "Epoch: 17 Test set: Average loss: 0.0221, Accuracy: 99.330%\n",
            "Epoch: 17 Optimizer values: LastLR:0.0015625000, Momentum: 0.9000000000, Weight Decay: 0.0006905824\n"
          ],
          "name": "stdout"
        },
        {
          "output_type": "stream",
          "text": [
            "loss=0.056872621178627014 batch_id=731: 100%|██████████| 732/732 [00:13<00:00, 54.42it/s]\n",
            "  0%|          | 0/732 [00:00<?, ?it/s]"
          ],
          "name": "stderr"
        },
        {
          "output_type": "stream",
          "text": [
            "\n",
            "Epoch: 18 Train set: Average loss: 0.0006, Accuracy: 98.618%\n",
            "Epoch: 18 Test set: Average loss: 0.0218, Accuracy: 99.360%\n",
            "Epoch: 18 Optimizer values: LastLR:0.0007812500, Momentum: 0.9000000000, Weight Decay: 0.0006905824\n"
          ],
          "name": "stdout"
        },
        {
          "output_type": "stream",
          "text": [
            "loss=0.044671304523944855 batch_id=731: 100%|██████████| 732/732 [00:13<00:00, 55.01it/s]\n",
            "  0%|          | 0/732 [00:00<?, ?it/s]"
          ],
          "name": "stderr"
        },
        {
          "output_type": "stream",
          "text": [
            "\n",
            "Epoch: 19 Train set: Average loss: 0.0006, Accuracy: 98.615%\n",
            "Epoch: 19 Test set: Average loss: 0.0228, Accuracy: 99.320%\n",
            "Epoch: 19 Optimizer values: LastLR:0.0007812500, Momentum: 0.9000000000, Weight Decay: 0.0006905824\n"
          ],
          "name": "stdout"
        },
        {
          "output_type": "stream",
          "text": [
            "loss=0.04633963480591774 batch_id=731: 100%|██████████| 732/732 [00:13<00:00, 55.42it/s]\n",
            "  0%|          | 0/732 [00:00<?, ?it/s]"
          ],
          "name": "stderr"
        },
        {
          "output_type": "stream",
          "text": [
            "\n",
            "Epoch: 20 Train set: Average loss: 0.0006, Accuracy: 98.540%\n",
            "Epoch: 20 Test set: Average loss: 0.0230, Accuracy: 99.330%\n",
            "Epoch: 20 Optimizer values: LastLR:0.0003906250, Momentum: 0.9000000000, Weight Decay: 0.0006905824\n"
          ],
          "name": "stdout"
        },
        {
          "output_type": "stream",
          "text": [
            "loss=0.020530330017209053 batch_id=731: 100%|██████████| 732/732 [00:13<00:00, 54.89it/s]\n",
            "  0%|          | 0/732 [00:00<?, ?it/s]"
          ],
          "name": "stderr"
        },
        {
          "output_type": "stream",
          "text": [
            "\n",
            "Epoch: 21 Train set: Average loss: 0.0006, Accuracy: 98.638%\n",
            "Epoch: 21 Test set: Average loss: 0.0218, Accuracy: 99.360%\n",
            "Epoch: 21 Optimizer values: LastLR:0.0003906250, Momentum: 0.9000000000, Weight Decay: 0.0006905824\n"
          ],
          "name": "stdout"
        },
        {
          "output_type": "stream",
          "text": [
            "loss=0.18942752480506897 batch_id=731: 100%|██████████| 732/732 [00:13<00:00, 54.35it/s]\n",
            "  0%|          | 0/732 [00:00<?, ?it/s]"
          ],
          "name": "stderr"
        },
        {
          "output_type": "stream",
          "text": [
            "\n",
            "Epoch: 22 Train set: Average loss: 0.0006, Accuracy: 98.642%\n",
            "Epoch: 22 Test set: Average loss: 0.0227, Accuracy: 99.330%\n",
            "Epoch: 22 Optimizer values: LastLR:0.0001953125, Momentum: 0.9000000000, Weight Decay: 0.0006905824\n"
          ],
          "name": "stdout"
        },
        {
          "output_type": "stream",
          "text": [
            "loss=0.0034977977629750967 batch_id=731: 100%|██████████| 732/732 [00:13<00:00, 54.11it/s]\n",
            "  0%|          | 0/732 [00:00<?, ?it/s]"
          ],
          "name": "stderr"
        },
        {
          "output_type": "stream",
          "text": [
            "\n",
            "Epoch: 23 Train set: Average loss: 0.0006, Accuracy: 98.647%\n",
            "Epoch: 23 Test set: Average loss: 0.0222, Accuracy: 99.360%\n",
            "Epoch: 23 Optimizer values: LastLR:0.0001953125, Momentum: 0.9000000000, Weight Decay: 0.0006905824\n"
          ],
          "name": "stdout"
        },
        {
          "output_type": "stream",
          "text": [
            "loss=0.07347302883863449 batch_id=731: 100%|██████████| 732/732 [00:13<00:00, 55.48it/s]\n",
            "  0%|          | 0/732 [00:00<?, ?it/s]"
          ],
          "name": "stderr"
        },
        {
          "output_type": "stream",
          "text": [
            "\n",
            "Epoch: 24 Train set: Average loss: 0.0006, Accuracy: 98.637%\n",
            "Epoch: 24 Test set: Average loss: 0.0223, Accuracy: 99.360%\n",
            "Epoch: 24 Optimizer values: LastLR:0.0000976563, Momentum: 0.9000000000, Weight Decay: 0.0006905824\n"
          ],
          "name": "stdout"
        },
        {
          "output_type": "stream",
          "text": [
            "loss=0.029518958181142807 batch_id=731: 100%|██████████| 732/732 [00:13<00:00, 65.22it/s]\n",
            "  0%|          | 0/732 [00:00<?, ?it/s]"
          ],
          "name": "stderr"
        },
        {
          "output_type": "stream",
          "text": [
            "\n",
            "Epoch: 25 Train set: Average loss: 0.0006, Accuracy: 98.610%\n",
            "Epoch: 25 Test set: Average loss: 0.0227, Accuracy: 99.360%\n",
            "Epoch: 25 Optimizer values: LastLR:0.0000976563, Momentum: 0.9000000000, Weight Decay: 0.0006905824\n"
          ],
          "name": "stdout"
        },
        {
          "output_type": "stream",
          "text": [
            "loss=0.18359509110450745 batch_id=731: 100%|██████████| 732/732 [00:13<00:00, 54.21it/s]\n",
            "  0%|          | 0/732 [00:00<?, ?it/s]"
          ],
          "name": "stderr"
        },
        {
          "output_type": "stream",
          "text": [
            "\n",
            "Epoch: 26 Train set: Average loss: 0.0006, Accuracy: 98.640%\n",
            "Epoch: 26 Test set: Average loss: 0.0224, Accuracy: 99.360%\n",
            "Epoch: 26 Optimizer values: LastLR:0.0000488281, Momentum: 0.9000000000, Weight Decay: 0.0006905824\n"
          ],
          "name": "stdout"
        },
        {
          "output_type": "stream",
          "text": [
            "loss=0.04866548255085945 batch_id=731: 100%|██████████| 732/732 [00:13<00:00, 55.45it/s]\n",
            "  0%|          | 0/732 [00:00<?, ?it/s]"
          ],
          "name": "stderr"
        },
        {
          "output_type": "stream",
          "text": [
            "\n",
            "Epoch: 27 Train set: Average loss: 0.0006, Accuracy: 98.583%\n",
            "Epoch: 27 Test set: Average loss: 0.0229, Accuracy: 99.360%\n",
            "Epoch: 27 Optimizer values: LastLR:0.0000488281, Momentum: 0.9000000000, Weight Decay: 0.0006905824\n"
          ],
          "name": "stdout"
        },
        {
          "output_type": "stream",
          "text": [
            "loss=0.018465567380189896 batch_id=731: 100%|██████████| 732/732 [00:12<00:00, 56.43it/s]\n",
            "  0%|          | 0/732 [00:00<?, ?it/s]"
          ],
          "name": "stderr"
        },
        {
          "output_type": "stream",
          "text": [
            "\n",
            "Epoch: 28 Train set: Average loss: 0.0006, Accuracy: 98.603%\n",
            "Epoch: 28 Test set: Average loss: 0.0224, Accuracy: 99.370%\n",
            "Epoch: 28 Optimizer values: LastLR:0.0000244141, Momentum: 0.9000000000, Weight Decay: 0.0006905824\n"
          ],
          "name": "stdout"
        },
        {
          "output_type": "stream",
          "text": [
            "loss=0.12479400634765625 batch_id=731: 100%|██████████| 732/732 [00:13<00:00, 54.44it/s]\n",
            "  0%|          | 0/732 [00:00<?, ?it/s]"
          ],
          "name": "stderr"
        },
        {
          "output_type": "stream",
          "text": [
            "\n",
            "Epoch: 29 Train set: Average loss: 0.0006, Accuracy: 98.647%\n",
            "Epoch: 29 Test set: Average loss: 0.0220, Accuracy: 99.370%\n",
            "Epoch: 29 Optimizer values: LastLR:0.0000244141, Momentum: 0.9000000000, Weight Decay: 0.0006905824\n"
          ],
          "name": "stdout"
        },
        {
          "output_type": "stream",
          "text": [
            "loss=0.03508530929684639 batch_id=731: 100%|██████████| 732/732 [00:13<00:00, 53.38it/s]\n",
            "  0%|          | 0/732 [00:00<?, ?it/s]"
          ],
          "name": "stderr"
        },
        {
          "output_type": "stream",
          "text": [
            "\n",
            "Epoch: 30 Train set: Average loss: 0.0006, Accuracy: 98.638%\n",
            "Epoch: 30 Test set: Average loss: 0.0227, Accuracy: 99.380%\n",
            "Epoch: 30 Optimizer values: LastLR:0.0000122070, Momentum: 0.9000000000, Weight Decay: 0.0006905824\n"
          ],
          "name": "stdout"
        },
        {
          "output_type": "stream",
          "text": [
            "loss=0.06425909698009491 batch_id=731: 100%|██████████| 732/732 [00:13<00:00, 62.99it/s]\n",
            "  0%|          | 0/732 [00:00<?, ?it/s]"
          ],
          "name": "stderr"
        },
        {
          "output_type": "stream",
          "text": [
            "\n",
            "Epoch: 31 Train set: Average loss: 0.0006, Accuracy: 98.592%\n",
            "Epoch: 31 Test set: Average loss: 0.0224, Accuracy: 99.380%\n",
            "Epoch: 31 Optimizer values: LastLR:0.0000122070, Momentum: 0.9000000000, Weight Decay: 0.0006905824\n"
          ],
          "name": "stdout"
        },
        {
          "output_type": "stream",
          "text": [
            "loss=0.09115174412727356 batch_id=731: 100%|██████████| 732/732 [00:13<00:00, 53.53it/s]\n",
            "  0%|          | 0/732 [00:00<?, ?it/s]"
          ],
          "name": "stderr"
        },
        {
          "output_type": "stream",
          "text": [
            "\n",
            "Epoch: 32 Train set: Average loss: 0.0006, Accuracy: 98.673%\n",
            "Epoch: 32 Test set: Average loss: 0.0230, Accuracy: 99.370%\n",
            "Epoch: 32 Optimizer values: LastLR:0.0000061035, Momentum: 0.9000000000, Weight Decay: 0.0006905824\n"
          ],
          "name": "stdout"
        },
        {
          "output_type": "stream",
          "text": [
            "loss=0.04630903899669647 batch_id=731: 100%|██████████| 732/732 [00:14<00:00, 50.67it/s]\n",
            "  0%|          | 0/732 [00:00<?, ?it/s]"
          ],
          "name": "stderr"
        },
        {
          "output_type": "stream",
          "text": [
            "\n",
            "Epoch: 33 Train set: Average loss: 0.0006, Accuracy: 98.650%\n",
            "Epoch: 33 Test set: Average loss: 0.0228, Accuracy: 99.380%\n",
            "Epoch: 33 Optimizer values: LastLR:0.0000061035, Momentum: 0.9000000000, Weight Decay: 0.0006905824\n"
          ],
          "name": "stdout"
        },
        {
          "output_type": "stream",
          "text": [
            "loss=0.04837730526924133 batch_id=731: 100%|██████████| 732/732 [00:13<00:00, 52.42it/s]\n",
            "  0%|          | 0/732 [00:00<?, ?it/s]"
          ],
          "name": "stderr"
        },
        {
          "output_type": "stream",
          "text": [
            "\n",
            "Epoch: 34 Train set: Average loss: 0.0006, Accuracy: 98.655%\n",
            "Epoch: 34 Test set: Average loss: 0.0225, Accuracy: 99.360%\n",
            "Epoch: 34 Optimizer values: LastLR:0.0000030518, Momentum: 0.9000000000, Weight Decay: 0.0006905824\n"
          ],
          "name": "stdout"
        },
        {
          "output_type": "stream",
          "text": [
            "loss=0.04468557611107826 batch_id=731: 100%|██████████| 732/732 [00:13<00:00, 52.84it/s]\n",
            "  0%|          | 0/732 [00:00<?, ?it/s]"
          ],
          "name": "stderr"
        },
        {
          "output_type": "stream",
          "text": [
            "\n",
            "Epoch: 35 Train set: Average loss: 0.0006, Accuracy: 98.680%\n",
            "Epoch: 35 Test set: Average loss: 0.0221, Accuracy: 99.380%\n",
            "Epoch: 35 Optimizer values: LastLR:0.0000030518, Momentum: 0.9000000000, Weight Decay: 0.0006905824\n"
          ],
          "name": "stdout"
        },
        {
          "output_type": "stream",
          "text": [
            "loss=0.04897281154990196 batch_id=731: 100%|██████████| 732/732 [00:13<00:00, 60.62it/s]\n",
            "  0%|          | 0/732 [00:00<?, ?it/s]"
          ],
          "name": "stderr"
        },
        {
          "output_type": "stream",
          "text": [
            "\n",
            "Epoch: 36 Train set: Average loss: 0.0006, Accuracy: 98.573%\n",
            "Epoch: 36 Test set: Average loss: 0.0223, Accuracy: 99.380%\n",
            "Epoch: 36 Optimizer values: LastLR:0.0000015259, Momentum: 0.9000000000, Weight Decay: 0.0006905824\n"
          ],
          "name": "stdout"
        },
        {
          "output_type": "stream",
          "text": [
            "loss=0.03192157670855522 batch_id=731: 100%|██████████| 732/732 [00:13<00:00, 52.53it/s]\n",
            "  0%|          | 0/732 [00:00<?, ?it/s]"
          ],
          "name": "stderr"
        },
        {
          "output_type": "stream",
          "text": [
            "\n",
            "Epoch: 37 Train set: Average loss: 0.0006, Accuracy: 98.630%\n",
            "Epoch: 37 Test set: Average loss: 0.0231, Accuracy: 99.370%\n",
            "Epoch: 37 Optimizer values: LastLR:0.0000015259, Momentum: 0.9000000000, Weight Decay: 0.0006905824\n"
          ],
          "name": "stdout"
        },
        {
          "output_type": "stream",
          "text": [
            "loss=0.027010317891836166 batch_id=731: 100%|██████████| 732/732 [00:13<00:00, 48.93it/s]\n",
            "  0%|          | 0/732 [00:00<?, ?it/s]"
          ],
          "name": "stderr"
        },
        {
          "output_type": "stream",
          "text": [
            "\n",
            "Epoch: 38 Train set: Average loss: 0.0006, Accuracy: 98.633%\n",
            "Epoch: 38 Test set: Average loss: 0.0232, Accuracy: 99.360%\n",
            "Epoch: 38 Optimizer values: LastLR:0.0000007629, Momentum: 0.9000000000, Weight Decay: 0.0006905824\n"
          ],
          "name": "stdout"
        },
        {
          "output_type": "stream",
          "text": [
            "loss=0.018229352310299873 batch_id=731: 100%|██████████| 732/732 [00:13<00:00, 54.66it/s]\n",
            "  0%|          | 0/732 [00:00<?, ?it/s]"
          ],
          "name": "stderr"
        },
        {
          "output_type": "stream",
          "text": [
            "\n",
            "Epoch: 39 Train set: Average loss: 0.0006, Accuracy: 98.592%\n",
            "Epoch: 39 Test set: Average loss: 0.0235, Accuracy: 99.350%\n",
            "Epoch: 39 Optimizer values: LastLR:0.0000007629, Momentum: 0.9000000000, Weight Decay: 0.0006905824\n"
          ],
          "name": "stdout"
        },
        {
          "output_type": "stream",
          "text": [
            "loss=0.03612663596868515 batch_id=731: 100%|██████████| 732/732 [00:13<00:00, 53.15it/s]\n"
          ],
          "name": "stderr"
        },
        {
          "output_type": "stream",
          "text": [
            "\n",
            "Epoch: 40 Train set: Average loss: 0.0006, Accuracy: 98.588%\n",
            "Epoch: 40 Test set: Average loss: 0.0236, Accuracy: 99.340%\n",
            "Epoch: 40 Optimizer values: LastLR:0.0000003815, Momentum: 0.9000000000, Weight Decay: 0.0006905824\n"
          ],
          "name": "stdout"
        }
      ]
    },
    {
      "cell_type": "markdown",
      "metadata": {
        "colab_type": "text",
        "id": "zO6N9LVjsrzm"
      },
      "source": [
        "# L1 & Base Model with 40 Epochs\n",
        "# Model-Path: /content/EVA4/model-baseline_l1.h5"
      ]
    },
    {
      "cell_type": "code",
      "metadata": {
        "colab_type": "code",
        "outputId": "25d9cd9d-beda-414a-c46f-a6fd80b8e2ee",
        "id": "wI7joAXtFjIz",
        "colab": {
          "base_uri": "https://localhost:8080/",
          "height": 1000
        }
      },
      "source": [
        "from torch.optim.lr_scheduler import StepLR, OneCycleLR, MultiStepLR\n",
        "import os\n",
        "hyperparameter_defaults = dict(\n",
        "    dropout = 0.1,\n",
        "    batch_size = 82,\n",
        "    test_batch_size=34,\n",
        "    lr = 0.025,\n",
        "    momentum = 0.9,\n",
        "    no_cuda = False,\n",
        "    seed = 1,\n",
        "    epochs = 40,\n",
        "    bias = False,\n",
        "    sched_lr_gamma = 0.5,\n",
        "    sched_lr_step= 2,\n",
        "    start_lr = 7,\n",
        "    weight_decay=0,\n",
        "    use_l1_loss = True,\n",
        "    l1_decay = 0.00005\n",
        "    )\n",
        "Baseline_l1_Model_Metrics={\n",
        "    'Train Accuracy': [], \n",
        "    'Train Loss': [], \n",
        "    'Test Accuracy':[], \n",
        "    'Test Loss': [],\n",
        "    'Learning Rate': [], \n",
        "    'Decay Learning Rate': []\n",
        "}\n",
        "\n",
        "config = hyperparameter_defaults\n",
        "model_path = generate_model_save_path(mod_string='baseline_l1')\n",
        "print(\"Model will be saved to:\", model_path)\n",
        "\n",
        "def main():\n",
        "    use_cuda = not config['no_cuda'] and torch.cuda.is_available()\n",
        "    device = torch.device(\"cuda\" if use_cuda else \"cpu\")\n",
        "    kwargs = {'num_workers': 4, 'pin_memory': True} if use_cuda else {}\n",
        "    torch.manual_seed(config['seed']) # pytorch random seed\n",
        "    torch.backends.cudnn.deterministic = True\n",
        "    train_loader = torch.utils.data.DataLoader(\n",
        "        datasets.MNIST('../data', train=True, download=True,\n",
        "                        transform=train_transforms),\n",
        "        batch_size=config['batch_size'], shuffle=True, **kwargs)\n",
        "    test_loader = torch.utils.data.DataLoader(\n",
        "        datasets.MNIST('../data', train=False, transform=test_transforms),\n",
        "        batch_size=config['batch_size'], shuffle=True, **kwargs)\n",
        "\n",
        "    model = MNISTDigitBuilder(dropout=config['dropout']).to(device)\n",
        "    optimizer = optim.SGD(model.parameters(), lr=config['lr'], momentum=config['momentum'], weight_decay=config['weight_decay'])\n",
        "    \n",
        "    scheduler = StepLR(optimizer, step_size=config['sched_lr_step'], gamma=config['sched_lr_gamma'])\n",
        "\n",
        "    for epoch in range(1, config['epochs'] + 1):\n",
        "        epoch_train_acc,epoch_train_loss = train(config, model, device, train_loader, optimizer, epoch, l1_loss = config['use_l1_loss'], l1_beta=config['l1_decay'])        \n",
        "        epoch_test_acc,epoch_test_loss = test(config, model, device, test_loader, epoch)\n",
        "        \n",
        "        print('\\nEpoch: {:.0f} Train set: Average loss: {:.4f}, Accuracy: {:.3f}%'.format(\n",
        "        epoch, epoch_train_loss, epoch_train_acc))\n",
        "        print('Epoch: {:.0f} Test set: Average loss: {:.4f}, Accuracy: {:.3f}%'.format(\n",
        "        epoch, epoch_test_loss, epoch_test_acc))\n",
        "        myoptim = optimizer.state_dict()['param_groups'][0]\n",
        "\n",
        "        print('Epoch: {:.0f} Optimizer values: LastLR:{:.10f}, Momentum: {:.10f}, Weight Decay: {:.10f}'.format(\n",
        "        epoch, scheduler.get_last_lr()[0],myoptim['momentum'],myoptim['weight_decay']))\n",
        "        \n",
        "        Baseline_l1_Model_Metrics['Train Accuracy'].append(epoch_train_acc)\n",
        "        Baseline_l1_Model_Metrics['Train Loss'].append(epoch_train_loss)\n",
        "        Baseline_l1_Model_Metrics['Test Accuracy'].append(epoch_test_acc)\n",
        "        Baseline_l1_Model_Metrics['Test Loss'].append(epoch_test_loss)\n",
        "        Baseline_l1_Model_Metrics['Learning Rate'].append(config['lr'])\n",
        "        Baseline_l1_Model_Metrics['Decay Learning Rate'].append(scheduler.get_lr())\n",
        "         \n",
        "        if (epoch > config['start_lr']):\n",
        "            scheduler.step()\n",
        "\n",
        "    torch.save({\n",
        "            'model_state_dict': model.state_dict(),\n",
        "            'optimizer_state_dict': optimizer.state_dict()\n",
        "            }, model_path)\n",
        "\n",
        "if __name__ == '__main__':\n",
        "    main()"
      ],
      "execution_count": 21,
      "outputs": [
        {
          "output_type": "stream",
          "text": [
            "\r  0%|          | 0/732 [00:00<?, ?it/s]"
          ],
          "name": "stderr"
        },
        {
          "output_type": "stream",
          "text": [
            "Model will be saved to: /content/EVA4/model-28c5f672e0.h5\n"
          ],
          "name": "stdout"
        },
        {
          "output_type": "stream",
          "text": [
            "/usr/local/lib/python3.6/dist-packages/torch/nn/_reduction.py:43: UserWarning: size_average and reduce args will be deprecated, please use reduction='sum' instead.\n",
            "  warnings.warn(warning.format(ret))\n",
            "loss=0.2899159789085388 batch_id=731: 100%|██████████| 732/732 [00:16<00:00, 43.47it/s]\n",
            "  0%|          | 0/732 [00:00<?, ?it/s]"
          ],
          "name": "stderr"
        },
        {
          "output_type": "stream",
          "text": [
            "\n",
            "Epoch: 1 Train set: Average loss: 0.0041, Accuracy: 90.478%\n",
            "Epoch: 1 Test set: Average loss: 0.0713, Accuracy: 97.930%\n",
            "Epoch: 1 Optimizer values: LastLR:0.0250000000, Momentum: 0.9000000000, Weight Decay: 0.0000000000\n"
          ],
          "name": "stdout"
        },
        {
          "output_type": "stream",
          "text": [
            "loss=0.12472720444202423 batch_id=731: 100%|██████████| 732/732 [00:16<00:00, 45.06it/s]\n",
            "  0%|          | 0/732 [00:00<?, ?it/s]"
          ],
          "name": "stderr"
        },
        {
          "output_type": "stream",
          "text": [
            "\n",
            "Epoch: 2 Train set: Average loss: 0.0020, Accuracy: 96.228%\n",
            "Epoch: 2 Test set: Average loss: 0.0494, Accuracy: 98.580%\n",
            "Epoch: 2 Optimizer values: LastLR:0.0250000000, Momentum: 0.9000000000, Weight Decay: 0.0000000000\n"
          ],
          "name": "stdout"
        },
        {
          "output_type": "stream",
          "text": [
            "loss=0.07832200080156326 batch_id=731: 100%|██████████| 732/732 [00:16<00:00, 44.71it/s]\n",
            "  0%|          | 0/732 [00:00<?, ?it/s]"
          ],
          "name": "stderr"
        },
        {
          "output_type": "stream",
          "text": [
            "\n",
            "Epoch: 3 Train set: Average loss: 0.0018, Accuracy: 96.930%\n",
            "Epoch: 3 Test set: Average loss: 0.0448, Accuracy: 98.580%\n",
            "Epoch: 3 Optimizer values: LastLR:0.0250000000, Momentum: 0.9000000000, Weight Decay: 0.0000000000\n"
          ],
          "name": "stdout"
        },
        {
          "output_type": "stream",
          "text": [
            "loss=0.10003060102462769 batch_id=731: 100%|██████████| 732/732 [00:16<00:00, 44.25it/s]\n",
            "  0%|          | 0/732 [00:00<?, ?it/s]"
          ],
          "name": "stderr"
        },
        {
          "output_type": "stream",
          "text": [
            "\n",
            "Epoch: 4 Train set: Average loss: 0.0016, Accuracy: 97.312%\n",
            "Epoch: 4 Test set: Average loss: 0.0356, Accuracy: 98.920%\n",
            "Epoch: 4 Optimizer values: LastLR:0.0250000000, Momentum: 0.9000000000, Weight Decay: 0.0000000000\n"
          ],
          "name": "stdout"
        },
        {
          "output_type": "stream",
          "text": [
            "loss=0.06974206119775772 batch_id=731: 100%|██████████| 732/732 [00:16<00:00, 44.54it/s]\n",
            "  0%|          | 0/732 [00:00<?, ?it/s]"
          ],
          "name": "stderr"
        },
        {
          "output_type": "stream",
          "text": [
            "\n",
            "Epoch: 5 Train set: Average loss: 0.0016, Accuracy: 97.438%\n",
            "Epoch: 5 Test set: Average loss: 0.0382, Accuracy: 98.990%\n",
            "Epoch: 5 Optimizer values: LastLR:0.0250000000, Momentum: 0.9000000000, Weight Decay: 0.0000000000\n"
          ],
          "name": "stdout"
        },
        {
          "output_type": "stream",
          "text": [
            "loss=0.11141474545001984 batch_id=731: 100%|██████████| 732/732 [00:16<00:00, 43.15it/s]\n",
            "  0%|          | 0/732 [00:00<?, ?it/s]"
          ],
          "name": "stderr"
        },
        {
          "output_type": "stream",
          "text": [
            "\n",
            "Epoch: 6 Train set: Average loss: 0.0015, Accuracy: 97.575%\n",
            "Epoch: 6 Test set: Average loss: 0.0322, Accuracy: 99.030%\n",
            "Epoch: 6 Optimizer values: LastLR:0.0250000000, Momentum: 0.9000000000, Weight Decay: 0.0000000000\n"
          ],
          "name": "stdout"
        },
        {
          "output_type": "stream",
          "text": [
            "loss=0.0634196400642395 batch_id=731: 100%|██████████| 732/732 [00:16<00:00, 43.52it/s]\n",
            "  0%|          | 0/732 [00:00<?, ?it/s]"
          ],
          "name": "stderr"
        },
        {
          "output_type": "stream",
          "text": [
            "\n",
            "Epoch: 7 Train set: Average loss: 0.0015, Accuracy: 97.648%\n",
            "Epoch: 7 Test set: Average loss: 0.0294, Accuracy: 99.180%\n",
            "Epoch: 7 Optimizer values: LastLR:0.0250000000, Momentum: 0.9000000000, Weight Decay: 0.0000000000\n"
          ],
          "name": "stdout"
        },
        {
          "output_type": "stream",
          "text": [
            "loss=0.08717168867588043 batch_id=731: 100%|██████████| 732/732 [00:16<00:00, 43.17it/s]\n",
            "  0%|          | 0/732 [00:00<?, ?it/s]"
          ],
          "name": "stderr"
        },
        {
          "output_type": "stream",
          "text": [
            "\n",
            "Epoch: 8 Train set: Average loss: 0.0015, Accuracy: 97.713%\n",
            "Epoch: 8 Test set: Average loss: 0.0344, Accuracy: 98.970%\n",
            "Epoch: 8 Optimizer values: LastLR:0.0250000000, Momentum: 0.9000000000, Weight Decay: 0.0000000000\n"
          ],
          "name": "stdout"
        },
        {
          "output_type": "stream",
          "text": [
            "loss=0.0998883992433548 batch_id=731: 100%|██████████| 732/732 [00:16<00:00, 43.69it/s]\n",
            "  0%|          | 0/732 [00:00<?, ?it/s]"
          ],
          "name": "stderr"
        },
        {
          "output_type": "stream",
          "text": [
            "\n",
            "Epoch: 9 Train set: Average loss: 0.0015, Accuracy: 97.822%\n",
            "Epoch: 9 Test set: Average loss: 0.0386, Accuracy: 98.960%\n",
            "Epoch: 9 Optimizer values: LastLR:0.0250000000, Momentum: 0.9000000000, Weight Decay: 0.0000000000\n"
          ],
          "name": "stdout"
        },
        {
          "output_type": "stream",
          "text": [
            "loss=0.12731008231639862 batch_id=731: 100%|██████████| 732/732 [00:16<00:00, 43.92it/s]\n",
            "  0%|          | 0/732 [00:00<?, ?it/s]"
          ],
          "name": "stderr"
        },
        {
          "output_type": "stream",
          "text": [
            "\n",
            "Epoch: 10 Train set: Average loss: 0.0013, Accuracy: 98.122%\n",
            "Epoch: 10 Test set: Average loss: 0.0263, Accuracy: 99.230%\n",
            "Epoch: 10 Optimizer values: LastLR:0.0125000000, Momentum: 0.9000000000, Weight Decay: 0.0000000000\n"
          ],
          "name": "stdout"
        },
        {
          "output_type": "stream",
          "text": [
            "loss=0.1445600837469101 batch_id=731: 100%|██████████| 732/732 [00:16<00:00, 43.90it/s]\n",
            "  0%|          | 0/732 [00:00<?, ?it/s]"
          ],
          "name": "stderr"
        },
        {
          "output_type": "stream",
          "text": [
            "\n",
            "Epoch: 11 Train set: Average loss: 0.0013, Accuracy: 98.172%\n",
            "Epoch: 11 Test set: Average loss: 0.0261, Accuracy: 99.200%\n",
            "Epoch: 11 Optimizer values: LastLR:0.0125000000, Momentum: 0.9000000000, Weight Decay: 0.0000000000\n"
          ],
          "name": "stdout"
        },
        {
          "output_type": "stream",
          "text": [
            "loss=0.13097569346427917 batch_id=731: 100%|██████████| 732/732 [00:16<00:00, 43.41it/s]\n",
            "  0%|          | 0/732 [00:00<?, ?it/s]"
          ],
          "name": "stderr"
        },
        {
          "output_type": "stream",
          "text": [
            "\n",
            "Epoch: 12 Train set: Average loss: 0.0012, Accuracy: 98.377%\n",
            "Epoch: 12 Test set: Average loss: 0.0259, Accuracy: 99.290%\n",
            "Epoch: 12 Optimizer values: LastLR:0.0062500000, Momentum: 0.9000000000, Weight Decay: 0.0000000000\n"
          ],
          "name": "stdout"
        },
        {
          "output_type": "stream",
          "text": [
            "loss=0.09704287350177765 batch_id=731: 100%|██████████| 732/732 [00:17<00:00, 42.97it/s]\n",
            "  0%|          | 0/732 [00:00<?, ?it/s]"
          ],
          "name": "stderr"
        },
        {
          "output_type": "stream",
          "text": [
            "\n",
            "Epoch: 13 Train set: Average loss: 0.0012, Accuracy: 98.440%\n",
            "Epoch: 13 Test set: Average loss: 0.0262, Accuracy: 99.230%\n",
            "Epoch: 13 Optimizer values: LastLR:0.0062500000, Momentum: 0.9000000000, Weight Decay: 0.0000000000\n"
          ],
          "name": "stdout"
        },
        {
          "output_type": "stream",
          "text": [
            "loss=0.059356339275836945 batch_id=731: 100%|██████████| 732/732 [00:17<00:00, 49.85it/s]\n",
            "  0%|          | 0/732 [00:00<?, ?it/s]"
          ],
          "name": "stderr"
        },
        {
          "output_type": "stream",
          "text": [
            "\n",
            "Epoch: 14 Train set: Average loss: 0.0012, Accuracy: 98.448%\n",
            "Epoch: 14 Test set: Average loss: 0.0233, Accuracy: 99.390%\n",
            "Epoch: 14 Optimizer values: LastLR:0.0031250000, Momentum: 0.9000000000, Weight Decay: 0.0000000000\n"
          ],
          "name": "stdout"
        },
        {
          "output_type": "stream",
          "text": [
            "loss=0.22771939635276794 batch_id=731: 100%|██████████| 732/732 [00:16<00:00, 44.01it/s]\n",
            "  0%|          | 0/732 [00:00<?, ?it/s]"
          ],
          "name": "stderr"
        },
        {
          "output_type": "stream",
          "text": [
            "\n",
            "Epoch: 15 Train set: Average loss: 0.0012, Accuracy: 98.525%\n",
            "Epoch: 15 Test set: Average loss: 0.0240, Accuracy: 99.380%\n",
            "Epoch: 15 Optimizer values: LastLR:0.0031250000, Momentum: 0.9000000000, Weight Decay: 0.0000000000\n"
          ],
          "name": "stdout"
        },
        {
          "output_type": "stream",
          "text": [
            "loss=0.11956187337636948 batch_id=731: 100%|██████████| 732/732 [00:16<00:00, 43.34it/s]\n",
            "  0%|          | 0/732 [00:00<?, ?it/s]"
          ],
          "name": "stderr"
        },
        {
          "output_type": "stream",
          "text": [
            "\n",
            "Epoch: 16 Train set: Average loss: 0.0011, Accuracy: 98.542%\n",
            "Epoch: 16 Test set: Average loss: 0.0238, Accuracy: 99.350%\n",
            "Epoch: 16 Optimizer values: LastLR:0.0015625000, Momentum: 0.9000000000, Weight Decay: 0.0000000000\n"
          ],
          "name": "stdout"
        },
        {
          "output_type": "stream",
          "text": [
            "loss=0.05824441462755203 batch_id=731: 100%|██████████| 732/732 [00:17<00:00, 42.64it/s]\n",
            "  0%|          | 0/732 [00:00<?, ?it/s]"
          ],
          "name": "stderr"
        },
        {
          "output_type": "stream",
          "text": [
            "\n",
            "Epoch: 17 Train set: Average loss: 0.0011, Accuracy: 98.543%\n",
            "Epoch: 17 Test set: Average loss: 0.0228, Accuracy: 99.360%\n",
            "Epoch: 17 Optimizer values: LastLR:0.0015625000, Momentum: 0.9000000000, Weight Decay: 0.0000000000\n"
          ],
          "name": "stdout"
        },
        {
          "output_type": "stream",
          "text": [
            "loss=0.10953427851200104 batch_id=731: 100%|██████████| 732/732 [00:16<00:00, 43.40it/s]\n",
            "  0%|          | 0/732 [00:00<?, ?it/s]"
          ],
          "name": "stderr"
        },
        {
          "output_type": "stream",
          "text": [
            "\n",
            "Epoch: 18 Train set: Average loss: 0.0011, Accuracy: 98.675%\n",
            "Epoch: 18 Test set: Average loss: 0.0220, Accuracy: 99.400%\n",
            "Epoch: 18 Optimizer values: LastLR:0.0007812500, Momentum: 0.9000000000, Weight Decay: 0.0000000000\n"
          ],
          "name": "stdout"
        },
        {
          "output_type": "stream",
          "text": [
            "loss=0.0638958066701889 batch_id=731: 100%|██████████| 732/732 [00:17<00:00, 47.64it/s]\n",
            "  0%|          | 0/732 [00:00<?, ?it/s]"
          ],
          "name": "stderr"
        },
        {
          "output_type": "stream",
          "text": [
            "\n",
            "Epoch: 19 Train set: Average loss: 0.0011, Accuracy: 98.548%\n",
            "Epoch: 19 Test set: Average loss: 0.0226, Accuracy: 99.370%\n",
            "Epoch: 19 Optimizer values: LastLR:0.0007812500, Momentum: 0.9000000000, Weight Decay: 0.0000000000\n"
          ],
          "name": "stdout"
        },
        {
          "output_type": "stream",
          "text": [
            "loss=0.07248398661613464 batch_id=731: 100%|██████████| 732/732 [00:17<00:00, 42.68it/s]\n",
            "  0%|          | 0/732 [00:00<?, ?it/s]"
          ],
          "name": "stderr"
        },
        {
          "output_type": "stream",
          "text": [
            "\n",
            "Epoch: 20 Train set: Average loss: 0.0011, Accuracy: 98.587%\n",
            "Epoch: 20 Test set: Average loss: 0.0227, Accuracy: 99.350%\n",
            "Epoch: 20 Optimizer values: LastLR:0.0003906250, Momentum: 0.9000000000, Weight Decay: 0.0000000000\n"
          ],
          "name": "stdout"
        },
        {
          "output_type": "stream",
          "text": [
            "loss=0.04647257551550865 batch_id=731: 100%|██████████| 732/732 [00:16<00:00, 52.99it/s]\n",
            "  0%|          | 0/732 [00:00<?, ?it/s]"
          ],
          "name": "stderr"
        },
        {
          "output_type": "stream",
          "text": [
            "\n",
            "Epoch: 21 Train set: Average loss: 0.0011, Accuracy: 98.620%\n",
            "Epoch: 21 Test set: Average loss: 0.0224, Accuracy: 99.390%\n",
            "Epoch: 21 Optimizer values: LastLR:0.0003906250, Momentum: 0.9000000000, Weight Decay: 0.0000000000\n"
          ],
          "name": "stdout"
        },
        {
          "output_type": "stream",
          "text": [
            "loss=0.24221551418304443 batch_id=731: 100%|██████████| 732/732 [00:17<00:00, 42.08it/s]\n",
            "  0%|          | 0/732 [00:00<?, ?it/s]"
          ],
          "name": "stderr"
        },
        {
          "output_type": "stream",
          "text": [
            "\n",
            "Epoch: 22 Train set: Average loss: 0.0011, Accuracy: 98.677%\n",
            "Epoch: 22 Test set: Average loss: 0.0229, Accuracy: 99.370%\n",
            "Epoch: 22 Optimizer values: LastLR:0.0001953125, Momentum: 0.9000000000, Weight Decay: 0.0000000000\n"
          ],
          "name": "stdout"
        },
        {
          "output_type": "stream",
          "text": [
            "loss=0.04522218555212021 batch_id=731: 100%|██████████| 732/732 [00:16<00:00, 43.57it/s]\n",
            "  0%|          | 0/732 [00:00<?, ?it/s]"
          ],
          "name": "stderr"
        },
        {
          "output_type": "stream",
          "text": [
            "\n",
            "Epoch: 23 Train set: Average loss: 0.0011, Accuracy: 98.572%\n",
            "Epoch: 23 Test set: Average loss: 0.0223, Accuracy: 99.390%\n",
            "Epoch: 23 Optimizer values: LastLR:0.0001953125, Momentum: 0.9000000000, Weight Decay: 0.0000000000\n"
          ],
          "name": "stdout"
        },
        {
          "output_type": "stream",
          "text": [
            "loss=0.0511912927031517 batch_id=731: 100%|██████████| 732/732 [00:17<00:00, 42.42it/s]\n",
            "  0%|          | 0/732 [00:00<?, ?it/s]"
          ],
          "name": "stderr"
        },
        {
          "output_type": "stream",
          "text": [
            "\n",
            "Epoch: 24 Train set: Average loss: 0.0011, Accuracy: 98.630%\n",
            "Epoch: 24 Test set: Average loss: 0.0226, Accuracy: 99.390%\n",
            "Epoch: 24 Optimizer values: LastLR:0.0000976563, Momentum: 0.9000000000, Weight Decay: 0.0000000000\n"
          ],
          "name": "stdout"
        },
        {
          "output_type": "stream",
          "text": [
            "loss=0.04772243648767471 batch_id=731: 100%|██████████| 732/732 [00:16<00:00, 52.73it/s]\n",
            "  0%|          | 0/732 [00:00<?, ?it/s]"
          ],
          "name": "stderr"
        },
        {
          "output_type": "stream",
          "text": [
            "\n",
            "Epoch: 25 Train set: Average loss: 0.0011, Accuracy: 98.560%\n",
            "Epoch: 25 Test set: Average loss: 0.0230, Accuracy: 99.370%\n",
            "Epoch: 25 Optimizer values: LastLR:0.0000976563, Momentum: 0.9000000000, Weight Decay: 0.0000000000\n"
          ],
          "name": "stdout"
        },
        {
          "output_type": "stream",
          "text": [
            "loss=0.1383059024810791 batch_id=731: 100%|██████████| 732/732 [00:16<00:00, 44.81it/s]\n",
            "  0%|          | 0/732 [00:00<?, ?it/s]"
          ],
          "name": "stderr"
        },
        {
          "output_type": "stream",
          "text": [
            "\n",
            "Epoch: 26 Train set: Average loss: 0.0011, Accuracy: 98.628%\n",
            "Epoch: 26 Test set: Average loss: 0.0228, Accuracy: 99.390%\n",
            "Epoch: 26 Optimizer values: LastLR:0.0000488281, Momentum: 0.9000000000, Weight Decay: 0.0000000000\n"
          ],
          "name": "stdout"
        },
        {
          "output_type": "stream",
          "text": [
            "loss=0.07448594272136688 batch_id=731: 100%|██████████| 732/732 [00:16<00:00, 43.15it/s]\n",
            "  0%|          | 0/732 [00:00<?, ?it/s]"
          ],
          "name": "stderr"
        },
        {
          "output_type": "stream",
          "text": [
            "\n",
            "Epoch: 27 Train set: Average loss: 0.0011, Accuracy: 98.617%\n",
            "Epoch: 27 Test set: Average loss: 0.0228, Accuracy: 99.390%\n",
            "Epoch: 27 Optimizer values: LastLR:0.0000488281, Momentum: 0.9000000000, Weight Decay: 0.0000000000\n"
          ],
          "name": "stdout"
        },
        {
          "output_type": "stream",
          "text": [
            "loss=0.07190422713756561 batch_id=731: 100%|██████████| 732/732 [00:16<00:00, 43.79it/s]\n",
            "  0%|          | 0/732 [00:00<?, ?it/s]"
          ],
          "name": "stderr"
        },
        {
          "output_type": "stream",
          "text": [
            "\n",
            "Epoch: 28 Train set: Average loss: 0.0011, Accuracy: 98.623%\n",
            "Epoch: 28 Test set: Average loss: 0.0230, Accuracy: 99.350%\n",
            "Epoch: 28 Optimizer values: LastLR:0.0000244141, Momentum: 0.9000000000, Weight Decay: 0.0000000000\n"
          ],
          "name": "stdout"
        },
        {
          "output_type": "stream",
          "text": [
            "loss=0.09537956118583679 batch_id=731: 100%|██████████| 732/732 [00:15<00:00, 47.17it/s]\n",
            "  0%|          | 0/732 [00:00<?, ?it/s]"
          ],
          "name": "stderr"
        },
        {
          "output_type": "stream",
          "text": [
            "\n",
            "Epoch: 29 Train set: Average loss: 0.0011, Accuracy: 98.633%\n",
            "Epoch: 29 Test set: Average loss: 0.0226, Accuracy: 99.360%\n",
            "Epoch: 29 Optimizer values: LastLR:0.0000244141, Momentum: 0.9000000000, Weight Decay: 0.0000000000\n"
          ],
          "name": "stdout"
        },
        {
          "output_type": "stream",
          "text": [
            "loss=0.055475227534770966 batch_id=731: 100%|██████████| 732/732 [00:15<00:00, 46.44it/s]\n",
            "  0%|          | 0/732 [00:00<?, ?it/s]"
          ],
          "name": "stderr"
        },
        {
          "output_type": "stream",
          "text": [
            "\n",
            "Epoch: 30 Train set: Average loss: 0.0011, Accuracy: 98.577%\n",
            "Epoch: 30 Test set: Average loss: 0.0228, Accuracy: 99.370%\n",
            "Epoch: 30 Optimizer values: LastLR:0.0000122070, Momentum: 0.9000000000, Weight Decay: 0.0000000000\n"
          ],
          "name": "stdout"
        },
        {
          "output_type": "stream",
          "text": [
            "loss=0.17373478412628174 batch_id=731: 100%|██████████| 732/732 [00:15<00:00, 47.56it/s]\n",
            "  0%|          | 0/732 [00:00<?, ?it/s]"
          ],
          "name": "stderr"
        },
        {
          "output_type": "stream",
          "text": [
            "\n",
            "Epoch: 31 Train set: Average loss: 0.0011, Accuracy: 98.608%\n",
            "Epoch: 31 Test set: Average loss: 0.0223, Accuracy: 99.410%\n",
            "Epoch: 31 Optimizer values: LastLR:0.0000122070, Momentum: 0.9000000000, Weight Decay: 0.0000000000\n"
          ],
          "name": "stdout"
        },
        {
          "output_type": "stream",
          "text": [
            "loss=0.0859421119093895 batch_id=731: 100%|██████████| 732/732 [00:16<00:00, 53.55it/s]\n",
            "  0%|          | 0/732 [00:00<?, ?it/s]"
          ],
          "name": "stderr"
        },
        {
          "output_type": "stream",
          "text": [
            "\n",
            "Epoch: 32 Train set: Average loss: 0.0011, Accuracy: 98.647%\n",
            "Epoch: 32 Test set: Average loss: 0.0231, Accuracy: 99.360%\n",
            "Epoch: 32 Optimizer values: LastLR:0.0000061035, Momentum: 0.9000000000, Weight Decay: 0.0000000000\n"
          ],
          "name": "stdout"
        },
        {
          "output_type": "stream",
          "text": [
            "loss=0.16771185398101807 batch_id=731: 100%|██████████| 732/732 [00:15<00:00, 46.81it/s]\n",
            "  0%|          | 0/732 [00:00<?, ?it/s]"
          ],
          "name": "stderr"
        },
        {
          "output_type": "stream",
          "text": [
            "\n",
            "Epoch: 33 Train set: Average loss: 0.0011, Accuracy: 98.685%\n",
            "Epoch: 33 Test set: Average loss: 0.0226, Accuracy: 99.390%\n",
            "Epoch: 33 Optimizer values: LastLR:0.0000061035, Momentum: 0.9000000000, Weight Decay: 0.0000000000\n"
          ],
          "name": "stdout"
        },
        {
          "output_type": "stream",
          "text": [
            "loss=0.08776434510946274 batch_id=731: 100%|██████████| 732/732 [00:16<00:00, 45.03it/s]\n",
            "  0%|          | 0/732 [00:00<?, ?it/s]"
          ],
          "name": "stderr"
        },
        {
          "output_type": "stream",
          "text": [
            "\n",
            "Epoch: 34 Train set: Average loss: 0.0011, Accuracy: 98.617%\n",
            "Epoch: 34 Test set: Average loss: 0.0228, Accuracy: 99.390%\n",
            "Epoch: 34 Optimizer values: LastLR:0.0000030518, Momentum: 0.9000000000, Weight Decay: 0.0000000000\n"
          ],
          "name": "stdout"
        },
        {
          "output_type": "stream",
          "text": [
            "loss=0.11536610126495361 batch_id=731: 100%|██████████| 732/732 [00:15<00:00, 46.90it/s]\n",
            "  0%|          | 0/732 [00:00<?, ?it/s]"
          ],
          "name": "stderr"
        },
        {
          "output_type": "stream",
          "text": [
            "\n",
            "Epoch: 35 Train set: Average loss: 0.0011, Accuracy: 98.658%\n",
            "Epoch: 35 Test set: Average loss: 0.0225, Accuracy: 99.400%\n",
            "Epoch: 35 Optimizer values: LastLR:0.0000030518, Momentum: 0.9000000000, Weight Decay: 0.0000000000\n"
          ],
          "name": "stdout"
        },
        {
          "output_type": "stream",
          "text": [
            "loss=0.07466821372509003 batch_id=731: 100%|██████████| 732/732 [00:15<00:00, 46.00it/s]\n",
            "  0%|          | 0/732 [00:00<?, ?it/s]"
          ],
          "name": "stderr"
        },
        {
          "output_type": "stream",
          "text": [
            "\n",
            "Epoch: 36 Train set: Average loss: 0.0011, Accuracy: 98.490%\n",
            "Epoch: 36 Test set: Average loss: 0.0224, Accuracy: 99.380%\n",
            "Epoch: 36 Optimizer values: LastLR:0.0000015259, Momentum: 0.9000000000, Weight Decay: 0.0000000000\n"
          ],
          "name": "stdout"
        },
        {
          "output_type": "stream",
          "text": [
            "loss=0.10021096467971802 batch_id=731: 100%|██████████| 732/732 [00:15<00:00, 46.46it/s]\n",
            "  0%|          | 0/732 [00:00<?, ?it/s]"
          ],
          "name": "stderr"
        },
        {
          "output_type": "stream",
          "text": [
            "\n",
            "Epoch: 37 Train set: Average loss: 0.0011, Accuracy: 98.707%\n",
            "Epoch: 37 Test set: Average loss: 0.0228, Accuracy: 99.360%\n",
            "Epoch: 37 Optimizer values: LastLR:0.0000015259, Momentum: 0.9000000000, Weight Decay: 0.0000000000\n"
          ],
          "name": "stdout"
        },
        {
          "output_type": "stream",
          "text": [
            "loss=0.06378737092018127 batch_id=731: 100%|██████████| 732/732 [00:15<00:00, 47.45it/s]\n",
            "  0%|          | 0/732 [00:00<?, ?it/s]"
          ],
          "name": "stderr"
        },
        {
          "output_type": "stream",
          "text": [
            "\n",
            "Epoch: 38 Train set: Average loss: 0.0011, Accuracy: 98.613%\n",
            "Epoch: 38 Test set: Average loss: 0.0233, Accuracy: 99.350%\n",
            "Epoch: 38 Optimizer values: LastLR:0.0000007629, Momentum: 0.9000000000, Weight Decay: 0.0000000000\n"
          ],
          "name": "stdout"
        },
        {
          "output_type": "stream",
          "text": [
            "loss=0.05569567158818245 batch_id=731: 100%|██████████| 732/732 [00:15<00:00, 46.46it/s]\n",
            "  0%|          | 0/732 [00:00<?, ?it/s]"
          ],
          "name": "stderr"
        },
        {
          "output_type": "stream",
          "text": [
            "\n",
            "Epoch: 39 Train set: Average loss: 0.0011, Accuracy: 98.618%\n",
            "Epoch: 39 Test set: Average loss: 0.0235, Accuracy: 99.360%\n",
            "Epoch: 39 Optimizer values: LastLR:0.0000007629, Momentum: 0.9000000000, Weight Decay: 0.0000000000\n"
          ],
          "name": "stdout"
        },
        {
          "output_type": "stream",
          "text": [
            "loss=0.07326136529445648 batch_id=731: 100%|██████████| 732/732 [00:15<00:00, 47.59it/s]\n"
          ],
          "name": "stderr"
        },
        {
          "output_type": "stream",
          "text": [
            "\n",
            "Epoch: 40 Train set: Average loss: 0.0011, Accuracy: 98.610%\n",
            "Epoch: 40 Test set: Average loss: 0.0232, Accuracy: 99.370%\n",
            "Epoch: 40 Optimizer values: LastLR:0.0000003815, Momentum: 0.9000000000, Weight Decay: 0.0000000000\n"
          ],
          "name": "stdout"
        }
      ]
    },
    {
      "cell_type": "markdown",
      "metadata": {
        "colab_type": "text",
        "id": "EFlITWtws-cK"
      },
      "source": [
        "# L1 & L2 & Base Model with 40 Epochs\n",
        "# Model-Path: /content/EVA4/model-baseline_l1l2.h5"
      ]
    },
    {
      "cell_type": "code",
      "metadata": {
        "colab_type": "code",
        "outputId": "742d1d05-b3d6-433a-b3ba-1e3c91494cae",
        "id": "a00ShmUGNW6D",
        "colab": {
          "base_uri": "https://localhost:8080/",
          "height": 1000
        }
      },
      "source": [
        "from torch.optim.lr_scheduler import StepLR, OneCycleLR, MultiStepLR\n",
        "import os\n",
        "hyperparameter_defaults = dict(\n",
        "    run_name = rand_run_name(),\n",
        "    dropout = 0.1,\n",
        "    batch_size = 82,\n",
        "    test_batch_size=34,\n",
        "    lr = 0.025,\n",
        "    momentum = 0.9,\n",
        "    no_cuda = False,\n",
        "    seed = 1,\n",
        "    epochs = 40,\n",
        "    bias = False,\n",
        "    sched_lr_gamma = 0.5,\n",
        "    sched_lr_step= 2,\n",
        "    start_lr = 7,\n",
        "    weight_decay=0.0006905824115205087,\n",
        "    use_l1_loss = True,\n",
        "    l1_decay = 0.00005\n",
        "    )\n",
        "Baseline_l1l2_Model_Metrics={\n",
        "    'Train Accuracy': [], \n",
        "    'Train Loss': [], \n",
        "    'Test Accuracy':[], \n",
        "    'Test Loss': [],\n",
        "    'Learning Rate': [], \n",
        "    'Decay Learning Rate': []\n",
        "}\n",
        "\n",
        "config = hyperparameter_defaults\n",
        "model_path = generate_model_save_path(mod_string=\"baseline_l1l2\")\n",
        "print(\"Model will be saved to:\", model_path)\n",
        "\n",
        "def main():\n",
        "    use_cuda = not config['no_cuda'] and torch.cuda.is_available()\n",
        "    device = torch.device(\"cuda\" if use_cuda else \"cpu\")\n",
        "    kwargs = {'num_workers': 4, 'pin_memory': True} if use_cuda else {}\n",
        "    \n",
        "    torch.manual_seed(config['seed']) # pytorch random seed\n",
        "    torch.backends.cudnn.deterministic = True\n",
        "\n",
        "    train_loader = torch.utils.data.DataLoader(\n",
        "        datasets.MNIST('../data', train=True, download=True,\n",
        "                        transform=train_transforms),\n",
        "        batch_size=config['batch_size'], shuffle=True, **kwargs)\n",
        "    test_loader = torch.utils.data.DataLoader(\n",
        "        datasets.MNIST('../data', train=False, transform=test_transforms),\n",
        "        batch_size=config['batch_size'], shuffle=True, **kwargs)\n",
        "    \n",
        "    model = MNISTDigitBuilder(dropout=config['dropout']).to(device)\n",
        "\n",
        "    optimizer = optim.SGD(model.parameters(), lr=config['lr'],\n",
        "                          momentum=config['momentum'], weight_decay=config['weight_decay'])\n",
        "    \n",
        "    scheduler = StepLR(optimizer, step_size=config['sched_lr_step'], gamma=config['sched_lr_gamma'])\n",
        "\n",
        "    for epoch in range(1, config['epochs'] + 1):\n",
        "        epoch_train_acc,epoch_train_loss = train(config, model, device, train_loader, optimizer, epoch, l1_loss = config['use_l1_loss'], l1_beta=config['l1_decay'])        \n",
        "        epoch_test_acc,epoch_test_loss = test(config, model, device, test_loader, epoch)\n",
        "        \n",
        "        print('\\nEpoch: {:.0f} Train set: Average loss: {:.4f}, Accuracy: {:.3f}%'.format(\n",
        "        epoch, epoch_train_loss, epoch_train_acc))\n",
        "        print('Epoch: {:.0f} Test set: Average loss: {:.4f}, Accuracy: {:.3f}%'.format(\n",
        "        epoch, epoch_test_loss, epoch_test_acc))\n",
        "        myoptim = optimizer.state_dict()['param_groups'][0]\n",
        "        print('Epoch: {:.0f} Optimizer values: LastLR:{:.10f}, Momentum: {:.10f}, Weight Decay: {:.10f}'.format(\n",
        "        epoch, scheduler.get_last_lr()[0],myoptim['momentum'],myoptim['weight_decay']))\n",
        "\n",
        "        Baseline_l1l2_Model_Metrics['Train Accuracy'].append(epoch_train_acc)\n",
        "        Baseline_l1l2_Model_Metrics['Train Loss'].append(epoch_train_loss)\n",
        "        Baseline_l1l2_Model_Metrics['Test Accuracy'].append(epoch_test_acc)\n",
        "        Baseline_l1l2_Model_Metrics['Test Loss'].append(epoch_test_loss)\n",
        "        Baseline_l1l2_Model_Metrics['Learning Rate'].append(config['lr'])\n",
        "        Baseline_l1l2_Model_Metrics['Decay Learning Rate'].append(scheduler.get_lr())\n",
        "        \n",
        "        if (epoch > config['start_lr']):\n",
        "            scheduler.step()\n",
        "\n",
        "    torch.save({\n",
        "            'model_state_dict': model.state_dict(),\n",
        "            'optimizer_state_dict': optimizer.state_dict()\n",
        "            }, model_path)\n",
        "\n",
        "if __name__ == '__main__':\n",
        "    main()"
      ],
      "execution_count": 22,
      "outputs": [
        {
          "output_type": "stream",
          "text": [
            "\r  0%|          | 0/732 [00:00<?, ?it/s]"
          ],
          "name": "stderr"
        },
        {
          "output_type": "stream",
          "text": [
            "Model will be saved to: /content/EVA4/model-251ff2f4f1.h5\n"
          ],
          "name": "stdout"
        },
        {
          "output_type": "stream",
          "text": [
            "/usr/local/lib/python3.6/dist-packages/torch/nn/_reduction.py:43: UserWarning: size_average and reduce args will be deprecated, please use reduction='sum' instead.\n",
            "  warnings.warn(warning.format(ret))\n",
            "loss=0.21486277878284454 batch_id=731: 100%|██████████| 732/732 [00:15<00:00, 52.33it/s]\n",
            "  0%|          | 0/732 [00:00<?, ?it/s]"
          ],
          "name": "stderr"
        },
        {
          "output_type": "stream",
          "text": [
            "\n",
            "Epoch: 1 Train set: Average loss: 0.0042, Accuracy: 90.350%\n",
            "Epoch: 1 Test set: Average loss: 0.0823, Accuracy: 97.510%\n",
            "Epoch: 1 Optimizer values: LastLR:0.0250000000, Momentum: 0.9000000000, Weight Decay: 0.0006905824\n"
          ],
          "name": "stdout"
        },
        {
          "output_type": "stream",
          "text": [
            "loss=0.16743330657482147 batch_id=731: 100%|██████████| 732/732 [00:16<00:00, 44.42it/s]\n",
            "  0%|          | 0/732 [00:00<?, ?it/s]"
          ],
          "name": "stderr"
        },
        {
          "output_type": "stream",
          "text": [
            "\n",
            "Epoch: 2 Train set: Average loss: 0.0020, Accuracy: 96.153%\n",
            "Epoch: 2 Test set: Average loss: 0.0527, Accuracy: 98.380%\n",
            "Epoch: 2 Optimizer values: LastLR:0.0250000000, Momentum: 0.9000000000, Weight Decay: 0.0006905824\n"
          ],
          "name": "stdout"
        },
        {
          "output_type": "stream",
          "text": [
            "loss=0.10550695657730103 batch_id=731: 100%|██████████| 732/732 [00:15<00:00, 47.96it/s]\n",
            "  0%|          | 0/732 [00:00<?, ?it/s]"
          ],
          "name": "stderr"
        },
        {
          "output_type": "stream",
          "text": [
            "\n",
            "Epoch: 3 Train set: Average loss: 0.0017, Accuracy: 96.807%\n",
            "Epoch: 3 Test set: Average loss: 0.0467, Accuracy: 98.580%\n",
            "Epoch: 3 Optimizer values: LastLR:0.0250000000, Momentum: 0.9000000000, Weight Decay: 0.0006905824\n"
          ],
          "name": "stdout"
        },
        {
          "output_type": "stream",
          "text": [
            "loss=0.14025261998176575 batch_id=731: 100%|██████████| 732/732 [00:15<00:00, 46.73it/s]\n",
            "  0%|          | 0/732 [00:00<?, ?it/s]"
          ],
          "name": "stderr"
        },
        {
          "output_type": "stream",
          "text": [
            "\n",
            "Epoch: 4 Train set: Average loss: 0.0016, Accuracy: 97.030%\n",
            "Epoch: 4 Test set: Average loss: 0.0399, Accuracy: 98.860%\n",
            "Epoch: 4 Optimizer values: LastLR:0.0250000000, Momentum: 0.9000000000, Weight Decay: 0.0006905824\n"
          ],
          "name": "stdout"
        },
        {
          "output_type": "stream",
          "text": [
            "loss=0.08045652508735657 batch_id=731: 100%|██████████| 732/732 [00:15<00:00, 48.10it/s]\n",
            "  0%|          | 0/732 [00:00<?, ?it/s]"
          ],
          "name": "stderr"
        },
        {
          "output_type": "stream",
          "text": [
            "\n",
            "Epoch: 5 Train set: Average loss: 0.0015, Accuracy: 97.203%\n",
            "Epoch: 5 Test set: Average loss: 0.0367, Accuracy: 98.910%\n",
            "Epoch: 5 Optimizer values: LastLR:0.0250000000, Momentum: 0.9000000000, Weight Decay: 0.0006905824\n"
          ],
          "name": "stdout"
        },
        {
          "output_type": "stream",
          "text": [
            "loss=0.11077607423067093 batch_id=731: 100%|██████████| 732/732 [00:15<00:00, 47.85it/s]\n",
            "  0%|          | 0/732 [00:00<?, ?it/s]"
          ],
          "name": "stderr"
        },
        {
          "output_type": "stream",
          "text": [
            "\n",
            "Epoch: 6 Train set: Average loss: 0.0015, Accuracy: 97.260%\n",
            "Epoch: 6 Test set: Average loss: 0.0389, Accuracy: 98.820%\n",
            "Epoch: 6 Optimizer values: LastLR:0.0250000000, Momentum: 0.9000000000, Weight Decay: 0.0006905824\n"
          ],
          "name": "stdout"
        },
        {
          "output_type": "stream",
          "text": [
            "loss=0.052068956196308136 batch_id=731: 100%|██████████| 732/732 [00:15<00:00, 51.30it/s]\n",
            "  0%|          | 0/732 [00:00<?, ?it/s]"
          ],
          "name": "stderr"
        },
        {
          "output_type": "stream",
          "text": [
            "\n",
            "Epoch: 7 Train set: Average loss: 0.0015, Accuracy: 97.342%\n",
            "Epoch: 7 Test set: Average loss: 0.0377, Accuracy: 98.900%\n",
            "Epoch: 7 Optimizer values: LastLR:0.0250000000, Momentum: 0.9000000000, Weight Decay: 0.0006905824\n"
          ],
          "name": "stdout"
        },
        {
          "output_type": "stream",
          "text": [
            "loss=0.1218172162771225 batch_id=731: 100%|██████████| 732/732 [00:15<00:00, 46.35it/s]\n",
            "  0%|          | 0/732 [00:00<?, ?it/s]"
          ],
          "name": "stderr"
        },
        {
          "output_type": "stream",
          "text": [
            "\n",
            "Epoch: 8 Train set: Average loss: 0.0015, Accuracy: 97.357%\n",
            "Epoch: 8 Test set: Average loss: 0.0470, Accuracy: 98.570%\n",
            "Epoch: 8 Optimizer values: LastLR:0.0250000000, Momentum: 0.9000000000, Weight Decay: 0.0006905824\n"
          ],
          "name": "stdout"
        },
        {
          "output_type": "stream",
          "text": [
            "loss=0.09809538722038269 batch_id=731: 100%|██████████| 732/732 [00:15<00:00, 47.50it/s]\n",
            "  0%|          | 0/732 [00:00<?, ?it/s]"
          ],
          "name": "stderr"
        },
        {
          "output_type": "stream",
          "text": [
            "\n",
            "Epoch: 9 Train set: Average loss: 0.0015, Accuracy: 97.388%\n",
            "Epoch: 9 Test set: Average loss: 0.0422, Accuracy: 98.690%\n",
            "Epoch: 9 Optimizer values: LastLR:0.0250000000, Momentum: 0.9000000000, Weight Decay: 0.0006905824\n"
          ],
          "name": "stdout"
        },
        {
          "output_type": "stream",
          "text": [
            "loss=0.079933300614357 batch_id=731: 100%|██████████| 732/732 [00:15<00:00, 47.55it/s]\n",
            "  0%|          | 0/732 [00:00<?, ?it/s]"
          ],
          "name": "stderr"
        },
        {
          "output_type": "stream",
          "text": [
            "\n",
            "Epoch: 10 Train set: Average loss: 0.0013, Accuracy: 97.888%\n",
            "Epoch: 10 Test set: Average loss: 0.0283, Accuracy: 99.080%\n",
            "Epoch: 10 Optimizer values: LastLR:0.0125000000, Momentum: 0.9000000000, Weight Decay: 0.0006905824\n"
          ],
          "name": "stdout"
        },
        {
          "output_type": "stream",
          "text": [
            "loss=0.09407961368560791 batch_id=731: 100%|██████████| 732/732 [00:15<00:00, 47.64it/s]\n",
            "  0%|          | 0/732 [00:00<?, ?it/s]"
          ],
          "name": "stderr"
        },
        {
          "output_type": "stream",
          "text": [
            "\n",
            "Epoch: 11 Train set: Average loss: 0.0012, Accuracy: 97.970%\n",
            "Epoch: 11 Test set: Average loss: 0.0369, Accuracy: 98.770%\n",
            "Epoch: 11 Optimizer values: LastLR:0.0125000000, Momentum: 0.9000000000, Weight Decay: 0.0006905824\n"
          ],
          "name": "stdout"
        },
        {
          "output_type": "stream",
          "text": [
            "loss=0.05824456736445427 batch_id=731: 100%|██████████| 732/732 [00:15<00:00, 48.01it/s]\n",
            "  0%|          | 0/732 [00:00<?, ?it/s]"
          ],
          "name": "stderr"
        },
        {
          "output_type": "stream",
          "text": [
            "\n",
            "Epoch: 12 Train set: Average loss: 0.0011, Accuracy: 98.205%\n",
            "Epoch: 12 Test set: Average loss: 0.0256, Accuracy: 99.190%\n",
            "Epoch: 12 Optimizer values: LastLR:0.0062500000, Momentum: 0.9000000000, Weight Decay: 0.0006905824\n"
          ],
          "name": "stdout"
        },
        {
          "output_type": "stream",
          "text": [
            "loss=0.11556597054004669 batch_id=731: 100%|██████████| 732/732 [00:15<00:00, 46.98it/s]\n",
            "  0%|          | 0/732 [00:00<?, ?it/s]"
          ],
          "name": "stderr"
        },
        {
          "output_type": "stream",
          "text": [
            "\n",
            "Epoch: 13 Train set: Average loss: 0.0011, Accuracy: 98.308%\n",
            "Epoch: 13 Test set: Average loss: 0.0249, Accuracy: 99.230%\n",
            "Epoch: 13 Optimizer values: LastLR:0.0062500000, Momentum: 0.9000000000, Weight Decay: 0.0006905824\n"
          ],
          "name": "stdout"
        },
        {
          "output_type": "stream",
          "text": [
            "loss=0.03842206299304962 batch_id=731: 100%|██████████| 732/732 [00:15<00:00, 47.40it/s]\n",
            "  0%|          | 0/732 [00:00<?, ?it/s]"
          ],
          "name": "stderr"
        },
        {
          "output_type": "stream",
          "text": [
            "\n",
            "Epoch: 14 Train set: Average loss: 0.0010, Accuracy: 98.482%\n",
            "Epoch: 14 Test set: Average loss: 0.0210, Accuracy: 99.390%\n",
            "Epoch: 14 Optimizer values: LastLR:0.0031250000, Momentum: 0.9000000000, Weight Decay: 0.0006905824\n"
          ],
          "name": "stdout"
        },
        {
          "output_type": "stream",
          "text": [
            "loss=0.1638377159833908 batch_id=731: 100%|██████████| 732/732 [00:15<00:00, 47.88it/s]\n",
            "  0%|          | 0/732 [00:00<?, ?it/s]"
          ],
          "name": "stderr"
        },
        {
          "output_type": "stream",
          "text": [
            "\n",
            "Epoch: 15 Train set: Average loss: 0.0010, Accuracy: 98.425%\n",
            "Epoch: 15 Test set: Average loss: 0.0213, Accuracy: 99.350%\n",
            "Epoch: 15 Optimizer values: LastLR:0.0031250000, Momentum: 0.9000000000, Weight Decay: 0.0006905824\n"
          ],
          "name": "stdout"
        },
        {
          "output_type": "stream",
          "text": [
            "loss=0.07531145960092545 batch_id=731: 100%|██████████| 732/732 [00:15<00:00, 47.80it/s]\n",
            "  0%|          | 0/732 [00:00<?, ?it/s]"
          ],
          "name": "stderr"
        },
        {
          "output_type": "stream",
          "text": [
            "\n",
            "Epoch: 16 Train set: Average loss: 0.0009, Accuracy: 98.552%\n",
            "Epoch: 16 Test set: Average loss: 0.0226, Accuracy: 99.270%\n",
            "Epoch: 16 Optimizer values: LastLR:0.0015625000, Momentum: 0.9000000000, Weight Decay: 0.0006905824\n"
          ],
          "name": "stdout"
        },
        {
          "output_type": "stream",
          "text": [
            "loss=0.1286616027355194 batch_id=731: 100%|██████████| 732/732 [00:14<00:00, 48.89it/s]\n",
            "  0%|          | 0/732 [00:00<?, ?it/s]"
          ],
          "name": "stderr"
        },
        {
          "output_type": "stream",
          "text": [
            "\n",
            "Epoch: 17 Train set: Average loss: 0.0009, Accuracy: 98.623%\n",
            "Epoch: 17 Test set: Average loss: 0.0207, Accuracy: 99.330%\n",
            "Epoch: 17 Optimizer values: LastLR:0.0015625000, Momentum: 0.9000000000, Weight Decay: 0.0006905824\n"
          ],
          "name": "stdout"
        },
        {
          "output_type": "stream",
          "text": [
            "loss=0.05378338694572449 batch_id=731: 100%|██████████| 732/732 [00:15<00:00, 48.05it/s]\n",
            "  0%|          | 0/732 [00:00<?, ?it/s]"
          ],
          "name": "stderr"
        },
        {
          "output_type": "stream",
          "text": [
            "\n",
            "Epoch: 18 Train set: Average loss: 0.0009, Accuracy: 98.602%\n",
            "Epoch: 18 Test set: Average loss: 0.0191, Accuracy: 99.370%\n",
            "Epoch: 18 Optimizer values: LastLR:0.0007812500, Momentum: 0.9000000000, Weight Decay: 0.0006905824\n"
          ],
          "name": "stdout"
        },
        {
          "output_type": "stream",
          "text": [
            "loss=0.03771825134754181 batch_id=731: 100%|██████████| 732/732 [00:15<00:00, 47.82it/s]\n",
            "  0%|          | 0/732 [00:00<?, ?it/s]"
          ],
          "name": "stderr"
        },
        {
          "output_type": "stream",
          "text": [
            "\n",
            "Epoch: 19 Train set: Average loss: 0.0009, Accuracy: 98.592%\n",
            "Epoch: 19 Test set: Average loss: 0.0201, Accuracy: 99.360%\n",
            "Epoch: 19 Optimizer values: LastLR:0.0007812500, Momentum: 0.9000000000, Weight Decay: 0.0006905824\n"
          ],
          "name": "stdout"
        },
        {
          "output_type": "stream",
          "text": [
            "loss=0.0700715035200119 batch_id=731: 100%|██████████| 732/732 [00:15<00:00, 46.48it/s]\n",
            "  0%|          | 0/732 [00:00<?, ?it/s]"
          ],
          "name": "stderr"
        },
        {
          "output_type": "stream",
          "text": [
            "\n",
            "Epoch: 20 Train set: Average loss: 0.0009, Accuracy: 98.640%\n",
            "Epoch: 20 Test set: Average loss: 0.0202, Accuracy: 99.370%\n",
            "Epoch: 20 Optimizer values: LastLR:0.0003906250, Momentum: 0.9000000000, Weight Decay: 0.0006905824\n"
          ],
          "name": "stdout"
        },
        {
          "output_type": "stream",
          "text": [
            "loss=0.0354553684592247 batch_id=731: 100%|██████████| 732/732 [00:15<00:00, 46.79it/s]\n",
            "  0%|          | 0/732 [00:00<?, ?it/s]"
          ],
          "name": "stderr"
        },
        {
          "output_type": "stream",
          "text": [
            "\n",
            "Epoch: 21 Train set: Average loss: 0.0009, Accuracy: 98.703%\n",
            "Epoch: 21 Test set: Average loss: 0.0196, Accuracy: 99.370%\n",
            "Epoch: 21 Optimizer values: LastLR:0.0003906250, Momentum: 0.9000000000, Weight Decay: 0.0006905824\n"
          ],
          "name": "stdout"
        },
        {
          "output_type": "stream",
          "text": [
            "loss=0.26731061935424805 batch_id=731: 100%|██████████| 732/732 [00:15<00:00, 47.77it/s]\n",
            "  0%|          | 0/732 [00:00<?, ?it/s]"
          ],
          "name": "stderr"
        },
        {
          "output_type": "stream",
          "text": [
            "\n",
            "Epoch: 22 Train set: Average loss: 0.0009, Accuracy: 98.688%\n",
            "Epoch: 22 Test set: Average loss: 0.0200, Accuracy: 99.350%\n",
            "Epoch: 22 Optimizer values: LastLR:0.0001953125, Momentum: 0.9000000000, Weight Decay: 0.0006905824\n"
          ],
          "name": "stdout"
        },
        {
          "output_type": "stream",
          "text": [
            "loss=0.0309272650629282 batch_id=731: 100%|██████████| 732/732 [00:15<00:00, 48.13it/s]\n",
            "  0%|          | 0/732 [00:00<?, ?it/s]"
          ],
          "name": "stderr"
        },
        {
          "output_type": "stream",
          "text": [
            "\n",
            "Epoch: 23 Train set: Average loss: 0.0009, Accuracy: 98.673%\n",
            "Epoch: 23 Test set: Average loss: 0.0191, Accuracy: 99.350%\n",
            "Epoch: 23 Optimizer values: LastLR:0.0001953125, Momentum: 0.9000000000, Weight Decay: 0.0006905824\n"
          ],
          "name": "stdout"
        },
        {
          "output_type": "stream",
          "text": [
            "loss=0.03630741685628891 batch_id=731: 100%|██████████| 732/732 [00:15<00:00, 46.55it/s]\n",
            "  0%|          | 0/732 [00:00<?, ?it/s]"
          ],
          "name": "stderr"
        },
        {
          "output_type": "stream",
          "text": [
            "\n",
            "Epoch: 24 Train set: Average loss: 0.0009, Accuracy: 98.623%\n",
            "Epoch: 24 Test set: Average loss: 0.0193, Accuracy: 99.330%\n",
            "Epoch: 24 Optimizer values: LastLR:0.0000976563, Momentum: 0.9000000000, Weight Decay: 0.0006905824\n"
          ],
          "name": "stdout"
        },
        {
          "output_type": "stream",
          "text": [
            "loss=0.08366179466247559 batch_id=731: 100%|██████████| 732/732 [00:15<00:00, 46.96it/s]\n",
            "  0%|          | 0/732 [00:00<?, ?it/s]"
          ],
          "name": "stderr"
        },
        {
          "output_type": "stream",
          "text": [
            "\n",
            "Epoch: 25 Train set: Average loss: 0.0009, Accuracy: 98.595%\n",
            "Epoch: 25 Test set: Average loss: 0.0197, Accuracy: 99.330%\n",
            "Epoch: 25 Optimizer values: LastLR:0.0000976563, Momentum: 0.9000000000, Weight Decay: 0.0006905824\n"
          ],
          "name": "stdout"
        },
        {
          "output_type": "stream",
          "text": [
            "loss=0.181778684258461 batch_id=731: 100%|██████████| 732/732 [00:15<00:00, 47.35it/s]\n",
            "  0%|          | 0/732 [00:00<?, ?it/s]"
          ],
          "name": "stderr"
        },
        {
          "output_type": "stream",
          "text": [
            "\n",
            "Epoch: 26 Train set: Average loss: 0.0009, Accuracy: 98.717%\n",
            "Epoch: 26 Test set: Average loss: 0.0196, Accuracy: 99.390%\n",
            "Epoch: 26 Optimizer values: LastLR:0.0000488281, Momentum: 0.9000000000, Weight Decay: 0.0006905824\n"
          ],
          "name": "stdout"
        },
        {
          "output_type": "stream",
          "text": [
            "loss=0.037034325301647186 batch_id=731: 100%|██████████| 732/732 [00:15<00:00, 48.32it/s]\n",
            "  0%|          | 0/732 [00:00<?, ?it/s]"
          ],
          "name": "stderr"
        },
        {
          "output_type": "stream",
          "text": [
            "\n",
            "Epoch: 27 Train set: Average loss: 0.0009, Accuracy: 98.638%\n",
            "Epoch: 27 Test set: Average loss: 0.0199, Accuracy: 99.350%\n",
            "Epoch: 27 Optimizer values: LastLR:0.0000488281, Momentum: 0.9000000000, Weight Decay: 0.0006905824\n"
          ],
          "name": "stdout"
        },
        {
          "output_type": "stream",
          "text": [
            "loss=0.04289109632372856 batch_id=731: 100%|██████████| 732/732 [00:15<00:00, 48.16it/s]\n",
            "  0%|          | 0/732 [00:00<?, ?it/s]"
          ],
          "name": "stderr"
        },
        {
          "output_type": "stream",
          "text": [
            "\n",
            "Epoch: 28 Train set: Average loss: 0.0009, Accuracy: 98.658%\n",
            "Epoch: 28 Test set: Average loss: 0.0198, Accuracy: 99.370%\n",
            "Epoch: 28 Optimizer values: LastLR:0.0000244141, Momentum: 0.9000000000, Weight Decay: 0.0006905824\n"
          ],
          "name": "stdout"
        },
        {
          "output_type": "stream",
          "text": [
            "loss=0.06818079203367233 batch_id=731: 100%|██████████| 732/732 [00:15<00:00, 47.30it/s]\n",
            "  0%|          | 0/732 [00:00<?, ?it/s]"
          ],
          "name": "stderr"
        },
        {
          "output_type": "stream",
          "text": [
            "\n",
            "Epoch: 29 Train set: Average loss: 0.0009, Accuracy: 98.695%\n",
            "Epoch: 29 Test set: Average loss: 0.0194, Accuracy: 99.400%\n",
            "Epoch: 29 Optimizer values: LastLR:0.0000244141, Momentum: 0.9000000000, Weight Decay: 0.0006905824\n"
          ],
          "name": "stdout"
        },
        {
          "output_type": "stream",
          "text": [
            "loss=0.03816802054643631 batch_id=731: 100%|██████████| 732/732 [00:15<00:00, 47.70it/s]\n",
            "  0%|          | 0/732 [00:00<?, ?it/s]"
          ],
          "name": "stderr"
        },
        {
          "output_type": "stream",
          "text": [
            "\n",
            "Epoch: 30 Train set: Average loss: 0.0009, Accuracy: 98.633%\n",
            "Epoch: 30 Test set: Average loss: 0.0198, Accuracy: 99.390%\n",
            "Epoch: 30 Optimizer values: LastLR:0.0000122070, Momentum: 0.9000000000, Weight Decay: 0.0006905824\n"
          ],
          "name": "stdout"
        },
        {
          "output_type": "stream",
          "text": [
            "loss=0.05487098917365074 batch_id=731: 100%|██████████| 732/732 [00:15<00:00, 47.27it/s]\n",
            "  0%|          | 0/732 [00:00<?, ?it/s]"
          ],
          "name": "stderr"
        },
        {
          "output_type": "stream",
          "text": [
            "\n",
            "Epoch: 31 Train set: Average loss: 0.0009, Accuracy: 98.643%\n",
            "Epoch: 31 Test set: Average loss: 0.0193, Accuracy: 99.360%\n",
            "Epoch: 31 Optimizer values: LastLR:0.0000122070, Momentum: 0.9000000000, Weight Decay: 0.0006905824\n"
          ],
          "name": "stdout"
        },
        {
          "output_type": "stream",
          "text": [
            "loss=0.08389043062925339 batch_id=731: 100%|██████████| 732/732 [00:15<00:00, 47.52it/s]\n",
            "  0%|          | 0/732 [00:00<?, ?it/s]"
          ],
          "name": "stderr"
        },
        {
          "output_type": "stream",
          "text": [
            "\n",
            "Epoch: 32 Train set: Average loss: 0.0009, Accuracy: 98.663%\n",
            "Epoch: 32 Test set: Average loss: 0.0199, Accuracy: 99.360%\n",
            "Epoch: 32 Optimizer values: LastLR:0.0000061035, Momentum: 0.9000000000, Weight Decay: 0.0006905824\n"
          ],
          "name": "stdout"
        },
        {
          "output_type": "stream",
          "text": [
            "loss=0.04287700355052948 batch_id=731: 100%|██████████| 732/732 [00:15<00:00, 47.82it/s]\n",
            "  0%|          | 0/732 [00:00<?, ?it/s]"
          ],
          "name": "stderr"
        },
        {
          "output_type": "stream",
          "text": [
            "\n",
            "Epoch: 33 Train set: Average loss: 0.0009, Accuracy: 98.678%\n",
            "Epoch: 33 Test set: Average loss: 0.0197, Accuracy: 99.370%\n",
            "Epoch: 33 Optimizer values: LastLR:0.0000061035, Momentum: 0.9000000000, Weight Decay: 0.0006905824\n"
          ],
          "name": "stdout"
        },
        {
          "output_type": "stream",
          "text": [
            "loss=0.06504464149475098 batch_id=731: 100%|██████████| 732/732 [00:15<00:00, 47.15it/s]\n",
            "  0%|          | 0/732 [00:00<?, ?it/s]"
          ],
          "name": "stderr"
        },
        {
          "output_type": "stream",
          "text": [
            "\n",
            "Epoch: 34 Train set: Average loss: 0.0009, Accuracy: 98.695%\n",
            "Epoch: 34 Test set: Average loss: 0.0196, Accuracy: 99.400%\n",
            "Epoch: 34 Optimizer values: LastLR:0.0000030518, Momentum: 0.9000000000, Weight Decay: 0.0006905824\n"
          ],
          "name": "stdout"
        },
        {
          "output_type": "stream",
          "text": [
            "loss=0.04374547302722931 batch_id=731: 100%|██████████| 732/732 [00:15<00:00, 46.31it/s]\n",
            "  0%|          | 0/732 [00:00<?, ?it/s]"
          ],
          "name": "stderr"
        },
        {
          "output_type": "stream",
          "text": [
            "\n",
            "Epoch: 35 Train set: Average loss: 0.0009, Accuracy: 98.712%\n",
            "Epoch: 35 Test set: Average loss: 0.0194, Accuracy: 99.380%\n",
            "Epoch: 35 Optimizer values: LastLR:0.0000030518, Momentum: 0.9000000000, Weight Decay: 0.0006905824\n"
          ],
          "name": "stdout"
        },
        {
          "output_type": "stream",
          "text": [
            "loss=0.0682189092040062 batch_id=731: 100%|██████████| 732/732 [00:15<00:00, 47.06it/s]\n",
            "  0%|          | 0/732 [00:00<?, ?it/s]"
          ],
          "name": "stderr"
        },
        {
          "output_type": "stream",
          "text": [
            "\n",
            "Epoch: 36 Train set: Average loss: 0.0009, Accuracy: 98.598%\n",
            "Epoch: 36 Test set: Average loss: 0.0195, Accuracy: 99.380%\n",
            "Epoch: 36 Optimizer values: LastLR:0.0000015259, Momentum: 0.9000000000, Weight Decay: 0.0006905824\n"
          ],
          "name": "stdout"
        },
        {
          "output_type": "stream",
          "text": [
            "loss=0.046048976480960846 batch_id=731: 100%|██████████| 732/732 [00:15<00:00, 47.40it/s]\n",
            "  0%|          | 0/732 [00:00<?, ?it/s]"
          ],
          "name": "stderr"
        },
        {
          "output_type": "stream",
          "text": [
            "\n",
            "Epoch: 37 Train set: Average loss: 0.0009, Accuracy: 98.693%\n",
            "Epoch: 37 Test set: Average loss: 0.0198, Accuracy: 99.390%\n",
            "Epoch: 37 Optimizer values: LastLR:0.0000015259, Momentum: 0.9000000000, Weight Decay: 0.0006905824\n"
          ],
          "name": "stdout"
        },
        {
          "output_type": "stream",
          "text": [
            "loss=0.06644713133573532 batch_id=731: 100%|██████████| 732/732 [00:15<00:00, 46.22it/s]\n",
            "  0%|          | 0/732 [00:00<?, ?it/s]"
          ],
          "name": "stderr"
        },
        {
          "output_type": "stream",
          "text": [
            "\n",
            "Epoch: 38 Train set: Average loss: 0.0009, Accuracy: 98.680%\n",
            "Epoch: 38 Test set: Average loss: 0.0200, Accuracy: 99.400%\n",
            "Epoch: 38 Optimizer values: LastLR:0.0000007629, Momentum: 0.9000000000, Weight Decay: 0.0006905824\n"
          ],
          "name": "stdout"
        },
        {
          "output_type": "stream",
          "text": [
            "loss=0.05900648981332779 batch_id=731: 100%|██████████| 732/732 [00:15<00:00, 47.08it/s]\n",
            "  0%|          | 0/732 [00:00<?, ?it/s]"
          ],
          "name": "stderr"
        },
        {
          "output_type": "stream",
          "text": [
            "\n",
            "Epoch: 39 Train set: Average loss: 0.0009, Accuracy: 98.650%\n",
            "Epoch: 39 Test set: Average loss: 0.0203, Accuracy: 99.360%\n",
            "Epoch: 39 Optimizer values: LastLR:0.0000007629, Momentum: 0.9000000000, Weight Decay: 0.0006905824\n"
          ],
          "name": "stdout"
        },
        {
          "output_type": "stream",
          "text": [
            "loss=0.05257128179073334 batch_id=731: 100%|██████████| 732/732 [00:15<00:00, 47.22it/s]\n"
          ],
          "name": "stderr"
        },
        {
          "output_type": "stream",
          "text": [
            "\n",
            "Epoch: 40 Train set: Average loss: 0.0009, Accuracy: 98.670%\n",
            "Epoch: 40 Test set: Average loss: 0.0204, Accuracy: 99.350%\n",
            "Epoch: 40 Optimizer values: LastLR:0.0000003815, Momentum: 0.9000000000, Weight Decay: 0.0006905824\n"
          ],
          "name": "stdout"
        }
      ]
    },
    {
      "cell_type": "code",
      "metadata": {
        "id": "v_MrQKAHGRVn",
        "colab_type": "code",
        "colab": {}
      },
      "source": [
        "%matplotlib inline\n",
        "import matplotlib.pyplot as plt"
      ],
      "execution_count": 0,
      "outputs": []
    },
    {
      "cell_type": "code",
      "metadata": {
        "id": "EPxqrKVAHcUD",
        "colab_type": "code",
        "colab": {}
      },
      "source": [
        "\"\"\"\n",
        "    Plots required graphs.\n",
        "    df_array: array of dataframes\n",
        "    legend_arr: list of the labels for each element of the df_array\n",
        "    xlabel: x-axis label to be appended to the graph\n",
        "    ylabel: y-axis label to be appended to the graph\n",
        "\"\"\"\n",
        "\n",
        "def plot_graphs(df_array, legend_arr, xlabel=\"Epochs\", ylabel=\"Accuracy\"):\n",
        "    fig, ax = plt.subplots(figsize=(15, 6))\n",
        "    for i in range(len(df_array)):\n",
        "        ax.plot(range(40),\n",
        "            df_array[i])\n",
        "    ax.set(xlabel=xlabel, ylabel=ylabel)\n",
        "    ax.legend(legend_arr)\n",
        "    plt.show()"
      ],
      "execution_count": 0,
      "outputs": []
    },
    {
      "cell_type": "markdown",
      "metadata": {
        "id": "WMbx63wfnl-X",
        "colab_type": "text"
      },
      "source": [
        "# Test Accuracy for all models"
      ]
    },
    {
      "cell_type": "code",
      "metadata": {
        "colab_type": "code",
        "outputId": "8555fb42-01e6-407a-861c-1d9320c1be8a",
        "id": "YBz-ugHRSnpJ",
        "colab": {
          "base_uri": "https://localhost:8080/",
          "height": 390
        }
      },
      "source": [
        "plot_graphs([Baseline_Model_Metrics['Test Accuracy'], Baseline_l1_Model_Metrics['Test Accuracy'], Baseline_l2_Model_Metrics['Test Accuracy'], Baseline_l1l2_Model_Metrics['Test Accuracy'] ],\n",
        "            ['Base Run', 'Base+L1', 'Base+L2', 'Base+L1+L2'],\n",
        "            xlabel=\"Epochs\",\n",
        "            ylabel=\"Validation Accuracy\")"
      ],
      "execution_count": 32,
      "outputs": [
        {
          "output_type": "display_data",
          "data": {
            "image/png": "[encoded data removed]",
            "text/plain": [
              "<Figure size 1080x432 with 1 Axes>"
            ]
          },
          "metadata": {
            "tags": []
          }
        }
      ]
    },
    {
      "cell_type": "markdown",
      "metadata": {
        "id": "c0uI94JfnYbF",
        "colab_type": "text"
      },
      "source": [
        "# Test Loss for all models"
      ]
    },
    {
      "cell_type": "code",
      "metadata": {
        "colab_type": "code",
        "outputId": "668b4dad-d54c-4f27-f6d8-27e480486147",
        "id": "BzRJy2m6SnpN",
        "colab": {
          "base_uri": "https://localhost:8080/",
          "height": 388
        }
      },
      "source": [
        "plot_graphs([Baseline_Model_Metrics['Test Loss'], Baseline_l1_Model_Metrics['Test Loss'], Baseline_l2_Model_Metrics['Test Loss'], Baseline_l1l2_Model_Metrics['Test Loss'] ],\n",
        "            ['Base Run', 'Base+L1', 'Base+L2', 'Base+L1+L2'],\n",
        "            xlabel=\"Epochs\",\n",
        "            ylabel=\"Validation Loss\")"
      ],
      "execution_count": 34,
      "outputs": [
        {
          "output_type": "display_data",
          "data": {
            "image/png": "[encoded data removed]",
            "text/plain": [
              "<Figure size 1080x432 with 1 Axes>"
            ]
          },
          "metadata": {
            "tags": []
          }
        }
      ]
    },
    {
      "cell_type": "markdown",
      "metadata": {
        "id": "3wruFSBInOtL",
        "colab_type": "text"
      },
      "source": [
        "# Train Accuracy for all models"
      ]
    },
    {
      "cell_type": "code",
      "metadata": {
        "colab_type": "code",
        "outputId": "bd1610a3-4ba5-41b6-c798-9e474727b5ad",
        "id": "yc9n3Z58SnpQ",
        "colab": {
          "base_uri": "https://localhost:8080/",
          "height": 388
        }
      },
      "source": [
        "plot_graphs([Baseline_Model_Metrics['Train Accuracy'], Baseline_l1_Model_Metrics['Train Accuracy'], Baseline_l2_Model_Metrics['Train Accuracy'], Baseline_l1l2_Model_Metrics['Train Accuracy'] ],\n",
        "            ['Base Run', 'Base+L1', 'Base+L2', 'Base+L1+L2'],\n",
        "            xlabel=\"Epochs\",\n",
        "            ylabel=\"Train Acc\")"
      ],
      "execution_count": 35,
      "outputs": [
        {
          "output_type": "display_data",
          "data": {
            "image/png": "[encoded data removed]",
            "text/plain": [
              "<Figure size 1080x432 with 1 Axes>"
            ]
          },
          "metadata": {
            "tags": []
          }
        }
      ]
    },
    {
      "cell_type": "markdown",
      "metadata": {
        "id": "QVOpqVftnFnR",
        "colab_type": "text"
      },
      "source": [
        "# Train Loss for all Models"
      ]
    },
    {
      "cell_type": "code",
      "metadata": {
        "colab_type": "code",
        "outputId": "c0be4810-3bee-47c6-9f89-5da3980062c4",
        "id": "9AfOEvF2SnpT",
        "colab": {
          "base_uri": "https://localhost:8080/",
          "height": 388
        }
      },
      "source": [
        "plot_graphs([Baseline_Model_Metrics['Train Loss'], Baseline_l1_Model_Metrics['Train Loss'], Baseline_l2_Model_Metrics['Train Loss'], Baseline_l1l2_Model_Metrics['Train Loss'] ],\n",
        "            ['Base Run', 'Base+L1', 'Base+L2', 'Base+L1+L2'],\n",
        "            xlabel=\"Epochs\",\n",
        "            ylabel=\"Train Loss\")"
      ],
      "execution_count": 36,
      "outputs": [
        {
          "output_type": "display_data",
          "data": {
            "image/png": "[encoded data removed]",
            "text/plain": [
              "<Figure size 1080x432 with 1 Axes>"
            ]
          },
          "metadata": {
            "tags": []
          }
        }
      ]
    },
    {
      "cell_type": "markdown",
      "metadata": {
        "colab_type": "text",
        "id": "jCc6UxnjtgzA"
      },
      "source": [
        "# Misclassified images"
      ]
    },
    {
      "cell_type": "code",
      "metadata": {
        "id": "yzzeadMZAxd3",
        "colab_type": "code",
        "colab": {}
      },
      "source": [
        "def plot_misclassified(args, model, device, test_loader,epoch_number):\n",
        "    model.eval()\n",
        "    test_loss = 0\n",
        "    correct = 0\n",
        "    preds = np.array([])\n",
        "    actuals = np.array([])\n",
        "    error_images = []\n",
        "    total_misclassified = 0\n",
        "    total_rounds = 0\n",
        "    with torch.no_grad():\n",
        "        for data, target in test_loader:\n",
        "            #print(len(data))\n",
        "            data, target = data.to(device), target.to(device)\n",
        "            output = model(data)\n",
        "            test_loss += F.nll_loss(output, target, reduction='sum').item()  # sum up batch loss\n",
        "            pred = output.argmax(dim=1, keepdim=True)  # get the index of the max log-probability\n",
        "            correct += pred.eq(target.view_as(pred)).sum().item()\n",
        "            orig_labels = target.cpu().numpy()\n",
        "            pred_labels = pred.squeeze().cpu().numpy()\n",
        "            mislabeled_index = np.where(orig_labels != pred_labels)[0]\n",
        "            total_rounds+=1\n",
        "            if (mislabeled_index.shape[0] > 0):\n",
        "                for iCount in range(len(mislabeled_index)):            \n",
        "                    offset = mislabeled_index[iCount]\n",
        "                    error_images.append(data[offset].cpu().numpy().squeeze())\n",
        "                    preds=np.append(preds, pred_labels[offset])\n",
        "                    actuals = np.append(actuals, orig_labels[offset])\n",
        "                    total_misclassified += 1\n",
        "    test_loss /= len(test_loader.dataset)\n",
        "    test_accuracy = (100. * correct) / len(test_loader.dataset)\n",
        "    print((total_misclassified))\n",
        "    print(preds.shape)\n",
        "\n",
        "    fig = plt.figure(figsize=(10,10))\n",
        "    for idx in np.arange(25):\n",
        "        ax = fig.add_subplot(5, 5, idx+1, xticks=[], yticks=[])\n",
        "        plt.imshow(error_images[idx], cmap='gray_r')\n",
        "        ax.set(ylabel=\"Pred=\"+str(np.int(preds[idx])), xlabel=\"Actual=\"+str(np.int(actuals[idx])))\n",
        "\n",
        "    return test_accuracy, test_loss, None"
      ],
      "execution_count": 0,
      "outputs": []
    },
    {
      "cell_type": "code",
      "metadata": {
        "id": "jatKB_vVJZHR",
        "colab_type": "code",
        "outputId": "7a5c1966-f282-4ecb-b90a-535683efcdb6",
        "colab": {
          "base_uri": "https://localhost:8080/",
          "height": 34
        }
      },
      "source": [
        "kwargs_2 = {'num_workers': 4, 'pin_memory': True} if use_cuda else {}\n",
        "train_loader_2 = torch.utils.data.DataLoader(\n",
        "    datasets.MNIST('../data', train=True, download=True,\n",
        "                    transform=train_transforms),\n",
        "    batch_size=config['batch_size'], shuffle=True, **kwargs_2)\n",
        "test_loader_2 = torch.utils.data.DataLoader(\n",
        "        datasets.MNIST('../data', train=False, transform=test_transforms),\n",
        "        batch_size=config['batch_size'], shuffle=False, **kwargs_2)\n",
        "\n",
        "len(train_loader_2),len(test_loader_2)"
      ],
      "execution_count": 38,
      "outputs": [
        {
          "output_type": "execute_result",
          "data": {
            "text/plain": [
              "(732, 122)"
            ]
          },
          "metadata": {
            "tags": []
          },
          "execution_count": 38
        }
      ]
    },
    {
      "cell_type": "code",
      "metadata": {
        "id": "PbXSBpZpROMk",
        "colab_type": "code",
        "colab": {}
      },
      "source": [
        "BASE_MODEL=\"/content/EVA4/model-baseline.h5\"\n",
        "L2_MODEL=\"/content/EVA4/model-baseline_l2.h5\"\n",
        "L1_MODEL=\"/content/EVA4/model-baseline_l1.h5\"\n",
        "L1L2_MODEL=\"/content/EVA4/model-baseline_l1l2.h5\""
      ],
      "execution_count": 0,
      "outputs": []
    },
    {
      "cell_type": "markdown",
      "metadata": {
        "id": "KmdgS7vbR9KR",
        "colab_type": "text"
      },
      "source": [
        "# Misclassified images with L1 & L2 Model "
      ]
    },
    {
      "cell_type": "code",
      "metadata": {
        "id": "mzcejqwdMIAG",
        "colab_type": "code",
        "colab": {}
      },
      "source": [
        "my_model = model_builder(MNISTDigitBuilder, \n",
        "                      weights_path=L1L2_MODEL,\n",
        "                      local_device=device)"
      ],
      "execution_count": 0,
      "outputs": []
    },
    {
      "cell_type": "code",
      "metadata": {
        "id": "o4w8QZFRMYaQ",
        "colab_type": "code",
        "outputId": "d6621fe3-5d1d-474c-cf8b-b8687e77c9cd",
        "colab": {
          "base_uri": "https://localhost:8080/",
          "height": 640
        }
      },
      "source": [
        "type(my_model)\n",
        "epoch_test_acc,epoch_test_loss,preds = plot_misclassified(config, my_model, device, test_loader_2,1)\n",
        "print(epoch_test_acc,epoch_test_loss)\n",
        "#print(preds)"
      ],
      "execution_count": 41,
      "outputs": [
        {
          "output_type": "stream",
          "text": [
            "65\n",
            "(65,)\n",
            "99.35 0.022184726095199586\n"
          ],
          "name": "stdout"
        },
        {
          "output_type": "display_data",
          "data": {
            "image/png": "[encoded data removed]",
            "text/plain": [
              "<Figure size 720x720 with 25 Axes>"
            ]
          },
          "metadata": {
            "tags": []
          }
        }
      ]
    },
    {
      "cell_type": "markdown",
      "metadata": {
        "colab_type": "text",
        "id": "EikgCIplSMaV"
      },
      "source": [
        "# Misclassified images with L1 Model "
      ]
    },
    {
      "cell_type": "code",
      "metadata": {
        "id": "S6BJp3j6uLEh",
        "colab_type": "code",
        "colab": {}
      },
      "source": [
        "my_model = model_builder(MNISTDigitBuilder, \n",
        "                      weights_path=L1_MODEL,\n",
        "                      local_device=device)\n"
      ],
      "execution_count": 0,
      "outputs": []
    },
    {
      "cell_type": "code",
      "metadata": {
        "id": "XfsP6MVARWqW",
        "colab_type": "code",
        "outputId": "ada366b4-492b-4e45-cc89-0856767f1049",
        "colab": {
          "base_uri": "https://localhost:8080/",
          "height": 640
        }
      },
      "source": [
        "epoch_test_acc,epoch_test_loss,preds = plot_misclassified(config, my_model, device, test_loader_2,1)\n",
        "print(epoch_test_acc,epoch_test_loss)\n",
        "#print(preds)"
      ],
      "execution_count": 43,
      "outputs": [
        {
          "output_type": "stream",
          "text": [
            "63\n",
            "(63,)\n",
            "99.37 0.02318731710910797\n"
          ],
          "name": "stdout"
        },
        {
          "output_type": "display_data",
          "data": {
            "image/png": "[encoded data removed]",
            "text/plain": [
              "<Figure size 720x720 with 25 Axes>"
            ]
          },
          "metadata": {
            "tags": []
          }
        }
      ]
    },
    {
      "cell_type": "markdown",
      "metadata": {
        "colab_type": "text",
        "id": "OWsG-F4GSUw8"
      },
      "source": [
        "# Misclassified images with L2 Model "
      ]
    },
    {
      "cell_type": "code",
      "metadata": {
        "id": "W-6bOwplRaqR",
        "colab_type": "code",
        "colab": {}
      },
      "source": [
        "my_model = model_builder(MNISTDigitBuilder, \n",
        "                      weights_path=L2_MODEL,\n",
        "                      local_device=device)"
      ],
      "execution_count": 0,
      "outputs": []
    },
    {
      "cell_type": "code",
      "metadata": {
        "id": "uNwJ5kkTR0Ko",
        "colab_type": "code",
        "outputId": "e9968a45-a0b4-4cd6-c255-3e07367f612d",
        "colab": {
          "base_uri": "https://localhost:8080/",
          "height": 640
        }
      },
      "source": [
        "epoch_test_acc,epoch_test_loss,preds = plot_misclassified(config, my_model, device, test_loader_2,1)\n",
        "print(epoch_test_acc,epoch_test_loss)\n",
        "#print(preds)"
      ],
      "execution_count": 45,
      "outputs": [
        {
          "output_type": "stream",
          "text": [
            "65\n",
            "(65,)\n",
            "99.35 0.020358983397483824\n"
          ],
          "name": "stdout"
        },
        {
          "output_type": "display_data",
          "data": {
            "image/png": "[encoded data removed]",
            "text/plain": [
              "<Figure size 720x720 with 25 Axes>"
            ]
          },
          "metadata": {
            "tags": []
          }
        }
      ]
    }
  ]
}